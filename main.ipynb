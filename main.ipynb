{
 "cells": [
  {
   "attachments": {},
   "cell_type": "markdown",
   "metadata": {},
   "source": [
    "# TXAI - Final Project\n",
    "\n",
    "**Students:** Victor Barreiro - Maximiliano Hormazábal"
   ]
  },
  {
   "attachments": {},
   "cell_type": "markdown",
   "metadata": {},
   "source": [
    "## Install dependencies\n",
    "\n",
    "*Install requirements.txt*\n",
    "\n",
    "## Import Dependencies"
   ]
  },
  {
   "cell_type": "code",
   "execution_count": 1,
   "metadata": {},
   "outputs": [],
   "source": [
    "#Import own functions\n",
    "from txai_utils import *\n",
    "\n",
    "# Libraries\n",
    "import time\n",
    "import pandas as pd\n",
    "import numpy as np\n",
    "import transformers\n",
    "import shap\n",
    "from transformers import AutoModelForSequenceClassification, AutoTokenizer\n",
    "from transformers import DataCollatorWithPadding, TrainingArguments, Trainer\n",
    "from datasets import load_dataset, Value, Features, ClassLabel, load_metric\n",
    "import torch\n",
    "import torch.nn as nn\n",
    "\n",
    "# To train an unbalanced model we have to overwrite the trainer class and create\n",
    "# a custom trainer that takes into account the unbalance (ratio between the classes)\n",
    "\n",
    "class CustomTrainer(Trainer):\n",
    "\n",
    "    def compute_loss(self, model, inputs, return_outputs=False):\n",
    "        labels = inputs.get(\"labels\")\n",
    "        # forward pass\n",
    "        outputs = model(**inputs)\n",
    "        logits = outputs.get('logits')\n",
    "        # compute custom loss\n",
    "        weights = torch.tensor(cw, dtype=torch.float32).to('cpu:0')\n",
    "        loss_fct = nn.CrossEntropyLoss(weight=weights)\n",
    "        loss = loss_fct(logits.view(-1, self.model.config.num_labels), labels.view(-1))\n",
    "        return (loss, outputs) if return_outputs else loss"
   ]
  },
  {
   "attachments": {},
   "cell_type": "markdown",
   "metadata": {},
   "source": [
    "## False Claims Model\n",
    "\n",
    "### Training a Distilbert-Base-Uncased"
   ]
  },
  {
   "cell_type": "code",
   "execution_count": 3,
   "metadata": {},
   "outputs": [
    {
     "name": "stderr",
     "output_type": "stream",
     "text": [
      "Found cached dataset csv (/Users/maxhormazabal/.cache/huggingface/datasets/csv/default-15a757d4b437eefc/0.0.0/6b34fb8fcf56f7c8ba51dc895bfa2bfbe43546f190a60fcf74bb5e8afdcc2317)\n"
     ]
    },
    {
     "data": {
      "application/vnd.jupyter.widget-view+json": {
       "model_id": "5a7336e27e0d4b769eafab14beb4e434",
       "version_major": 2,
       "version_minor": 0
      },
      "text/plain": [
       "  0%|          | 0/1 [00:00<?, ?it/s]"
      ]
     },
     "metadata": {},
     "output_type": "display_data"
    },
    {
     "name": "stderr",
     "output_type": "stream",
     "text": [
      "Loading cached shuffled indices for dataset at /Users/maxhormazabal/.cache/huggingface/datasets/csv/default-15a757d4b437eefc/0.0.0/6b34fb8fcf56f7c8ba51dc895bfa2bfbe43546f190a60fcf74bb5e8afdcc2317/cache-3ebdbf1548ea0df4.arrow\n"
     ]
    },
    {
     "data": {
      "application/vnd.jupyter.widget-view+json": {
       "model_id": "a14cb70fb5e041479e2a8c1d1cffb6ed",
       "version_major": 2,
       "version_minor": 0
      },
      "text/plain": [
       "Map:   0%|          | 0/748 [00:00<?, ? examples/s]"
      ]
     },
     "metadata": {},
     "output_type": "display_data"
    },
    {
     "data": {
      "application/vnd.jupyter.widget-view+json": {
       "model_id": "ef1d04558a4a4d1fae1caf4635de5932",
       "version_major": 2,
       "version_minor": 0
      },
      "text/plain": [
       "Map:   0%|          | 0/133 [00:00<?, ? examples/s]"
      ]
     },
     "metadata": {},
     "output_type": "display_data"
    },
    {
     "data": {
      "application/vnd.jupyter.widget-view+json": {
       "model_id": "fb4feb620ca0465e8816f8f93326911e",
       "version_major": 2,
       "version_minor": 0
      },
      "text/plain": [
       "Map:   0%|          | 0/748 [00:00<?, ? examples/s]"
      ]
     },
     "metadata": {},
     "output_type": "display_data"
    },
    {
     "data": {
      "application/vnd.jupyter.widget-view+json": {
       "model_id": "8ef472828d354ee99857f77258285f1e",
       "version_major": 2,
       "version_minor": 0
      },
      "text/plain": [
       "Map:   0%|          | 0/133 [00:00<?, ? examples/s]"
      ]
     },
     "metadata": {},
     "output_type": "display_data"
    },
    {
     "name": "stderr",
     "output_type": "stream",
     "text": [
      "Some weights of the model checkpoint at distilbert-base-uncased were not used when initializing DistilBertForSequenceClassification: ['vocab_projector.weight', 'vocab_layer_norm.bias', 'vocab_layer_norm.weight', 'vocab_transform.bias', 'vocab_transform.weight', 'vocab_projector.bias']\n",
      "- This IS expected if you are initializing DistilBertForSequenceClassification from the checkpoint of a model trained on another task or with another architecture (e.g. initializing a BertForSequenceClassification model from a BertForPreTraining model).\n",
      "- This IS NOT expected if you are initializing DistilBertForSequenceClassification from the checkpoint of a model that you expect to be exactly identical (initializing a BertForSequenceClassification model from a BertForSequenceClassification model).\n",
      "Some weights of DistilBertForSequenceClassification were not initialized from the model checkpoint at distilbert-base-uncased and are newly initialized: ['pre_classifier.weight', 'classifier.bias', 'classifier.weight', 'pre_classifier.bias']\n",
      "You should probably TRAIN this model on a down-stream task to be able to use it for predictions and inference.\n",
      "The following columns in the evaluation set don't have a corresponding argument in `DistilBertForSequenceClassification.forward` and have been ignored: claims. If claims are not expected by `DistilBertForSequenceClassification.forward`,  you can safely ignore this message.\n",
      "***** Running Evaluation *****\n",
      "  Num examples = 133\n",
      "  Batch size = 8\n",
      "You're using a DistilBertTokenizerFast tokenizer. Please note that with a fast tokenizer, using the `__call__` method is faster than using a method to encode the text followed by a call to the `pad` method to get a padded encoding.\n"
     ]
    },
    {
     "data": {
      "application/vnd.jupyter.widget-view+json": {
       "model_id": "a24fce3411ff4e96925cadff5667c2fe",
       "version_major": 2,
       "version_minor": 0
      },
      "text/plain": [
       "  0%|          | 0/17 [00:00<?, ?it/s]"
      ]
     },
     "metadata": {},
     "output_type": "display_data"
    },
    {
     "name": "stderr",
     "output_type": "stream",
     "text": [
      "load_metric is deprecated and will be removed in the next major version of datasets. Use 'evaluate.load' instead, from the new library 🤗 Evaluate: https://huggingface.co/docs/evaluate\n",
      "Trainer is attempting to log a value of \"[0.94023904 0.        ]\" of type <class 'numpy.ndarray'> for key \"eval/f1c\" as a scalar. This invocation of Tensorboard's writer.add_scalar() is incorrect so we dropped this attribute.\n",
      "The following columns in the training set don't have a corresponding argument in `DistilBertForSequenceClassification.forward` and have been ignored: claims. If claims are not expected by `DistilBertForSequenceClassification.forward`,  you can safely ignore this message.\n",
      "This implementation of AdamW is deprecated and will be removed in a future version. Use the PyTorch implementation torch.optim.AdamW instead, or set `no_deprecation_warning=True` to disable this warning\n",
      "***** Running training *****\n",
      "  Num examples = 748\n",
      "  Num Epochs = 5\n",
      "  Instantaneous batch size per device = 8\n",
      "  Total train batch size (w. parallel, distributed & accumulation) = 8\n",
      "  Gradient Accumulation steps = 1\n",
      "  Total optimization steps = 470\n",
      "  Number of trainable parameters = 66955010\n"
     ]
    },
    {
     "data": {
      "application/vnd.jupyter.widget-view+json": {
       "model_id": "1e84890bf19e428089df891d68577960",
       "version_major": 2,
       "version_minor": 0
      },
      "text/plain": [
       "  0%|          | 0/470 [00:00<?, ?it/s]"
      ]
     },
     "metadata": {},
     "output_type": "display_data"
    },
    {
     "name": "stderr",
     "output_type": "stream",
     "text": [
      "The following columns in the evaluation set don't have a corresponding argument in `DistilBertForSequenceClassification.forward` and have been ignored: claims. If claims are not expected by `DistilBertForSequenceClassification.forward`,  you can safely ignore this message.\n",
      "***** Running Evaluation *****\n",
      "  Num examples = 133\n",
      "  Batch size = 8\n"
     ]
    },
    {
     "data": {
      "application/vnd.jupyter.widget-view+json": {
       "model_id": "2fa1e3d2ea7240d39eb4edad18576acc",
       "version_major": 2,
       "version_minor": 0
      },
      "text/plain": [
       "  0%|          | 0/17 [00:00<?, ?it/s]"
      ]
     },
     "metadata": {},
     "output_type": "display_data"
    },
    {
     "name": "stderr",
     "output_type": "stream",
     "text": [
      "Trainer is attempting to log a value of \"[0.93061224 0.19047619]\" of type <class 'numpy.ndarray'> for key \"eval/f1c\" as a scalar. This invocation of Tensorboard's writer.add_scalar() is incorrect so we dropped this attribute.\n"
     ]
    },
    {
     "name": "stdout",
     "output_type": "stream",
     "text": [
      "{'eval_loss': 0.6656067371368408, 'eval_accuracy': 0.8721804511278195, 'eval_f1c': array([0.93061224, 0.19047619]), 'eval_runtime': 2.901, 'eval_samples_per_second': 45.846, 'eval_steps_per_second': 5.86, 'epoch': 1.0}\n"
     ]
    },
    {
     "name": "stderr",
     "output_type": "stream",
     "text": [
      "The following columns in the evaluation set don't have a corresponding argument in `DistilBertForSequenceClassification.forward` and have been ignored: claims. If claims are not expected by `DistilBertForSequenceClassification.forward`,  you can safely ignore this message.\n",
      "***** Running Evaluation *****\n",
      "  Num examples = 133\n",
      "  Batch size = 8\n"
     ]
    },
    {
     "data": {
      "application/vnd.jupyter.widget-view+json": {
       "model_id": "7908c1955d984a6e9d4ff0b3299f32ca",
       "version_major": 2,
       "version_minor": 0
      },
      "text/plain": [
       "  0%|          | 0/17 [00:00<?, ?it/s]"
      ]
     },
     "metadata": {},
     "output_type": "display_data"
    },
    {
     "name": "stderr",
     "output_type": "stream",
     "text": [
      "Trainer is attempting to log a value of \"[0.92050209 0.2962963 ]\" of type <class 'numpy.ndarray'> for key \"eval/f1c\" as a scalar. This invocation of Tensorboard's writer.add_scalar() is incorrect so we dropped this attribute.\n"
     ]
    },
    {
     "name": "stdout",
     "output_type": "stream",
     "text": [
      "{'eval_loss': 0.754928708076477, 'eval_accuracy': 0.8571428571428571, 'eval_f1c': array([0.92050209, 0.2962963 ]), 'eval_runtime': 2.7543, 'eval_samples_per_second': 48.287, 'eval_steps_per_second': 6.172, 'epoch': 2.0}\n"
     ]
    },
    {
     "name": "stderr",
     "output_type": "stream",
     "text": [
      "The following columns in the evaluation set don't have a corresponding argument in `DistilBertForSequenceClassification.forward` and have been ignored: claims. If claims are not expected by `DistilBertForSequenceClassification.forward`,  you can safely ignore this message.\n",
      "***** Running Evaluation *****\n",
      "  Num examples = 133\n",
      "  Batch size = 8\n"
     ]
    },
    {
     "data": {
      "application/vnd.jupyter.widget-view+json": {
       "model_id": "5a9b38cf3e8442e8b354da8f66861f94",
       "version_major": 2,
       "version_minor": 0
      },
      "text/plain": [
       "  0%|          | 0/17 [00:00<?, ?it/s]"
      ]
     },
     "metadata": {},
     "output_type": "display_data"
    },
    {
     "name": "stderr",
     "output_type": "stream",
     "text": [
      "Trainer is attempting to log a value of \"[0.925      0.30769231]\" of type <class 'numpy.ndarray'> for key \"eval/f1c\" as a scalar. This invocation of Tensorboard's writer.add_scalar() is incorrect so we dropped this attribute.\n"
     ]
    },
    {
     "name": "stdout",
     "output_type": "stream",
     "text": [
      "{'eval_loss': 1.0959995985031128, 'eval_accuracy': 0.8646616541353384, 'eval_f1c': array([0.925     , 0.30769231]), 'eval_runtime': 2.6999, 'eval_samples_per_second': 49.261, 'eval_steps_per_second': 6.297, 'epoch': 3.0}\n"
     ]
    },
    {
     "name": "stderr",
     "output_type": "stream",
     "text": [
      "The following columns in the evaluation set don't have a corresponding argument in `DistilBertForSequenceClassification.forward` and have been ignored: claims. If claims are not expected by `DistilBertForSequenceClassification.forward`,  you can safely ignore this message.\n",
      "***** Running Evaluation *****\n",
      "  Num examples = 133\n",
      "  Batch size = 8\n"
     ]
    },
    {
     "data": {
      "application/vnd.jupyter.widget-view+json": {
       "model_id": "0991769c4b0246af8c4aa7acd5e4987d",
       "version_major": 2,
       "version_minor": 0
      },
      "text/plain": [
       "  0%|          | 0/17 [00:00<?, ?it/s]"
      ]
     },
     "metadata": {},
     "output_type": "display_data"
    },
    {
     "name": "stderr",
     "output_type": "stream",
     "text": [
      "Trainer is attempting to log a value of \"[0.93004115 0.26086957]\" of type <class 'numpy.ndarray'> for key \"eval/f1c\" as a scalar. This invocation of Tensorboard's writer.add_scalar() is incorrect so we dropped this attribute.\n"
     ]
    },
    {
     "name": "stdout",
     "output_type": "stream",
     "text": [
      "{'eval_loss': 1.2874237298965454, 'eval_accuracy': 0.8721804511278195, 'eval_f1c': array([0.93004115, 0.26086957]), 'eval_runtime': 2.6826, 'eval_samples_per_second': 49.58, 'eval_steps_per_second': 6.337, 'epoch': 4.0}\n"
     ]
    },
    {
     "name": "stderr",
     "output_type": "stream",
     "text": [
      "The following columns in the evaluation set don't have a corresponding argument in `DistilBertForSequenceClassification.forward` and have been ignored: claims. If claims are not expected by `DistilBertForSequenceClassification.forward`,  you can safely ignore this message.\n",
      "***** Running Evaluation *****\n",
      "  Num examples = 133\n",
      "  Batch size = 8\n"
     ]
    },
    {
     "data": {
      "application/vnd.jupyter.widget-view+json": {
       "model_id": "1c25e66d6b59438b9d268d314b904195",
       "version_major": 2,
       "version_minor": 0
      },
      "text/plain": [
       "  0%|          | 0/17 [00:00<?, ?it/s]"
      ]
     },
     "metadata": {},
     "output_type": "display_data"
    },
    {
     "name": "stderr",
     "output_type": "stream",
     "text": [
      "Trainer is attempting to log a value of \"[0.92561983 0.25      ]\" of type <class 'numpy.ndarray'> for key \"eval/f1c\" as a scalar. This invocation of Tensorboard's writer.add_scalar() is incorrect so we dropped this attribute.\n",
      "\n",
      "\n",
      "Training completed. Do not forget to share your model on huggingface.co/models =)\n",
      "\n",
      "\n"
     ]
    },
    {
     "name": "stdout",
     "output_type": "stream",
     "text": [
      "{'eval_loss': 1.3117274045944214, 'eval_accuracy': 0.8646616541353384, 'eval_f1c': array([0.92561983, 0.25      ]), 'eval_runtime': 3.0409, 'eval_samples_per_second': 43.737, 'eval_steps_per_second': 5.59, 'epoch': 5.0}\n",
      "{'train_runtime': 179.4259, 'train_samples_per_second': 20.844, 'train_steps_per_second': 2.619, 'train_loss': 0.4367903689120678, 'epoch': 5.0}\n",
      "----------------------------------------------------------------------\n",
      "Training process suceddfully ended in 182.7359311580658 seconds\n",
      "----------------------------------------------------------------------\n",
      "----------------------------------------------------------------------\n",
      "Model Saved\n",
      "----------------------------------------------------------------------\n"
     ]
    }
   ],
   "source": [
    "csv_path = './data/fact_check_bool.csv'\n",
    "df = pd.read_csv(csv_path, sep=\",\")\n",
    "\n",
    "# Set the name of the file containing the dataset to be used\n",
    "data = csv_path\n",
    "text_column = 'claims'\n",
    "target_column = 'veracity'\n",
    "pretrained_model = 'distilbert-base-uncased'\n",
    "\n",
    "cw = {k:(max(dict(df[target_column].value_counts()).values())/v) for k,v in dict(df[target_column].value_counts()).items()}\n",
    "\n",
    "counts = [dict(df[target_column].value_counts())[0], dict(df[target_column].value_counts())[1]]\n",
    "n_samples = counts[0] + counts[1]\n",
    "n_classes = len(counts)\n",
    "class_weights = [n_samples / (n_classes * n_samplesj) for n_samplesj in counts]\n",
    "cw=class_weights\n",
    "\n",
    "# Load the tokenizer to be used for processing the text data\n",
    "tokenizer = AutoTokenizer.from_pretrained(pretrained_model) \n",
    "\n",
    "# Define the features of the dataset\n",
    "features = Features({text_column: Value('string'),\n",
    "                     target_column: ClassLabel(names=['0','1'])})\n",
    "\n",
    "# Load the dataset from the CSV file using the Hugging Face library\n",
    "dataset_raw = load_dataset('csv', data_files=data, delimiter=',', features=features)[\"train\"]\n",
    "\n",
    "# Shuffle the dataset randomly and split it into training and testing sets\n",
    "dataset = dataset_raw.shuffle(seed=42).train_test_split(test_size=0.15)\n",
    "\n",
    "# Transform the dataset by mapping the 'veracity' column to a new column called 'labels'\n",
    "# The 'veracity' column is then removed from the dataset\n",
    "dataset = dataset.map(lambda examples: {'labels': examples[target_column]}, remove_columns=[target_column])\n",
    "\n",
    "# Tokenize the text data in the dataset using the tokenizer loaded earlier\n",
    "# The tokenized dataset is created by mapping the original dataset to a new dataset, with the text data being tokenized in the process\n",
    "# The `batched=True` argument indicates that the dataset should be processed in batches to improve performance\n",
    "tokenized_dataset = dataset.map(lambda x: tokenize_function(x,tokenizer=tokenizer,colname=text_column), batched=True)\n",
    "\n",
    "# Create a data collator, which is used to prepare the input data for training the model\n",
    "# The data collator is created using the tokenizer loaded earlier\n",
    "data_collator = DataCollatorWithPadding(tokenizer=tokenizer)\n",
    "\n",
    "# Load the pre-trained DistilBERT model for sequence classification\n",
    "# The `num_labels=2` argument specifies that the model should be trained to classify the text data into two labels: true (label '1') or false (label '0')\n",
    "model_bool = AutoModelForSequenceClassification.from_pretrained(pretrained_model, num_labels=2)\n",
    "\n",
    "# Set the training arguments for the model\n",
    "training_args = TrainingArguments(\n",
    "    output_dir=\"./models/claims\", \n",
    "    evaluation_strategy=\"epoch\",\n",
    "    learning_rate=2e-5,\n",
    "    num_train_epochs=5\n",
    ")\n",
    "\n",
    "start_time = time.time()\n",
    "trainer_bool = CustomTrainer(\n",
    "    model_bool,\n",
    "    training_args,\n",
    "    train_dataset=tokenized_dataset[\"train\"],\n",
    "    eval_dataset=tokenized_dataset[\"test\"],\n",
    "    data_collator=data_collator,\n",
    "    tokenizer=tokenizer,\n",
    "    compute_metrics=compute_metrics,\n",
    ")\n",
    "eval = trainer_bool.evaluate()\n",
    "train = trainer_bool.train()\n",
    "end_time = time.time()\n",
    "print('----------------------------------------------------------------------')\n",
    "print('Training process suceddfully ended in',end_time - start_time,'seconds')\n",
    "print('----------------------------------------------------------------------')\n",
    "\n",
    "# Save the model as file\n",
    "torch.save(model_bool,'models/claims/model_claims.pt')\n",
    "\n",
    "print('----------------------------------------------------------------------')\n",
    "print('Model Saved')\n",
    "print('----------------------------------------------------------------------')"
   ]
  },
  {
   "cell_type": "code",
   "execution_count": 6,
   "metadata": {},
   "outputs": [
    {
     "name": "stderr",
     "output_type": "stream",
     "text": [
      "loading configuration file config.json from cache at /Users/maxhormazabal/.cache/huggingface/hub/models--distilbert-base-uncased/snapshots/1c4513b2eedbda136f57676a34eea67aba266e5c/config.json\n",
      "Model config DistilBertConfig {\n",
      "  \"_name_or_path\": \"distilbert-base-uncased\",\n",
      "  \"activation\": \"gelu\",\n",
      "  \"architectures\": [\n",
      "    \"DistilBertForMaskedLM\"\n",
      "  ],\n",
      "  \"attention_dropout\": 0.1,\n",
      "  \"dim\": 768,\n",
      "  \"dropout\": 0.1,\n",
      "  \"hidden_dim\": 3072,\n",
      "  \"initializer_range\": 0.02,\n",
      "  \"max_position_embeddings\": 512,\n",
      "  \"model_type\": \"distilbert\",\n",
      "  \"n_heads\": 12,\n",
      "  \"n_layers\": 6,\n",
      "  \"pad_token_id\": 0,\n",
      "  \"qa_dropout\": 0.1,\n",
      "  \"seq_classif_dropout\": 0.2,\n",
      "  \"sinusoidal_pos_embds\": false,\n",
      "  \"tie_weights_\": true,\n",
      "  \"transformers_version\": \"4.26.1\",\n",
      "  \"vocab_size\": 30522\n",
      "}\n",
      "\n",
      "loading file vocab.txt from cache at /Users/maxhormazabal/.cache/huggingface/hub/models--distilbert-base-uncased/snapshots/1c4513b2eedbda136f57676a34eea67aba266e5c/vocab.txt\n",
      "loading file tokenizer.json from cache at /Users/maxhormazabal/.cache/huggingface/hub/models--distilbert-base-uncased/snapshots/1c4513b2eedbda136f57676a34eea67aba266e5c/tokenizer.json\n",
      "loading file added_tokens.json from cache at None\n",
      "loading file special_tokens_map.json from cache at None\n",
      "loading file tokenizer_config.json from cache at /Users/maxhormazabal/.cache/huggingface/hub/models--distilbert-base-uncased/snapshots/1c4513b2eedbda136f57676a34eea67aba266e5c/tokenizer_config.json\n",
      "loading configuration file config.json from cache at /Users/maxhormazabal/.cache/huggingface/hub/models--distilbert-base-uncased/snapshots/1c4513b2eedbda136f57676a34eea67aba266e5c/config.json\n",
      "Model config DistilBertConfig {\n",
      "  \"_name_or_path\": \"distilbert-base-uncased\",\n",
      "  \"activation\": \"gelu\",\n",
      "  \"architectures\": [\n",
      "    \"DistilBertForMaskedLM\"\n",
      "  ],\n",
      "  \"attention_dropout\": 0.1,\n",
      "  \"dim\": 768,\n",
      "  \"dropout\": 0.1,\n",
      "  \"hidden_dim\": 3072,\n",
      "  \"initializer_range\": 0.02,\n",
      "  \"max_position_embeddings\": 512,\n",
      "  \"model_type\": \"distilbert\",\n",
      "  \"n_heads\": 12,\n",
      "  \"n_layers\": 6,\n",
      "  \"pad_token_id\": 0,\n",
      "  \"qa_dropout\": 0.1,\n",
      "  \"seq_classif_dropout\": 0.2,\n",
      "  \"sinusoidal_pos_embds\": false,\n",
      "  \"tie_weights_\": true,\n",
      "  \"transformers_version\": \"4.26.1\",\n",
      "  \"vocab_size\": 30522\n",
      "}\n",
      "\n"
     ]
    }
   ],
   "source": [
    "# Generate Explainer from model\n",
    "model_path = './models/claims/model_claims.pt'\n",
    "explainer = generateExplainer(model_path,'distilbert-base-uncased')"
   ]
  },
  {
   "cell_type": "code",
   "execution_count": 7,
   "metadata": {},
   "outputs": [
    {
     "name": "stderr",
     "output_type": "stream",
     "text": [
      "Disabling tokenizer parallelism, we're using DataLoader multithreading already\n"
     ]
    },
    {
     "data": {
      "application/vnd.jupyter.widget-view+json": {
       "model_id": "6fe3f3cea65842f490e37a50f7164439",
       "version_major": 2,
       "version_minor": 0
      },
      "text/plain": [
       "  0%|          | 0/498 [00:00<?, ?it/s]"
      ]
     },
     "metadata": {},
     "output_type": "display_data"
    },
    {
     "name": "stderr",
     "output_type": "stream",
     "text": [
      "Partition explainer: 2it [00:11, 11.36s/it]               \n"
     ]
    },
    {
     "data": {
      "text/html": [
       "<svg width=\"100%\" height=\"80px\"><line x1=\"0\" y1=\"33\" x2=\"100%\" y2=\"33\" style=\"stroke:rgb(150,150,150);stroke-width:1\" /><line x1=\"50.63064227854912%\" y1=\"33\" x2=\"50.63064227854912%\" y2=\"37\" style=\"stroke:rgb(150,150,150);stroke-width:1\" /><text x=\"50.63064227854912%\" y=\"27\" font-size=\"12px\" fill=\"rgb(120,120,120)\" dominant-baseline=\"bottom\" text-anchor=\"middle\">0.5</text><line x1=\"33.74666495832688%\" y1=\"33\" x2=\"33.74666495832688%\" y2=\"37\" style=\"stroke:rgb(150,150,150);stroke-width:1\" /><text x=\"33.74666495832688%\" y=\"27\" font-size=\"12px\" fill=\"rgb(120,120,120)\" dominant-baseline=\"bottom\" text-anchor=\"middle\">0.3</text><line x1=\"16.862687638104656%\" y1=\"33\" x2=\"16.862687638104656%\" y2=\"37\" style=\"stroke:rgb(150,150,150);stroke-width:1\" /><text x=\"16.862687638104656%\" y=\"27\" font-size=\"12px\" fill=\"rgb(120,120,120)\" dominant-baseline=\"bottom\" text-anchor=\"middle\">0.1</text><line x1=\"67.51461959877135%\" y1=\"33\" x2=\"67.51461959877135%\" y2=\"37\" style=\"stroke:rgb(150,150,150);stroke-width:1\" /><text x=\"67.51461959877135%\" y=\"27\" font-size=\"12px\" fill=\"rgb(120,120,120)\" dominant-baseline=\"bottom\" text-anchor=\"middle\">0.7</text><line x1=\"84.39859691899358%\" y1=\"33\" x2=\"84.39859691899358%\" y2=\"37\" style=\"stroke:rgb(150,150,150);stroke-width:1\" /><text x=\"84.39859691899358%\" y=\"27\" font-size=\"12px\" fill=\"rgb(120,120,120)\" dominant-baseline=\"bottom\" text-anchor=\"middle\">0.9</text><line x1=\"8.42069897799354%\" y1=\"33\" x2=\"8.42069897799354%\" y2=\"37\" style=\"stroke:rgb(150,150,150);stroke-width:1\" /><text x=\"8.42069897799354%\" y=\"27\" font-size=\"13px\" style=\"stroke:#ffffff;stroke-width:8px;\" fill=\"rgb(255,255,255)\" dominant-baseline=\"bottom\" text-anchor=\"middle\">0</text><text x=\"8.42069897799354%\" y=\"27\" font-size=\"12px\" fill=\"rgb(120,120,120)\" dominant-baseline=\"bottom\" text-anchor=\"middle\">0</text><text x=\"8.42069897799354%\" y=\"10\" font-size=\"12px\" fill=\"rgb(120,120,120)\" dominant-baseline=\"bottom\" text-anchor=\"middle\">base value</text><line x1=\"91.5793001778076%\" y1=\"33\" x2=\"91.5793001778076%\" y2=\"37\" style=\"stroke:rgb(150,150,150);stroke-width:1\" /><text x=\"91.5793001778076%\" y=\"27\" font-size=\"13px\" style=\"stroke:#ffffff;stroke-width:8px;\" font-weight=\"bold\" fill=\"rgb(255,255,255)\" dominant-baseline=\"bottom\" text-anchor=\"middle\">0.985059</text><text x=\"91.5793001778076%\" y=\"27\" font-size=\"13px\" font-weight=\"bold\" fill=\"rgb(0,0,0)\" dominant-baseline=\"bottom\" text-anchor=\"middle\">0.985059</text><text x=\"91.5793001778076%\" y=\"10\" font-size=\"12px\" fill=\"rgb(120,120,120)\" dominant-baseline=\"bottom\" text-anchor=\"middle\">f<tspan baseline-shift=\"sub\" font-size=\"8px\">LABEL_1</tspan>(inputs)</text><rect x=\"8.33333326298343%\" width=\"83.24596691482418%\" y=\"40\" height=\"18\" style=\"fill:rgb(255.0, 0.0, 81.08083606031792); stroke-width:0; stroke:rgb(0,0,0)\" /><line x1=\"82.01549538808128%\" x2=\"91.5793001778076%\" y1=\"60\" y2=\"60\" id=\"_fb_qahftrxckafnafqofpva_ind_24\" style=\"stroke:rgb(255.0, 0.0, 81.08083606031792);stroke-width:2; opacity: 0\"/><text x=\"86.79739778294444%\" y=\"71\" font-size=\"12px\" id=\"_fs_qahftrxckafnafqofpva_ind_24\" fill=\"rgb(255.0, 0.0, 81.08083606031792)\" style=\"opacity: 0\" dominant-baseline=\"middle\" text-anchor=\"middle\">0.113</text><svg x=\"82.01549538808128%\" y=\"40\" height=\"20\" width=\"9.56380478972632%\">  <svg x=\"0\" y=\"0\" width=\"100%\" height=\"100%\">    <text x=\"50%\" y=\"9\" font-size=\"12px\" fill=\"rgb(255,255,255)\" dominant-baseline=\"middle\" text-anchor=\"middle\">.</text>  </svg></svg><line x1=\"72.47746765518778%\" x2=\"82.01549538808128%\" y1=\"60\" y2=\"60\" id=\"_fb_qahftrxckafnafqofpva_ind_2\" style=\"stroke:rgb(255.0, 0.0, 81.08083606031792);stroke-width:2; opacity: 0\"/><text x=\"77.24648152163454%\" y=\"71\" font-size=\"12px\" id=\"_fs_qahftrxckafnafqofpva_ind_2\" fill=\"rgb(255.0, 0.0, 81.08083606031792)\" style=\"opacity: 0\" dominant-baseline=\"middle\" text-anchor=\"middle\">0.113</text><svg x=\"72.47746765518778%\" y=\"40\" height=\"20\" width=\"9.538027732893497%\">  <svg x=\"0\" y=\"0\" width=\"100%\" height=\"100%\">    <text x=\"50%\" y=\"9\" font-size=\"12px\" fill=\"rgb(255,255,255)\" dominant-baseline=\"middle\" text-anchor=\"middle\">.</text>  </svg></svg><line x1=\"63.11091670995296%\" x2=\"72.47746765518778%\" y1=\"60\" y2=\"60\" id=\"_fb_qahftrxckafnafqofpva_ind_1\" style=\"stroke:rgb(255.0, 0.0, 81.08083606031792);stroke-width:2; opacity: 0\"/><text x=\"67.79419218257037%\" y=\"71\" font-size=\"12px\" id=\"_fs_qahftrxckafnafqofpva_ind_1\" fill=\"rgb(255.0, 0.0, 81.08083606031792)\" style=\"opacity: 0\" dominant-baseline=\"middle\" text-anchor=\"middle\">0.111</text><svg x=\"63.11091670995296%\" y=\"40\" height=\"20\" width=\"9.36655094523482%\">  <svg x=\"0\" y=\"0\" width=\"100%\" height=\"100%\">    <text x=\"50%\" y=\"9\" font-size=\"12px\" fill=\"rgb(255,255,255)\" dominant-baseline=\"middle\" text-anchor=\"middle\">Gov</text>  </svg></svg><line x1=\"54.789068145517795%\" x2=\"63.11091670995296%\" y1=\"60\" y2=\"60\" id=\"_fb_qahftrxckafnafqofpva_ind_7\" style=\"stroke:rgb(255.0, 0.0, 81.08083606031792);stroke-width:2; opacity: 0\"/><text x=\"58.94999242773538%\" y=\"71\" font-size=\"12px\" id=\"_fs_qahftrxckafnafqofpva_ind_7\" fill=\"rgb(255.0, 0.0, 81.08083606031792)\" style=\"opacity: 0\" dominant-baseline=\"middle\" text-anchor=\"middle\">0.099</text><svg x=\"54.789068145517795%\" y=\"40\" height=\"20\" width=\"8.321848564435165%\">  <svg x=\"0\" y=\"0\" width=\"100%\" height=\"100%\">    <text x=\"50%\" y=\"9\" font-size=\"12px\" fill=\"rgb(255,255,255)\" dominant-baseline=\"middle\" text-anchor=\"middle\">$</text>  </svg></svg><line x1=\"49.08300825951253%\" x2=\"54.789068145517795%\" y1=\"60\" y2=\"60\" id=\"_fb_qahftrxckafnafqofpva_ind_11\" style=\"stroke:rgb(255.0, 0.0, 81.08083606031792);stroke-width:2; opacity: 0\"/><text x=\"51.936038202515164%\" y=\"71\" font-size=\"12px\" id=\"_fs_qahftrxckafnafqofpva_ind_11\" fill=\"rgb(255.0, 0.0, 81.08083606031792)\" style=\"opacity: 0\" dominant-baseline=\"middle\" text-anchor=\"middle\">0.068</text><svg x=\"49.08300825951253%\" y=\"40\" height=\"20\" width=\"5.706059886005264%\">  <svg x=\"0\" y=\"0\" width=\"100%\" height=\"100%\">    <text x=\"50%\" y=\"9\" font-size=\"12px\" fill=\"rgb(255,255,255)\" dominant-baseline=\"middle\" text-anchor=\"middle\">Iowa</text>  </svg></svg><line x1=\"43.90836961124096%\" x2=\"49.08300825951253%\" y1=\"60\" y2=\"60\" id=\"_fb_qahftrxckafnafqofpva_ind_13\" style=\"stroke:rgb(255.0, 0.0, 81.08083606031792);stroke-width:2; opacity: 0\"/><text x=\"46.49568893537675%\" y=\"71\" font-size=\"12px\" id=\"_fs_qahftrxckafnafqofpva_ind_13\" fill=\"rgb(255.0, 0.0, 81.08083606031792)\" style=\"opacity: 0\" dominant-baseline=\"middle\" text-anchor=\"middle\">0.061</text><svg x=\"43.90836961124096%\" y=\"40\" height=\"20\" width=\"5.174638648271575%\">  <svg x=\"0\" y=\"0\" width=\"100%\" height=\"100%\">    <text x=\"50%\" y=\"9\" font-size=\"12px\" fill=\"rgb(255,255,255)\" dominant-baseline=\"middle\" text-anchor=\"middle\">,</text>  </svg></svg><line x1=\"39.16466146186094%\" x2=\"43.90836961124096%\" y1=\"60\" y2=\"60\" id=\"_fb_qahftrxckafnafqofpva_ind_23\" style=\"stroke:rgb(255.0, 0.0, 81.08083606031792);stroke-width:2; opacity: 0\"/><text x=\"41.53651553655095%\" y=\"71\" font-size=\"12px\" id=\"_fs_qahftrxckafnafqofpva_ind_23\" fill=\"rgb(255.0, 0.0, 81.08083606031792)\" style=\"opacity: 0\" dominant-baseline=\"middle\" text-anchor=\"middle\">0.056</text><svg x=\"39.16466146186094%\" y=\"40\" height=\"20\" width=\"4.743708149380019%\">  <svg x=\"0\" y=\"0\" width=\"100%\" height=\"100%\">    <text x=\"50%\" y=\"9\" font-size=\"12px\" fill=\"rgb(255,255,255)\" dominant-baseline=\"middle\" text-anchor=\"middle\">Rep</text>  </svg></svg><line x1=\"34.81257242381486%\" x2=\"39.16466146186094%\" y1=\"60\" y2=\"60\" id=\"_fb_qahftrxckafnafqofpva_ind_8\" style=\"stroke:rgb(255.0, 0.0, 81.08083606031792);stroke-width:2; opacity: 0\"/><text x=\"36.9886169428379%\" y=\"71\" font-size=\"12px\" id=\"_fs_qahftrxckafnafqofpva_ind_8\" fill=\"rgb(255.0, 0.0, 81.08083606031792)\" style=\"opacity: 0\" dominant-baseline=\"middle\" text-anchor=\"middle\">0.052</text><svg x=\"34.81257242381486%\" y=\"40\" height=\"20\" width=\"4.352089038046074%\">  <svg x=\"0\" y=\"0\" width=\"100%\" height=\"100%\">    <text x=\"50%\" y=\"9\" font-size=\"12px\" fill=\"rgb(255,255,255)\" dominant-baseline=\"middle\" text-anchor=\"middle\">210</text>  </svg></svg><line x1=\"31.276898109931132%\" x2=\"34.81257242381486%\" y1=\"60\" y2=\"60\" id=\"_fb_qahftrxckafnafqofpva_ind_20\" style=\"stroke:rgb(255.0, 0.0, 81.08083606031792);stroke-width:2; opacity: 0\"/><text x=\"33.044735266873%\" y=\"71\" font-size=\"12px\" id=\"_fs_qahftrxckafnafqofpva_ind_20\" fill=\"rgb(255.0, 0.0, 81.08083606031792)\" style=\"opacity: 0\" dominant-baseline=\"middle\" text-anchor=\"middle\">0.042</text><svg x=\"31.276898109931132%\" y=\"40\" height=\"20\" width=\"3.5356743138837317%\">  <svg x=\"0\" y=\"0\" width=\"100%\" height=\"100%\">    <text x=\"50%\" y=\"9\" font-size=\"12px\" fill=\"rgb(255,255,255)\" dominant-baseline=\"middle\" text-anchor=\"middle\">funds</text>  </svg></svg><line x1=\"27.792636861582903%\" x2=\"31.276898109931132%\" y1=\"60\" y2=\"60\" id=\"_fb_qahftrxckafnafqofpva_ind_22\" style=\"stroke:rgb(255.0, 0.0, 81.08083606031792);stroke-width:2; opacity: 0\"/><text x=\"29.534767485757015%\" y=\"71\" font-size=\"12px\" id=\"_fs_qahftrxckafnafqofpva_ind_22\" fill=\"rgb(255.0, 0.0, 81.08083606031792)\" style=\"opacity: 0\" dominant-baseline=\"middle\" text-anchor=\"middle\">0.041</text><svg x=\"27.792636861582903%\" y=\"40\" height=\"20\" width=\"3.484261248348229%\">  <svg x=\"0\" y=\"0\" width=\"100%\" height=\"100%\">    <text x=\"50%\" y=\"9\" font-size=\"12px\" fill=\"rgb(255,255,255)\" dominant-baseline=\"middle\" text-anchor=\"middle\">by</text>  </svg></svg><line x1=\"24.506617344992424%\" x2=\"27.792636861582903%\" y1=\"60\" y2=\"60\" id=\"_fb_qahftrxckafnafqofpva_ind_10\" style=\"stroke:rgb(255.0, 0.0, 81.08083606031792);stroke-width:2; opacity: 0\"/><text x=\"26.149627103287663%\" y=\"71\" font-size=\"12px\" id=\"_fs_qahftrxckafnafqofpva_ind_10\" fill=\"rgb(255.0, 0.0, 81.08083606031792)\" style=\"opacity: 0\" dominant-baseline=\"middle\" text-anchor=\"middle\">0.039</text><svg x=\"24.506617344992424%\" y=\"40\" height=\"20\" width=\"3.2860195165904784%\">  <svg x=\"0\" y=\"0\" width=\"100%\" height=\"100%\">    <text x=\"50%\" y=\"9\" font-size=\"12px\" fill=\"rgb(255,255,255)\" dominant-baseline=\"middle\" text-anchor=\"middle\">for</text>  </svg></svg><line x1=\"21.290863816293115%\" x2=\"24.506617344992424%\" y1=\"60\" y2=\"60\" id=\"_fb_qahftrxckafnafqofpva_ind_12\" style=\"stroke:rgb(255.0, 0.0, 81.08083606031792);stroke-width:2; opacity: 0\"/><text x=\"22.89874058064277%\" y=\"71\" font-size=\"12px\" id=\"_fs_qahftrxckafnafqofpva_ind_12\" fill=\"rgb(255.0, 0.0, 81.08083606031792)\" style=\"opacity: 0\" dominant-baseline=\"middle\" text-anchor=\"middle\">0.038</text><svg x=\"21.290863816293115%\" y=\"40\" height=\"20\" width=\"3.2157535286993095%\">  <svg x=\"0\" y=\"0\" width=\"100%\" height=\"100%\">    <text x=\"50%\" y=\"9\" font-size=\"12px\" fill=\"rgb(255,255,255)\" dominant-baseline=\"middle\" text-anchor=\"middle\">broadband</text>  </svg></svg><line x1=\"18.696282557629278%\" x2=\"21.290863816293115%\" y1=\"60\" y2=\"60\" id=\"_fb_qahftrxckafnafqofpva_ind_9\" style=\"stroke:rgb(255.0, 0.0, 81.08083606031792);stroke-width:2; opacity: 0\"/><text x=\"19.993573186961196%\" y=\"71\" font-size=\"12px\" id=\"_fs_qahftrxckafnafqofpva_ind_9\" fill=\"rgb(255.0, 0.0, 81.08083606031792)\" style=\"opacity: 0\" dominant-baseline=\"middle\" text-anchor=\"middle\">0.031</text><svg x=\"18.696282557629278%\" y=\"40\" height=\"20\" width=\"2.594581258663837%\">  <svg x=\"0\" y=\"0\" width=\"100%\" height=\"100%\">    <text x=\"50%\" y=\"9\" font-size=\"12px\" fill=\"rgb(255,255,255)\" dominant-baseline=\"middle\" text-anchor=\"middle\">million</text>  </svg></svg><line x1=\"16.30430864332073%\" x2=\"18.696282557629278%\" y1=\"60\" y2=\"60\" id=\"_fb_qahftrxckafnafqofpva_ind_19\" style=\"stroke:rgb(255.0, 0.0, 81.08083606031792);stroke-width:2; opacity: 0\"/><text x=\"17.500295600475006%\" y=\"71\" font-size=\"12px\" id=\"_fs_qahftrxckafnafqofpva_ind_19\" fill=\"rgb(255.0, 0.0, 81.08083606031792)\" style=\"opacity: 0\" dominant-baseline=\"middle\" text-anchor=\"middle\">0.028</text><svg x=\"16.30430864332073%\" y=\"40\" height=\"20\" width=\"2.3919739143085472%\">  <svg x=\"0\" y=\"0\" width=\"100%\" height=\"100%\">    <text x=\"50%\" y=\"9\" font-size=\"12px\" fill=\"rgb(255,255,255)\" dominant-baseline=\"middle\" text-anchor=\"middle\">federal</text>  </svg></svg><line x1=\"14.731975319830575%\" x2=\"16.30430864332073%\" y1=\"60\" y2=\"60\" id=\"_fb_qahftrxckafnafqofpva_ind_4\" style=\"stroke:rgb(255.0, 0.0, 81.08083606031792);stroke-width:2; opacity: 0\"/><text x=\"15.518141981575653%\" y=\"71\" font-size=\"12px\" id=\"_fs_qahftrxckafnafqofpva_ind_4\" fill=\"rgb(255.0, 0.0, 81.08083606031792)\" style=\"opacity: 0\" dominant-baseline=\"middle\" text-anchor=\"middle\">0.019</text><svg x=\"14.731975319830575%\" y=\"40\" height=\"20\" width=\"1.572333323490156%\">  <svg x=\"0\" y=\"0\" width=\"100%\" height=\"100%\">    <text x=\"50%\" y=\"9\" font-size=\"12px\" fill=\"rgb(255,255,255)\" dominant-baseline=\"middle\" text-anchor=\"middle\">,</text>  </svg></svg><line x1=\"13.634410906653176%\" x2=\"14.731975319830575%\" y1=\"60\" y2=\"60\" id=\"_fb_qahftrxckafnafqofpva_ind_5\" style=\"stroke:rgb(255.0, 0.0, 81.08083606031792);stroke-width:2; opacity: 0\"/><text x=\"14.183193113241876%\" y=\"71\" font-size=\"12px\" id=\"_fs_qahftrxckafnafqofpva_ind_5\" fill=\"rgb(255.0, 0.0, 81.08083606031792)\" style=\"opacity: 0\" dominant-baseline=\"middle\" text-anchor=\"middle\">0.013</text><svg x=\"13.634410906653176%\" y=\"40\" height=\"20\" width=\"1.0975644131773983%\">  <svg x=\"0\" y=\"0\" width=\"100%\" height=\"100%\">    <text x=\"50%\" y=\"9\" font-size=\"12px\" fill=\"rgb(255,255,255)\" dominant-baseline=\"middle\" text-anchor=\"middle\">to</text>  </svg></svg><line x1=\"12.770714710734886%\" x2=\"13.634410906653176%\" y1=\"60\" y2=\"60\" id=\"_fb_qahftrxckafnafqofpva_ind_14\" style=\"stroke:rgb(255.0, 0.0, 81.08083606031792);stroke-width:2; opacity: 0\"/><text x=\"13.202562808694031%\" y=\"71\" font-size=\"12px\" id=\"_fs_qahftrxckafnafqofpva_ind_14\" fill=\"rgb(255.0, 0.0, 81.08083606031792)\" style=\"opacity: 0\" dominant-baseline=\"middle\" text-anchor=\"middle\">0.01</text><svg x=\"12.770714710734886%\" y=\"40\" height=\"20\" width=\"0.8636961959182905%\">  <svg x=\"0\" y=\"0\" width=\"100%\" height=\"100%\">    <text x=\"50%\" y=\"9\" font-size=\"12px\" fill=\"rgb(255,255,255)\" dominant-baseline=\"middle\" text-anchor=\"middle\">“failed</text>  </svg></svg><line x1=\"11.91265014052232%\" x2=\"12.770714710734886%\" y1=\"60\" y2=\"60\" id=\"_fb_qahftrxckafnafqofpva_ind_15\" style=\"stroke:rgb(255.0, 0.0, 81.08083606031792);stroke-width:2; opacity: 0\"/><text x=\"12.341682425628603%\" y=\"71\" font-size=\"12px\" id=\"_fs_qahftrxckafnafqofpva_ind_15\" fill=\"rgb(255.0, 0.0, 81.08083606031792)\" style=\"opacity: 0\" dominant-baseline=\"middle\" text-anchor=\"middle\">0.01</text><svg x=\"11.91265014052232%\" y=\"40\" height=\"20\" width=\"0.8580645702125658%\">  <svg x=\"0\" y=\"0\" width=\"100%\" height=\"100%\">    <text x=\"50%\" y=\"9\" font-size=\"12px\" fill=\"rgb(255,255,255)\" dominant-baseline=\"middle\" text-anchor=\"middle\">to</text>  </svg></svg><line x1=\"11.207217651627044%\" x2=\"11.91265014052232%\" y1=\"60\" y2=\"60\" id=\"_fb_qahftrxckafnafqofpva_ind_26\" style=\"stroke:rgb(255.0, 0.0, 81.08083606031792);stroke-width:2; opacity: 0\"/><text x=\"11.559933896074682%\" y=\"71\" font-size=\"12px\" id=\"_fs_qahftrxckafnafqofpva_ind_26\" fill=\"rgb(255.0, 0.0, 81.08083606031792)\" style=\"opacity: 0\" dominant-baseline=\"middle\" text-anchor=\"middle\">0.008</text><svg x=\"11.207217651627044%\" y=\"40\" height=\"20\" width=\"0.7054324888952763%\">  <svg x=\"0\" y=\"0\" width=\"100%\" height=\"100%\">    <text x=\"50%\" y=\"9\" font-size=\"12px\" fill=\"rgb(255,255,255)\" dominant-baseline=\"middle\" text-anchor=\"middle\">signed into law by</text>  </svg></svg><line x1=\"10.560405913514476%\" x2=\"11.207217651627044%\" y1=\"60\" y2=\"60\" id=\"_fb_qahftrxckafnafqofpva_ind_21\" style=\"stroke:rgb(255.0, 0.0, 81.08083606031792);stroke-width:2; opacity: 0\"/><text x=\"10.88381178257076%\" y=\"71\" font-size=\"12px\" id=\"_fs_qahftrxckafnafqofpva_ind_21\" fill=\"rgb(255.0, 0.0, 81.08083606031792)\" style=\"opacity: 0\" dominant-baseline=\"middle\" text-anchor=\"middle\">0.008</text><svg x=\"10.560405913514476%\" y=\"40\" height=\"20\" width=\"0.646811738112568%\">  <svg x=\"0\" y=\"0\" width=\"100%\" height=\"100%\">    <text x=\"50%\" y=\"9\" font-size=\"12px\" fill=\"rgb(255,255,255)\" dominant-baseline=\"middle\" text-anchor=\"middle\">approved</text>  </svg></svg><line x1=\"9.97534597453242%\" x2=\"10.560405913514476%\" y1=\"60\" y2=\"60\" id=\"_fb_qahftrxckafnafqofpva_ind_3\" style=\"stroke:rgb(255.0, 0.0, 81.08083606031792);stroke-width:2; opacity: 0\"/><text x=\"10.267875944023448%\" y=\"71\" font-size=\"12px\" id=\"_fs_qahftrxckafnafqofpva_ind_3\" fill=\"rgb(255.0, 0.0, 81.08083606031792)\" style=\"opacity: 0\" dominant-baseline=\"middle\" text-anchor=\"middle\">0.007</text><svg x=\"9.97534597453242%\" y=\"40\" height=\"20\" width=\"0.5850599389820559%\">  <svg x=\"0\" y=\"0\" width=\"100%\" height=\"100%\">    <text x=\"50%\" y=\"9\" font-size=\"12px\" fill=\"rgb(255,255,255)\" dominant-baseline=\"middle\" text-anchor=\"middle\">Kim Reynolds</text>  </svg></svg><line x1=\"9.58059927422511%\" x2=\"9.97534597453242%\" y1=\"60\" y2=\"60\" id=\"_fb_qahftrxckafnafqofpva_ind_27\" style=\"stroke:rgb(255.0, 0.0, 81.08083606031792);stroke-width:2; opacity: 0\"/><text x=\"9.777972624378766%\" y=\"71\" font-size=\"12px\" id=\"_fs_qahftrxckafnafqofpva_ind_27\" fill=\"rgb(255.0, 0.0, 81.08083606031792)\" style=\"opacity: 0\" dominant-baseline=\"middle\" text-anchor=\"middle\">0.005</text><svg x=\"9.58059927422511%\" y=\"40\" height=\"20\" width=\"0.3947467003073104%\">  <svg x=\"0\" y=\"0\" width=\"100%\" height=\"100%\">    <text x=\"50%\" y=\"9\" font-size=\"12px\" fill=\"rgb(255,255,255)\" dominant-baseline=\"middle\" text-anchor=\"middle\">President Joe Biden.</text>  </svg></svg><line x1=\"9.278879751738097%\" x2=\"9.58059927422511%\" y1=\"60\" y2=\"60\" id=\"_fb_qahftrxckafnafqofpva_ind_6\" style=\"stroke:rgb(255.0, 0.0, 81.08083606031792);stroke-width:2; opacity: 0\"/><text x=\"9.429739512981604%\" y=\"71\" font-size=\"12px\" id=\"_fs_qahftrxckafnafqofpva_ind_6\" fill=\"rgb(255.0, 0.0, 81.08083606031792)\" style=\"opacity: 0\" dominant-baseline=\"middle\" text-anchor=\"middle\">0.004</text><svg x=\"9.278879751738097%\" y=\"40\" height=\"20\" width=\"0.30171952248701217%\">  <svg x=\"0\" y=\"0\" width=\"100%\" height=\"100%\">    <text x=\"50%\" y=\"9\" font-size=\"12px\" fill=\"rgb(255,255,255)\" dominant-baseline=\"middle\" text-anchor=\"middle\">uting</text>  </svg></svg><line x1=\"8.984323139186067%\" x2=\"9.278879751738097%\" y1=\"60\" y2=\"60\" id=\"_fb_qahftrxckafnafqofpva_ind_17\" style=\"stroke:rgb(255.0, 0.0, 81.08083606031792);stroke-width:2; opacity: 0\"/><text x=\"9.131601445462081%\" y=\"71\" font-size=\"12px\" id=\"_fs_qahftrxckafnafqofpva_ind_17\" fill=\"rgb(255.0, 0.0, 81.08083606031792)\" style=\"opacity: 0\" dominant-baseline=\"middle\" text-anchor=\"middle\">0.003</text><svg x=\"8.984323139186067%\" y=\"40\" height=\"20\" width=\"0.2945566125520305%\">  <svg x=\"0\" y=\"0\" width=\"100%\" height=\"100%\">    <text x=\"50%\" y=\"9\" font-size=\"12px\" fill=\"rgb(255,255,255)\" dominant-baseline=\"middle\" text-anchor=\"middle\">these are</text>  </svg></svg><line x1=\"8.692896631516088%\" x2=\"8.984323139186067%\" y1=\"60\" y2=\"60\" id=\"_fb_qahftrxckafnafqofpva_ind_0\" style=\"stroke:rgb(255.0, 0.0, 81.08083606031792);stroke-width:2; opacity: 0\"/><text x=\"8.838609885351078%\" y=\"71\" font-size=\"12px\" id=\"_fs_qahftrxckafnafqofpva_ind_0\" fill=\"rgb(255.0, 0.0, 81.08083606031792)\" style=\"opacity: 0\" dominant-baseline=\"middle\" text-anchor=\"middle\">0.003</text><svg x=\"8.692896631516088%\" y=\"40\" height=\"20\" width=\"0.29142650766997846%\">  <svg x=\"0\" y=\"0\" width=\"100%\" height=\"100%\">    <text x=\"50%\" y=\"9\" font-size=\"12px\" fill=\"rgb(255,255,255)\" dominant-baseline=\"middle\" text-anchor=\"middle\"></text>  </svg></svg><line x1=\"8.49051968936006%\" x2=\"8.692896631516088%\" y1=\"60\" y2=\"60\" id=\"_fb_qahftrxckafnafqofpva_ind_16\" style=\"stroke:rgb(255.0, 0.0, 81.08083606031792);stroke-width:2; opacity: 0\"/><text x=\"8.591708160438074%\" y=\"71\" font-size=\"12px\" id=\"_fs_qahftrxckafnafqofpva_ind_16\" fill=\"rgb(255.0, 0.0, 81.08083606031792)\" style=\"opacity: 0\" dominant-baseline=\"middle\" text-anchor=\"middle\">0.002</text><svg x=\"8.49051968936006%\" y=\"40\" height=\"20\" width=\"0.20237694215602886%\">  <svg x=\"0\" y=\"0\" width=\"100%\" height=\"100%\">    <text x=\"50%\" y=\"9\" font-size=\"12px\" fill=\"rgb(255,255,255)\" dominant-baseline=\"middle\" text-anchor=\"middle\">mention</text>  </svg></svg><line x1=\"8.33333326298343%\" x2=\"8.49051968936006%\" y1=\"60\" y2=\"60\" id=\"_fb_qahftrxckafnafqofpva_ind_25\" style=\"stroke:rgb(255.0, 0.0, 81.08083606031792);stroke-width:2; opacity: 0\"/><text x=\"8.411926476171745%\" y=\"71\" font-size=\"12px\" id=\"_fs_qahftrxckafnafqofpva_ind_25\" fill=\"rgb(255.0, 0.0, 81.08083606031792)\" style=\"opacity: 0\" dominant-baseline=\"middle\" text-anchor=\"middle\">0.002</text><svg x=\"8.33333326298343%\" y=\"40\" height=\"20\" width=\"0.15718642637662938%\">  <svg x=\"0\" y=\"0\" width=\"100%\" height=\"100%\">    <text x=\"50%\" y=\"9\" font-size=\"12px\" fill=\"rgb(255,255,255)\" dominant-baseline=\"middle\" text-anchor=\"middle\">Cindy Axne and</text>  </svg></svg><g transform=\"translate(0,0)\">  <svg x=\"82.01549538808128%\" y=\"40\" height=\"18\" overflow=\"visible\" width=\"30\">    <path d=\"M 0 -9 l 6 18 L 0 25\" fill=\"none\" style=\"stroke:rgb(255.0, 0.0, 81.08083606031792);stroke-width:2\" />  </svg></g><g transform=\"translate(2,0)\">  <svg x=\"82.01549538808128%\" y=\"40\" height=\"18\" overflow=\"visible\" width=\"30\">    <path d=\"M 0 -9 l 6 18 L 0 25\" fill=\"none\" style=\"stroke:rgb(255.0, 0.0, 81.08083606031792);stroke-width:2\" />  </svg></g><g transform=\"translate(4,0)\">  <svg x=\"82.01549538808128%\" y=\"40\" height=\"18\" overflow=\"visible\" width=\"30\">    <path d=\"M 0 -9 l 6 18 L 0 25\" fill=\"none\" style=\"stroke:rgb(255.0, 0.0, 81.08083606031792);stroke-width:2\" />  </svg></g><g transform=\"translate(6,0)\">  <svg x=\"82.01549538808128%\" y=\"40\" height=\"18\" overflow=\"visible\" width=\"30\">    <path d=\"M 0 -9 l 6 18 L 0 25\" fill=\"none\" style=\"stroke:rgb(255.0, 0.0, 81.08083606031792);stroke-width:2\" />  </svg></g><g transform=\"translate(-8,0)\">  <svg x=\"82.01549538808128%\" y=\"40\" height=\"18\" overflow=\"visible\" width=\"30\">    <path d=\"M 0 -9 l 6 18 L 0 25\" fill=\"none\" style=\"stroke:rgb(255.0, 0.0, 81.08083606031792);stroke-width:2\" />  </svg></g><g transform=\"translate(-6,0)\">  <svg x=\"82.01549538808128%\" y=\"40\" height=\"18\" overflow=\"visible\" width=\"30\">    <path d=\"M 0 -9 l 6 18 L 0 25\" fill=\"none\" style=\"stroke:rgb(255.0, 0.0, 81.08083606031792);stroke-width:2\" />  </svg></g><g transform=\"translate(-4,0)\">  <svg x=\"82.01549538808128%\" y=\"40\" height=\"18\" overflow=\"visible\" width=\"30\">    <path d=\"M 0 -9 l 6 18 L 0 25\" fill=\"none\" style=\"stroke:rgb(255.0, 0.0, 81.08083606031792);stroke-width:2\" />  </svg></g><g transform=\"translate(-2,0)\">  <svg x=\"82.01549538808128%\" y=\"40\" height=\"18\" overflow=\"visible\" width=\"30\">    <path d=\"M 0 -9 l 6 18 L 0 25\" fill=\"none\" style=\"stroke:rgb(255.0, 0.0, 81.08083606031792);stroke-width:2\" />  </svg></g><g transform=\"translate(0,0)\">  <svg x=\"72.47746765518778%\" y=\"40\" height=\"18\" overflow=\"visible\" width=\"30\">    <path d=\"M 0 -9 l 6 18 L 0 25\" fill=\"none\" style=\"stroke:rgb(255.0, 0.0, 81.08083606031792);stroke-width:2\" />  </svg></g><g transform=\"translate(2,0)\">  <svg x=\"72.47746765518778%\" y=\"40\" height=\"18\" overflow=\"visible\" width=\"30\">    <path d=\"M 0 -9 l 6 18 L 0 25\" fill=\"none\" style=\"stroke:rgb(255.0, 0.0, 81.08083606031792);stroke-width:2\" />  </svg></g><g transform=\"translate(4,0)\">  <svg x=\"72.47746765518778%\" y=\"40\" height=\"18\" overflow=\"visible\" width=\"30\">    <path d=\"M 0 -9 l 6 18 L 0 25\" fill=\"none\" style=\"stroke:rgb(255.0, 0.0, 81.08083606031792);stroke-width:2\" />  </svg></g><g transform=\"translate(6,0)\">  <svg x=\"72.47746765518778%\" y=\"40\" height=\"18\" overflow=\"visible\" width=\"30\">    <path d=\"M 0 -9 l 6 18 L 0 25\" fill=\"none\" style=\"stroke:rgb(255.0, 0.0, 81.08083606031792);stroke-width:2\" />  </svg></g><g transform=\"translate(-8,0)\">  <svg x=\"72.47746765518778%\" y=\"40\" height=\"18\" overflow=\"visible\" width=\"30\">    <path d=\"M 0 -9 l 6 18 L 0 25\" fill=\"none\" style=\"stroke:rgb(255.0, 0.0, 81.08083606031792);stroke-width:2\" />  </svg></g><g transform=\"translate(-6,0)\">  <svg x=\"72.47746765518778%\" y=\"40\" height=\"18\" overflow=\"visible\" width=\"30\">    <path d=\"M 0 -9 l 6 18 L 0 25\" fill=\"none\" style=\"stroke:rgb(255.0, 0.0, 81.08083606031792);stroke-width:2\" />  </svg></g><g transform=\"translate(-4,0)\">  <svg x=\"72.47746765518778%\" y=\"40\" height=\"18\" overflow=\"visible\" width=\"30\">    <path d=\"M 0 -9 l 6 18 L 0 25\" fill=\"none\" style=\"stroke:rgb(255.0, 0.0, 81.08083606031792);stroke-width:2\" />  </svg></g><g transform=\"translate(-2,0)\">  <svg x=\"72.47746765518778%\" y=\"40\" height=\"18\" overflow=\"visible\" width=\"30\">    <path d=\"M 0 -9 l 6 18 L 0 25\" fill=\"none\" style=\"stroke:rgb(255.0, 0.0, 81.08083606031792);stroke-width:2\" />  </svg></g><g transform=\"translate(0,0)\">  <svg x=\"63.11091670995296%\" y=\"40\" height=\"18\" overflow=\"visible\" width=\"30\">    <path d=\"M 0 -9 l 6 18 L 0 25\" fill=\"none\" style=\"stroke:rgb(255.0, 0.0, 81.08083606031792);stroke-width:2\" />  </svg></g><g transform=\"translate(2,0)\">  <svg x=\"63.11091670995296%\" y=\"40\" height=\"18\" overflow=\"visible\" width=\"30\">    <path d=\"M 0 -9 l 6 18 L 0 25\" fill=\"none\" style=\"stroke:rgb(255.0, 0.0, 81.08083606031792);stroke-width:2\" />  </svg></g><g transform=\"translate(4,0)\">  <svg x=\"63.11091670995296%\" y=\"40\" height=\"18\" overflow=\"visible\" width=\"30\">    <path d=\"M 0 -9 l 6 18 L 0 25\" fill=\"none\" style=\"stroke:rgb(255.0, 0.0, 81.08083606031792);stroke-width:2\" />  </svg></g><g transform=\"translate(6,0)\">  <svg x=\"63.11091670995296%\" y=\"40\" height=\"18\" overflow=\"visible\" width=\"30\">    <path d=\"M 0 -9 l 6 18 L 0 25\" fill=\"none\" style=\"stroke:rgb(255.0, 0.0, 81.08083606031792);stroke-width:2\" />  </svg></g><g transform=\"translate(-8,0)\">  <svg x=\"63.11091670995296%\" y=\"40\" height=\"18\" overflow=\"visible\" width=\"30\">    <path d=\"M 0 -9 l 6 18 L 0 25\" fill=\"none\" style=\"stroke:rgb(255.0, 0.0, 81.08083606031792);stroke-width:2\" />  </svg></g><g transform=\"translate(-6,0)\">  <svg x=\"63.11091670995296%\" y=\"40\" height=\"18\" overflow=\"visible\" width=\"30\">    <path d=\"M 0 -9 l 6 18 L 0 25\" fill=\"none\" style=\"stroke:rgb(255.0, 0.0, 81.08083606031792);stroke-width:2\" />  </svg></g><g transform=\"translate(-4,0)\">  <svg x=\"63.11091670995296%\" y=\"40\" height=\"18\" overflow=\"visible\" width=\"30\">    <path d=\"M 0 -9 l 6 18 L 0 25\" fill=\"none\" style=\"stroke:rgb(255.0, 0.0, 81.08083606031792);stroke-width:2\" />  </svg></g><g transform=\"translate(-2,0)\">  <svg x=\"63.11091670995296%\" y=\"40\" height=\"18\" overflow=\"visible\" width=\"30\">    <path d=\"M 0 -9 l 6 18 L 0 25\" fill=\"none\" style=\"stroke:rgb(255.0, 0.0, 81.08083606031792);stroke-width:2\" />  </svg></g><g transform=\"translate(0,0)\">  <svg x=\"54.789068145517795%\" y=\"40\" height=\"18\" overflow=\"visible\" width=\"30\">    <path d=\"M 0 -9 l 6 18 L 0 25\" fill=\"none\" style=\"stroke:rgb(255.0, 0.0, 81.08083606031792);stroke-width:2\" />  </svg></g><g transform=\"translate(2,0)\">  <svg x=\"54.789068145517795%\" y=\"40\" height=\"18\" overflow=\"visible\" width=\"30\">    <path d=\"M 0 -9 l 6 18 L 0 25\" fill=\"none\" style=\"stroke:rgb(255.0, 0.0, 81.08083606031792);stroke-width:2\" />  </svg></g><g transform=\"translate(4,0)\">  <svg x=\"54.789068145517795%\" y=\"40\" height=\"18\" overflow=\"visible\" width=\"30\">    <path d=\"M 0 -9 l 6 18 L 0 25\" fill=\"none\" style=\"stroke:rgb(255.0, 0.0, 81.08083606031792);stroke-width:2\" />  </svg></g><g transform=\"translate(6,0)\">  <svg x=\"54.789068145517795%\" y=\"40\" height=\"18\" overflow=\"visible\" width=\"30\">    <path d=\"M 0 -9 l 6 18 L 0 25\" fill=\"none\" style=\"stroke:rgb(255.0, 0.0, 81.08083606031792);stroke-width:2\" />  </svg></g><g transform=\"translate(-8,0)\">  <svg x=\"54.789068145517795%\" y=\"40\" height=\"18\" overflow=\"visible\" width=\"30\">    <path d=\"M 0 -9 l 6 18 L 0 25\" fill=\"none\" style=\"stroke:rgb(255.0, 0.0, 81.08083606031792);stroke-width:2\" />  </svg></g><g transform=\"translate(-6,0)\">  <svg x=\"54.789068145517795%\" y=\"40\" height=\"18\" overflow=\"visible\" width=\"30\">    <path d=\"M 0 -9 l 6 18 L 0 25\" fill=\"none\" style=\"stroke:rgb(255.0, 0.0, 81.08083606031792);stroke-width:2\" />  </svg></g><g transform=\"translate(-4,0)\">  <svg x=\"54.789068145517795%\" y=\"40\" height=\"18\" overflow=\"visible\" width=\"30\">    <path d=\"M 0 -9 l 6 18 L 0 25\" fill=\"none\" style=\"stroke:rgb(255.0, 0.0, 81.08083606031792);stroke-width:2\" />  </svg></g><g transform=\"translate(-2,0)\">  <svg x=\"54.789068145517795%\" y=\"40\" height=\"18\" overflow=\"visible\" width=\"30\">    <path d=\"M 0 -9 l 6 18 L 0 25\" fill=\"none\" style=\"stroke:rgb(255.0, 0.0, 81.08083606031792);stroke-width:2\" />  </svg></g><g transform=\"translate(0,0)\">  <svg x=\"49.08300825951253%\" y=\"40\" height=\"18\" overflow=\"visible\" width=\"30\">    <path d=\"M 0 -9 l 6 18 L 0 25\" fill=\"none\" style=\"stroke:rgb(255.0, 0.0, 81.08083606031792);stroke-width:2\" />  </svg></g><g transform=\"translate(2,0)\">  <svg x=\"49.08300825951253%\" y=\"40\" height=\"18\" overflow=\"visible\" width=\"30\">    <path d=\"M 0 -9 l 6 18 L 0 25\" fill=\"none\" style=\"stroke:rgb(255.0, 0.0, 81.08083606031792);stroke-width:2\" />  </svg></g><g transform=\"translate(4,0)\">  <svg x=\"49.08300825951253%\" y=\"40\" height=\"18\" overflow=\"visible\" width=\"30\">    <path d=\"M 0 -9 l 6 18 L 0 25\" fill=\"none\" style=\"stroke:rgb(255.0, 0.0, 81.08083606031792);stroke-width:2\" />  </svg></g><g transform=\"translate(6,0)\">  <svg x=\"49.08300825951253%\" y=\"40\" height=\"18\" overflow=\"visible\" width=\"30\">    <path d=\"M 0 -9 l 6 18 L 0 25\" fill=\"none\" style=\"stroke:rgb(255.0, 0.0, 81.08083606031792);stroke-width:2\" />  </svg></g><g transform=\"translate(-8,0)\">  <svg x=\"49.08300825951253%\" y=\"40\" height=\"18\" overflow=\"visible\" width=\"30\">    <path d=\"M 0 -9 l 6 18 L 0 25\" fill=\"none\" style=\"stroke:rgb(255.0, 0.0, 81.08083606031792);stroke-width:2\" />  </svg></g><g transform=\"translate(-6,0)\">  <svg x=\"49.08300825951253%\" y=\"40\" height=\"18\" overflow=\"visible\" width=\"30\">    <path d=\"M 0 -9 l 6 18 L 0 25\" fill=\"none\" style=\"stroke:rgb(255.0, 0.0, 81.08083606031792);stroke-width:2\" />  </svg></g><g transform=\"translate(-4,0)\">  <svg x=\"49.08300825951253%\" y=\"40\" height=\"18\" overflow=\"visible\" width=\"30\">    <path d=\"M 0 -9 l 6 18 L 0 25\" fill=\"none\" style=\"stroke:rgb(255.0, 0.0, 81.08083606031792);stroke-width:2\" />  </svg></g><g transform=\"translate(-2,0)\">  <svg x=\"49.08300825951253%\" y=\"40\" height=\"18\" overflow=\"visible\" width=\"30\">    <path d=\"M 0 -9 l 6 18 L 0 25\" fill=\"none\" style=\"stroke:rgb(255.0, 0.0, 81.08083606031792);stroke-width:2\" />  </svg></g><g transform=\"translate(0,0)\">  <svg x=\"43.90836961124096%\" y=\"40\" height=\"18\" overflow=\"visible\" width=\"30\">    <path d=\"M 0 -9 l 6 18 L 0 25\" fill=\"none\" style=\"stroke:rgb(255.0, 0.0, 81.08083606031792);stroke-width:2\" />  </svg></g><g transform=\"translate(2,0)\">  <svg x=\"43.90836961124096%\" y=\"40\" height=\"18\" overflow=\"visible\" width=\"30\">    <path d=\"M 0 -9 l 6 18 L 0 25\" fill=\"none\" style=\"stroke:rgb(255.0, 0.0, 81.08083606031792);stroke-width:2\" />  </svg></g><g transform=\"translate(4,0)\">  <svg x=\"43.90836961124096%\" y=\"40\" height=\"18\" overflow=\"visible\" width=\"30\">    <path d=\"M 0 -9 l 6 18 L 0 25\" fill=\"none\" style=\"stroke:rgb(255.0, 0.0, 81.08083606031792);stroke-width:2\" />  </svg></g><g transform=\"translate(6,0)\">  <svg x=\"43.90836961124096%\" y=\"40\" height=\"18\" overflow=\"visible\" width=\"30\">    <path d=\"M 0 -9 l 6 18 L 0 25\" fill=\"none\" style=\"stroke:rgb(255.0, 0.0, 81.08083606031792);stroke-width:2\" />  </svg></g><g transform=\"translate(-8,0)\">  <svg x=\"43.90836961124096%\" y=\"40\" height=\"18\" overflow=\"visible\" width=\"30\">    <path d=\"M 0 -9 l 6 18 L 0 25\" fill=\"none\" style=\"stroke:rgb(255.0, 0.0, 81.08083606031792);stroke-width:2\" />  </svg></g><g transform=\"translate(-6,0)\">  <svg x=\"43.90836961124096%\" y=\"40\" height=\"18\" overflow=\"visible\" width=\"30\">    <path d=\"M 0 -9 l 6 18 L 0 25\" fill=\"none\" style=\"stroke:rgb(255.0, 0.0, 81.08083606031792);stroke-width:2\" />  </svg></g><g transform=\"translate(-4,0)\">  <svg x=\"43.90836961124096%\" y=\"40\" height=\"18\" overflow=\"visible\" width=\"30\">    <path d=\"M 0 -9 l 6 18 L 0 25\" fill=\"none\" style=\"stroke:rgb(255.0, 0.0, 81.08083606031792);stroke-width:2\" />  </svg></g><g transform=\"translate(-2,0)\">  <svg x=\"43.90836961124096%\" y=\"40\" height=\"18\" overflow=\"visible\" width=\"30\">    <path d=\"M 0 -9 l 6 18 L 0 25\" fill=\"none\" style=\"stroke:rgb(255.0, 0.0, 81.08083606031792);stroke-width:2\" />  </svg></g><g transform=\"translate(0,0)\">  <svg x=\"39.16466146186094%\" y=\"40\" height=\"18\" overflow=\"visible\" width=\"30\">    <path d=\"M 0 -9 l 6 18 L 0 25\" fill=\"none\" style=\"stroke:rgb(255.0, 0.0, 81.08083606031792);stroke-width:2\" />  </svg></g><g transform=\"translate(2,0)\">  <svg x=\"39.16466146186094%\" y=\"40\" height=\"18\" overflow=\"visible\" width=\"30\">    <path d=\"M 0 -9 l 6 18 L 0 25\" fill=\"none\" style=\"stroke:rgb(255.0, 0.0, 81.08083606031792);stroke-width:2\" />  </svg></g><g transform=\"translate(4,0)\">  <svg x=\"39.16466146186094%\" y=\"40\" height=\"18\" overflow=\"visible\" width=\"30\">    <path d=\"M 0 -9 l 6 18 L 0 25\" fill=\"none\" style=\"stroke:rgb(255.0, 0.0, 81.08083606031792);stroke-width:2\" />  </svg></g><g transform=\"translate(6,0)\">  <svg x=\"39.16466146186094%\" y=\"40\" height=\"18\" overflow=\"visible\" width=\"30\">    <path d=\"M 0 -9 l 6 18 L 0 25\" fill=\"none\" style=\"stroke:rgb(255.0, 0.0, 81.08083606031792);stroke-width:2\" />  </svg></g><g transform=\"translate(-8,0)\">  <svg x=\"39.16466146186094%\" y=\"40\" height=\"18\" overflow=\"visible\" width=\"30\">    <path d=\"M 0 -9 l 6 18 L 0 25\" fill=\"none\" style=\"stroke:rgb(255.0, 0.0, 81.08083606031792);stroke-width:2\" />  </svg></g><g transform=\"translate(-6,0)\">  <svg x=\"39.16466146186094%\" y=\"40\" height=\"18\" overflow=\"visible\" width=\"30\">    <path d=\"M 0 -9 l 6 18 L 0 25\" fill=\"none\" style=\"stroke:rgb(255.0, 0.0, 81.08083606031792);stroke-width:2\" />  </svg></g><g transform=\"translate(-4,0)\">  <svg x=\"39.16466146186094%\" y=\"40\" height=\"18\" overflow=\"visible\" width=\"30\">    <path d=\"M 0 -9 l 6 18 L 0 25\" fill=\"none\" style=\"stroke:rgb(255.0, 0.0, 81.08083606031792);stroke-width:2\" />  </svg></g><g transform=\"translate(-2,0)\">  <svg x=\"39.16466146186094%\" y=\"40\" height=\"18\" overflow=\"visible\" width=\"30\">    <path d=\"M 0 -9 l 6 18 L 0 25\" fill=\"none\" style=\"stroke:rgb(255.0, 0.0, 81.08083606031792);stroke-width:2\" />  </svg></g><g transform=\"translate(0,0)\">  <svg x=\"34.81257242381486%\" y=\"40\" height=\"18\" overflow=\"visible\" width=\"30\">    <path d=\"M 0 -9 l 6 18 L 0 25\" fill=\"none\" style=\"stroke:rgb(255.0, 0.0, 81.08083606031792);stroke-width:2\" />  </svg></g><g transform=\"translate(2,0)\">  <svg x=\"34.81257242381486%\" y=\"40\" height=\"18\" overflow=\"visible\" width=\"30\">    <path d=\"M 0 -9 l 6 18 L 0 25\" fill=\"none\" style=\"stroke:rgb(255.0, 0.0, 81.08083606031792);stroke-width:2\" />  </svg></g><g transform=\"translate(4,0)\">  <svg x=\"34.81257242381486%\" y=\"40\" height=\"18\" overflow=\"visible\" width=\"30\">    <path d=\"M 0 -9 l 6 18 L 0 25\" fill=\"none\" style=\"stroke:rgb(255.0, 0.0, 81.08083606031792);stroke-width:2\" />  </svg></g><g transform=\"translate(6,0)\">  <svg x=\"34.81257242381486%\" y=\"40\" height=\"18\" overflow=\"visible\" width=\"30\">    <path d=\"M 0 -9 l 6 18 L 0 25\" fill=\"none\" style=\"stroke:rgb(255.0, 0.0, 81.08083606031792);stroke-width:2\" />  </svg></g><g transform=\"translate(-8,0)\">  <svg x=\"34.81257242381486%\" y=\"40\" height=\"18\" overflow=\"visible\" width=\"30\">    <path d=\"M 0 -9 l 6 18 L 0 25\" fill=\"none\" style=\"stroke:rgb(255.0, 0.0, 81.08083606031792);stroke-width:2\" />  </svg></g><g transform=\"translate(-6,0)\">  <svg x=\"34.81257242381486%\" y=\"40\" height=\"18\" overflow=\"visible\" width=\"30\">    <path d=\"M 0 -9 l 6 18 L 0 25\" fill=\"none\" style=\"stroke:rgb(255.0, 0.0, 81.08083606031792);stroke-width:2\" />  </svg></g><g transform=\"translate(-4,0)\">  <svg x=\"34.81257242381486%\" y=\"40\" height=\"18\" overflow=\"visible\" width=\"30\">    <path d=\"M 0 -9 l 6 18 L 0 25\" fill=\"none\" style=\"stroke:rgb(255.0, 0.0, 81.08083606031792);stroke-width:2\" />  </svg></g><g transform=\"translate(-2,0)\">  <svg x=\"34.81257242381486%\" y=\"40\" height=\"18\" overflow=\"visible\" width=\"30\">    <path d=\"M 0 -9 l 6 18 L 0 25\" fill=\"none\" style=\"stroke:rgb(255.0, 0.0, 81.08083606031792);stroke-width:2\" />  </svg></g><g transform=\"translate(0,0)\">  <svg x=\"31.276898109931132%\" y=\"40\" height=\"18\" overflow=\"visible\" width=\"30\">    <path d=\"M 0 -9 l 6 18 L 0 25\" fill=\"none\" style=\"stroke:rgb(255.0, 0.0, 81.08083606031792);stroke-width:2\" />  </svg></g><g transform=\"translate(2,0)\">  <svg x=\"31.276898109931132%\" y=\"40\" height=\"18\" overflow=\"visible\" width=\"30\">    <path d=\"M 0 -9 l 6 18 L 0 25\" fill=\"none\" style=\"stroke:rgb(255.0, 0.0, 81.08083606031792);stroke-width:2\" />  </svg></g><g transform=\"translate(4,0)\">  <svg x=\"31.276898109931132%\" y=\"40\" height=\"18\" overflow=\"visible\" width=\"30\">    <path d=\"M 0 -9 l 6 18 L 0 25\" fill=\"none\" style=\"stroke:rgb(255.0, 0.0, 81.08083606031792);stroke-width:2\" />  </svg></g><g transform=\"translate(6,0)\">  <svg x=\"31.276898109931132%\" y=\"40\" height=\"18\" overflow=\"visible\" width=\"30\">    <path d=\"M 0 -9 l 6 18 L 0 25\" fill=\"none\" style=\"stroke:rgb(255.0, 0.0, 81.08083606031792);stroke-width:2\" />  </svg></g><g transform=\"translate(-8,0)\">  <svg x=\"31.276898109931132%\" y=\"40\" height=\"18\" overflow=\"visible\" width=\"30\">    <path d=\"M 0 -9 l 6 18 L 0 25\" fill=\"none\" style=\"stroke:rgb(255.0, 0.0, 81.08083606031792);stroke-width:2\" />  </svg></g><g transform=\"translate(-6,0)\">  <svg x=\"31.276898109931132%\" y=\"40\" height=\"18\" overflow=\"visible\" width=\"30\">    <path d=\"M 0 -9 l 6 18 L 0 25\" fill=\"none\" style=\"stroke:rgb(255.0, 0.0, 81.08083606031792);stroke-width:2\" />  </svg></g><g transform=\"translate(-4,0)\">  <svg x=\"31.276898109931132%\" y=\"40\" height=\"18\" overflow=\"visible\" width=\"30\">    <path d=\"M 0 -9 l 6 18 L 0 25\" fill=\"none\" style=\"stroke:rgb(255.0, 0.0, 81.08083606031792);stroke-width:2\" />  </svg></g><g transform=\"translate(-2,0)\">  <svg x=\"31.276898109931132%\" y=\"40\" height=\"18\" overflow=\"visible\" width=\"30\">    <path d=\"M 0 -9 l 6 18 L 0 25\" fill=\"none\" style=\"stroke:rgb(255.0, 0.0, 81.08083606031792);stroke-width:2\" />  </svg></g><g transform=\"translate(0,0)\">  <svg x=\"27.792636861582903%\" y=\"40\" height=\"18\" overflow=\"visible\" width=\"30\">    <path d=\"M 0 -9 l 6 18 L 0 25\" fill=\"none\" style=\"stroke:rgb(255.0, 0.0, 81.08083606031792);stroke-width:2\" />  </svg></g><g transform=\"translate(2,0)\">  <svg x=\"27.792636861582903%\" y=\"40\" height=\"18\" overflow=\"visible\" width=\"30\">    <path d=\"M 0 -9 l 6 18 L 0 25\" fill=\"none\" style=\"stroke:rgb(255.0, 0.0, 81.08083606031792);stroke-width:2\" />  </svg></g><g transform=\"translate(4,0)\">  <svg x=\"27.792636861582903%\" y=\"40\" height=\"18\" overflow=\"visible\" width=\"30\">    <path d=\"M 0 -9 l 6 18 L 0 25\" fill=\"none\" style=\"stroke:rgb(255.0, 0.0, 81.08083606031792);stroke-width:2\" />  </svg></g><g transform=\"translate(6,0)\">  <svg x=\"27.792636861582903%\" y=\"40\" height=\"18\" overflow=\"visible\" width=\"30\">    <path d=\"M 0 -9 l 6 18 L 0 25\" fill=\"none\" style=\"stroke:rgb(255.0, 0.0, 81.08083606031792);stroke-width:2\" />  </svg></g><g transform=\"translate(-8,0)\">  <svg x=\"27.792636861582903%\" y=\"40\" height=\"18\" overflow=\"visible\" width=\"30\">    <path d=\"M 0 -9 l 6 18 L 0 25\" fill=\"none\" style=\"stroke:rgb(255.0, 0.0, 81.08083606031792);stroke-width:2\" />  </svg></g><g transform=\"translate(-6,0)\">  <svg x=\"27.792636861582903%\" y=\"40\" height=\"18\" overflow=\"visible\" width=\"30\">    <path d=\"M 0 -9 l 6 18 L 0 25\" fill=\"none\" style=\"stroke:rgb(255.0, 0.0, 81.08083606031792);stroke-width:2\" />  </svg></g><g transform=\"translate(-4,0)\">  <svg x=\"27.792636861582903%\" y=\"40\" height=\"18\" overflow=\"visible\" width=\"30\">    <path d=\"M 0 -9 l 6 18 L 0 25\" fill=\"none\" style=\"stroke:rgb(255.0, 0.0, 81.08083606031792);stroke-width:2\" />  </svg></g><g transform=\"translate(-2,0)\">  <svg x=\"27.792636861582903%\" y=\"40\" height=\"18\" overflow=\"visible\" width=\"30\">    <path d=\"M 0 -9 l 6 18 L 0 25\" fill=\"none\" style=\"stroke:rgb(255.0, 0.0, 81.08083606031792);stroke-width:2\" />  </svg></g><g transform=\"translate(0,0)\">  <svg x=\"24.506617344992424%\" y=\"40\" height=\"18\" overflow=\"visible\" width=\"30\">    <path d=\"M 0 -9 l 6 18 L 0 25\" fill=\"none\" style=\"stroke:rgb(255.0, 0.0, 81.08083606031792);stroke-width:2\" />  </svg></g><g transform=\"translate(2,0)\">  <svg x=\"24.506617344992424%\" y=\"40\" height=\"18\" overflow=\"visible\" width=\"30\">    <path d=\"M 0 -9 l 6 18 L 0 25\" fill=\"none\" style=\"stroke:rgb(255.0, 0.0, 81.08083606031792);stroke-width:2\" />  </svg></g><g transform=\"translate(4,0)\">  <svg x=\"24.506617344992424%\" y=\"40\" height=\"18\" overflow=\"visible\" width=\"30\">    <path d=\"M 0 -9 l 6 18 L 0 25\" fill=\"none\" style=\"stroke:rgb(255.0, 0.0, 81.08083606031792);stroke-width:2\" />  </svg></g><g transform=\"translate(6,0)\">  <svg x=\"24.506617344992424%\" y=\"40\" height=\"18\" overflow=\"visible\" width=\"30\">    <path d=\"M 0 -9 l 6 18 L 0 25\" fill=\"none\" style=\"stroke:rgb(255.0, 0.0, 81.08083606031792);stroke-width:2\" />  </svg></g><g transform=\"translate(-8,0)\">  <svg x=\"24.506617344992424%\" y=\"40\" height=\"18\" overflow=\"visible\" width=\"30\">    <path d=\"M 0 -9 l 6 18 L 0 25\" fill=\"none\" style=\"stroke:rgb(255.0, 0.0, 81.08083606031792);stroke-width:2\" />  </svg></g><g transform=\"translate(-6,0)\">  <svg x=\"24.506617344992424%\" y=\"40\" height=\"18\" overflow=\"visible\" width=\"30\">    <path d=\"M 0 -9 l 6 18 L 0 25\" fill=\"none\" style=\"stroke:rgb(255.0, 0.0, 81.08083606031792);stroke-width:2\" />  </svg></g><g transform=\"translate(-4,0)\">  <svg x=\"24.506617344992424%\" y=\"40\" height=\"18\" overflow=\"visible\" width=\"30\">    <path d=\"M 0 -9 l 6 18 L 0 25\" fill=\"none\" style=\"stroke:rgb(255.0, 0.0, 81.08083606031792);stroke-width:2\" />  </svg></g><g transform=\"translate(-2,0)\">  <svg x=\"24.506617344992424%\" y=\"40\" height=\"18\" overflow=\"visible\" width=\"30\">    <path d=\"M 0 -9 l 6 18 L 0 25\" fill=\"none\" style=\"stroke:rgb(255.0, 0.0, 81.08083606031792);stroke-width:2\" />  </svg></g><g transform=\"translate(0,0)\">  <svg x=\"21.290863816293115%\" y=\"40\" height=\"18\" overflow=\"visible\" width=\"30\">    <path d=\"M 0 -9 l 6 18 L 0 25\" fill=\"none\" style=\"stroke:rgb(255.0, 0.0, 81.08083606031792);stroke-width:2\" />  </svg></g><g transform=\"translate(2,0)\">  <svg x=\"21.290863816293115%\" y=\"40\" height=\"18\" overflow=\"visible\" width=\"30\">    <path d=\"M 0 -9 l 6 18 L 0 25\" fill=\"none\" style=\"stroke:rgb(255.0, 0.0, 81.08083606031792);stroke-width:2\" />  </svg></g><g transform=\"translate(4,0)\">  <svg x=\"21.290863816293115%\" y=\"40\" height=\"18\" overflow=\"visible\" width=\"30\">    <path d=\"M 0 -9 l 6 18 L 0 25\" fill=\"none\" style=\"stroke:rgb(255.0, 0.0, 81.08083606031792);stroke-width:2\" />  </svg></g><g transform=\"translate(6,0)\">  <svg x=\"21.290863816293115%\" y=\"40\" height=\"18\" overflow=\"visible\" width=\"30\">    <path d=\"M 0 -9 l 6 18 L 0 25\" fill=\"none\" style=\"stroke:rgb(255.0, 0.0, 81.08083606031792);stroke-width:2\" />  </svg></g><g transform=\"translate(-8,0)\">  <svg x=\"21.290863816293115%\" y=\"40\" height=\"18\" overflow=\"visible\" width=\"30\">    <path d=\"M 0 -9 l 6 18 L 0 25\" fill=\"none\" style=\"stroke:rgb(255.0, 0.0, 81.08083606031792);stroke-width:2\" />  </svg></g><g transform=\"translate(-6,0)\">  <svg x=\"21.290863816293115%\" y=\"40\" height=\"18\" overflow=\"visible\" width=\"30\">    <path d=\"M 0 -9 l 6 18 L 0 25\" fill=\"none\" style=\"stroke:rgb(255.0, 0.0, 81.08083606031792);stroke-width:2\" />  </svg></g><g transform=\"translate(-4,0)\">  <svg x=\"21.290863816293115%\" y=\"40\" height=\"18\" overflow=\"visible\" width=\"30\">    <path d=\"M 0 -9 l 6 18 L 0 25\" fill=\"none\" style=\"stroke:rgb(255.0, 0.0, 81.08083606031792);stroke-width:2\" />  </svg></g><g transform=\"translate(-2,0)\">  <svg x=\"21.290863816293115%\" y=\"40\" height=\"18\" overflow=\"visible\" width=\"30\">    <path d=\"M 0 -9 l 6 18 L 0 25\" fill=\"none\" style=\"stroke:rgb(255.0, 0.0, 81.08083606031792);stroke-width:2\" />  </svg></g><g transform=\"translate(0,0)\">  <svg x=\"18.696282557629278%\" y=\"40\" height=\"18\" overflow=\"visible\" width=\"30\">    <path d=\"M 0 -9 l 6 18 L 0 25\" fill=\"none\" style=\"stroke:rgb(255.0, 0.0, 81.08083606031792);stroke-width:2\" />  </svg></g><g transform=\"translate(2,0)\">  <svg x=\"18.696282557629278%\" y=\"40\" height=\"18\" overflow=\"visible\" width=\"30\">    <path d=\"M 0 -9 l 6 18 L 0 25\" fill=\"none\" style=\"stroke:rgb(255.0, 0.0, 81.08083606031792);stroke-width:2\" />  </svg></g><g transform=\"translate(4,0)\">  <svg x=\"18.696282557629278%\" y=\"40\" height=\"18\" overflow=\"visible\" width=\"30\">    <path d=\"M 0 -9 l 6 18 L 0 25\" fill=\"none\" style=\"stroke:rgb(255.0, 0.0, 81.08083606031792);stroke-width:2\" />  </svg></g><g transform=\"translate(6,0)\">  <svg x=\"18.696282557629278%\" y=\"40\" height=\"18\" overflow=\"visible\" width=\"30\">    <path d=\"M 0 -9 l 6 18 L 0 25\" fill=\"none\" style=\"stroke:rgb(255.0, 0.0, 81.08083606031792);stroke-width:2\" />  </svg></g><g transform=\"translate(-8,0)\">  <svg x=\"18.696282557629278%\" y=\"40\" height=\"18\" overflow=\"visible\" width=\"30\">    <path d=\"M 0 -9 l 6 18 L 0 25\" fill=\"none\" style=\"stroke:rgb(255.0, 0.0, 81.08083606031792);stroke-width:2\" />  </svg></g><g transform=\"translate(-6,0)\">  <svg x=\"18.696282557629278%\" y=\"40\" height=\"18\" overflow=\"visible\" width=\"30\">    <path d=\"M 0 -9 l 6 18 L 0 25\" fill=\"none\" style=\"stroke:rgb(255.0, 0.0, 81.08083606031792);stroke-width:2\" />  </svg></g><g transform=\"translate(-4,0)\">  <svg x=\"18.696282557629278%\" y=\"40\" height=\"18\" overflow=\"visible\" width=\"30\">    <path d=\"M 0 -9 l 6 18 L 0 25\" fill=\"none\" style=\"stroke:rgb(255.0, 0.0, 81.08083606031792);stroke-width:2\" />  </svg></g><g transform=\"translate(-2,0)\">  <svg x=\"18.696282557629278%\" y=\"40\" height=\"18\" overflow=\"visible\" width=\"30\">    <path d=\"M 0 -9 l 6 18 L 0 25\" fill=\"none\" style=\"stroke:rgb(255.0, 0.0, 81.08083606031792);stroke-width:2\" />  </svg></g><g transform=\"translate(0,0)\">  <svg x=\"16.30430864332073%\" y=\"40\" height=\"18\" overflow=\"visible\" width=\"30\">    <path d=\"M 0 -9 l 6 18 L 0 25\" fill=\"none\" style=\"stroke:rgb(255.0, 0.0, 81.08083606031792);stroke-width:2\" />  </svg></g><g transform=\"translate(2,0)\">  <svg x=\"16.30430864332073%\" y=\"40\" height=\"18\" overflow=\"visible\" width=\"30\">    <path d=\"M 0 -9 l 6 18 L 0 25\" fill=\"none\" style=\"stroke:rgb(255.0, 0.0, 81.08083606031792);stroke-width:2\" />  </svg></g><g transform=\"translate(4,0)\">  <svg x=\"16.30430864332073%\" y=\"40\" height=\"18\" overflow=\"visible\" width=\"30\">    <path d=\"M 0 -9 l 6 18 L 0 25\" fill=\"none\" style=\"stroke:rgb(255.0, 0.0, 81.08083606031792);stroke-width:2\" />  </svg></g><g transform=\"translate(6,0)\">  <svg x=\"16.30430864332073%\" y=\"40\" height=\"18\" overflow=\"visible\" width=\"30\">    <path d=\"M 0 -9 l 6 18 L 0 25\" fill=\"none\" style=\"stroke:rgb(255.0, 0.0, 81.08083606031792);stroke-width:2\" />  </svg></g><g transform=\"translate(-8,0)\">  <svg x=\"16.30430864332073%\" y=\"40\" height=\"18\" overflow=\"visible\" width=\"30\">    <path d=\"M 0 -9 l 6 18 L 0 25\" fill=\"none\" style=\"stroke:rgb(255.0, 0.0, 81.08083606031792);stroke-width:2\" />  </svg></g><g transform=\"translate(-6,0)\">  <svg x=\"16.30430864332073%\" y=\"40\" height=\"18\" overflow=\"visible\" width=\"30\">    <path d=\"M 0 -9 l 6 18 L 0 25\" fill=\"none\" style=\"stroke:rgb(255.0, 0.0, 81.08083606031792);stroke-width:2\" />  </svg></g><g transform=\"translate(-4,0)\">  <svg x=\"16.30430864332073%\" y=\"40\" height=\"18\" overflow=\"visible\" width=\"30\">    <path d=\"M 0 -9 l 6 18 L 0 25\" fill=\"none\" style=\"stroke:rgb(255.0, 0.0, 81.08083606031792);stroke-width:2\" />  </svg></g><g transform=\"translate(-2,0)\">  <svg x=\"16.30430864332073%\" y=\"40\" height=\"18\" overflow=\"visible\" width=\"30\">    <path d=\"M 0 -9 l 6 18 L 0 25\" fill=\"none\" style=\"stroke:rgb(255.0, 0.0, 81.08083606031792);stroke-width:2\" />  </svg></g><g transform=\"translate(0,0)\">  <svg x=\"14.731975319830575%\" y=\"40\" height=\"18\" overflow=\"visible\" width=\"30\">    <path d=\"M 0 -9 l 6 18 L 0 25\" fill=\"none\" style=\"stroke:rgb(255.0, 0.0, 81.08083606031792);stroke-width:2\" />  </svg></g><g transform=\"translate(2,0)\">  <svg x=\"14.731975319830575%\" y=\"40\" height=\"18\" overflow=\"visible\" width=\"30\">    <path d=\"M 0 -9 l 6 18 L 0 25\" fill=\"none\" style=\"stroke:rgb(255.0, 0.0, 81.08083606031792);stroke-width:2\" />  </svg></g><g transform=\"translate(4,0)\">  <svg x=\"14.731975319830575%\" y=\"40\" height=\"18\" overflow=\"visible\" width=\"30\">    <path d=\"M 0 -9 l 6 18 L 0 25\" fill=\"none\" style=\"stroke:rgb(255.0, 0.0, 81.08083606031792);stroke-width:2\" />  </svg></g><g transform=\"translate(6,0)\">  <svg x=\"14.731975319830575%\" y=\"40\" height=\"18\" overflow=\"visible\" width=\"30\">    <path d=\"M 0 -9 l 6 18 L 0 25\" fill=\"none\" style=\"stroke:rgb(255.0, 0.0, 81.08083606031792);stroke-width:2\" />  </svg></g><g transform=\"translate(-8,0)\">  <svg x=\"14.731975319830575%\" y=\"40\" height=\"18\" overflow=\"visible\" width=\"30\">    <path d=\"M 0 -9 l 6 18 L 0 25\" fill=\"none\" style=\"stroke:rgb(255.0, 0.0, 81.08083606031792);stroke-width:2\" />  </svg></g><g transform=\"translate(-6,0)\">  <svg x=\"14.731975319830575%\" y=\"40\" height=\"18\" overflow=\"visible\" width=\"30\">    <path d=\"M 0 -9 l 6 18 L 0 25\" fill=\"none\" style=\"stroke:rgb(255.0, 0.0, 81.08083606031792);stroke-width:2\" />  </svg></g><g transform=\"translate(-4,0)\">  <svg x=\"14.731975319830575%\" y=\"40\" height=\"18\" overflow=\"visible\" width=\"30\">    <path d=\"M 0 -9 l 6 18 L 0 25\" fill=\"none\" style=\"stroke:rgb(255.0, 0.0, 81.08083606031792);stroke-width:2\" />  </svg></g><g transform=\"translate(-2,0)\">  <svg x=\"14.731975319830575%\" y=\"40\" height=\"18\" overflow=\"visible\" width=\"30\">    <path d=\"M 0 -9 l 6 18 L 0 25\" fill=\"none\" style=\"stroke:rgb(255.0, 0.0, 81.08083606031792);stroke-width:2\" />  </svg></g><g transform=\"translate(0,0)\">  <svg x=\"13.634410906653176%\" y=\"40\" height=\"18\" overflow=\"visible\" width=\"30\">    <path d=\"M 0 -9 l 6 18 L 0 25\" fill=\"none\" style=\"stroke:rgb(255.0, 0.0, 81.08083606031792);stroke-width:2\" />  </svg></g><g transform=\"translate(2,0)\">  <svg x=\"13.634410906653176%\" y=\"40\" height=\"18\" overflow=\"visible\" width=\"30\">    <path d=\"M 0 -9 l 6 18 L 0 25\" fill=\"none\" style=\"stroke:rgb(255.0, 0.0, 81.08083606031792);stroke-width:2\" />  </svg></g><g transform=\"translate(4,0)\">  <svg x=\"13.634410906653176%\" y=\"40\" height=\"18\" overflow=\"visible\" width=\"30\">    <path d=\"M 0 -9 l 6 18 L 0 25\" fill=\"none\" style=\"stroke:rgb(255.0, 0.0, 81.08083606031792);stroke-width:2\" />  </svg></g><g transform=\"translate(6,0)\">  <svg x=\"13.634410906653176%\" y=\"40\" height=\"18\" overflow=\"visible\" width=\"30\">    <path d=\"M 0 -9 l 6 18 L 0 25\" fill=\"none\" style=\"stroke:rgb(255.0, 0.0, 81.08083606031792);stroke-width:2\" />  </svg></g><g transform=\"translate(-8,0)\">  <svg x=\"13.634410906653176%\" y=\"40\" height=\"18\" overflow=\"visible\" width=\"30\">    <path d=\"M 0 -9 l 6 18 L 0 25\" fill=\"none\" style=\"stroke:rgb(255.0, 0.0, 81.08083606031792);stroke-width:2\" />  </svg></g><g transform=\"translate(-6,0)\">  <svg x=\"13.634410906653176%\" y=\"40\" height=\"18\" overflow=\"visible\" width=\"30\">    <path d=\"M 0 -9 l 6 18 L 0 25\" fill=\"none\" style=\"stroke:rgb(255.0, 0.0, 81.08083606031792);stroke-width:2\" />  </svg></g><g transform=\"translate(-4,0)\">  <svg x=\"13.634410906653176%\" y=\"40\" height=\"18\" overflow=\"visible\" width=\"30\">    <path d=\"M 0 -9 l 6 18 L 0 25\" fill=\"none\" style=\"stroke:rgb(255.0, 0.0, 81.08083606031792);stroke-width:2\" />  </svg></g><g transform=\"translate(-2,0)\">  <svg x=\"13.634410906653176%\" y=\"40\" height=\"18\" overflow=\"visible\" width=\"30\">    <path d=\"M 0 -9 l 6 18 L 0 25\" fill=\"none\" style=\"stroke:rgb(255.0, 0.0, 81.08083606031792);stroke-width:2\" />  </svg></g><g transform=\"translate(0,0)\">  <svg x=\"12.770714710734886%\" y=\"40\" height=\"18\" overflow=\"visible\" width=\"30\">    <path d=\"M 0 -9 l 6 18 L 0 25\" fill=\"none\" style=\"stroke:rgb(255.0, 0.0, 81.08083606031792);stroke-width:2\" />  </svg></g><g transform=\"translate(2,0)\">  <svg x=\"12.770714710734886%\" y=\"40\" height=\"18\" overflow=\"visible\" width=\"30\">    <path d=\"M 0 -9 l 6 18 L 0 25\" fill=\"none\" style=\"stroke:rgb(255.0, 0.0, 81.08083606031792);stroke-width:2\" />  </svg></g><g transform=\"translate(4,0)\">  <svg x=\"12.770714710734886%\" y=\"40\" height=\"18\" overflow=\"visible\" width=\"30\">    <path d=\"M 0 -9 l 6 18 L 0 25\" fill=\"none\" style=\"stroke:rgb(255.0, 0.0, 81.08083606031792);stroke-width:2\" />  </svg></g><g transform=\"translate(6,0)\">  <svg x=\"12.770714710734886%\" y=\"40\" height=\"18\" overflow=\"visible\" width=\"30\">    <path d=\"M 0 -9 l 6 18 L 0 25\" fill=\"none\" style=\"stroke:rgb(255.0, 0.0, 81.08083606031792);stroke-width:2\" />  </svg></g><g transform=\"translate(-8,0)\">  <svg x=\"12.770714710734886%\" y=\"40\" height=\"18\" overflow=\"visible\" width=\"30\">    <path d=\"M 0 -9 l 6 18 L 0 25\" fill=\"none\" style=\"stroke:rgb(255.0, 0.0, 81.08083606031792);stroke-width:2\" />  </svg></g><g transform=\"translate(-6,0)\">  <svg x=\"12.770714710734886%\" y=\"40\" height=\"18\" overflow=\"visible\" width=\"30\">    <path d=\"M 0 -9 l 6 18 L 0 25\" fill=\"none\" style=\"stroke:rgb(255.0, 0.0, 81.08083606031792);stroke-width:2\" />  </svg></g><g transform=\"translate(-4,0)\">  <svg x=\"12.770714710734886%\" y=\"40\" height=\"18\" overflow=\"visible\" width=\"30\">    <path d=\"M 0 -9 l 6 18 L 0 25\" fill=\"none\" style=\"stroke:rgb(255.0, 0.0, 81.08083606031792);stroke-width:2\" />  </svg></g><g transform=\"translate(-2,0)\">  <svg x=\"12.770714710734886%\" y=\"40\" height=\"18\" overflow=\"visible\" width=\"30\">    <path d=\"M 0 -9 l 6 18 L 0 25\" fill=\"none\" style=\"stroke:rgb(255.0, 0.0, 81.08083606031792);stroke-width:2\" />  </svg></g><g transform=\"translate(0,0)\">  <svg x=\"11.91265014052232%\" y=\"40\" height=\"18\" overflow=\"visible\" width=\"30\">    <path d=\"M 0 -9 l 6 18 L 0 25\" fill=\"none\" style=\"stroke:rgb(255.0, 0.0, 81.08083606031792);stroke-width:2\" />  </svg></g><g transform=\"translate(2,0)\">  <svg x=\"11.91265014052232%\" y=\"40\" height=\"18\" overflow=\"visible\" width=\"30\">    <path d=\"M 0 -9 l 6 18 L 0 25\" fill=\"none\" style=\"stroke:rgb(255.0, 0.0, 81.08083606031792);stroke-width:2\" />  </svg></g><g transform=\"translate(4,0)\">  <svg x=\"11.91265014052232%\" y=\"40\" height=\"18\" overflow=\"visible\" width=\"30\">    <path d=\"M 0 -9 l 6 18 L 0 25\" fill=\"none\" style=\"stroke:rgb(255.0, 0.0, 81.08083606031792);stroke-width:2\" />  </svg></g><g transform=\"translate(6,0)\">  <svg x=\"11.91265014052232%\" y=\"40\" height=\"18\" overflow=\"visible\" width=\"30\">    <path d=\"M 0 -9 l 6 18 L 0 25\" fill=\"none\" style=\"stroke:rgb(255.0, 0.0, 81.08083606031792);stroke-width:2\" />  </svg></g><g transform=\"translate(-8,0)\">  <svg x=\"11.91265014052232%\" y=\"40\" height=\"18\" overflow=\"visible\" width=\"30\">    <path d=\"M 0 -9 l 6 18 L 0 25\" fill=\"none\" style=\"stroke:rgb(255.0, 0.0, 81.08083606031792);stroke-width:2\" />  </svg></g><g transform=\"translate(-6,0)\">  <svg x=\"11.91265014052232%\" y=\"40\" height=\"18\" overflow=\"visible\" width=\"30\">    <path d=\"M 0 -9 l 6 18 L 0 25\" fill=\"none\" style=\"stroke:rgb(255.0, 0.0, 81.08083606031792);stroke-width:2\" />  </svg></g><g transform=\"translate(-4,0)\">  <svg x=\"11.91265014052232%\" y=\"40\" height=\"18\" overflow=\"visible\" width=\"30\">    <path d=\"M 0 -9 l 6 18 L 0 25\" fill=\"none\" style=\"stroke:rgb(255.0, 0.0, 81.08083606031792);stroke-width:2\" />  </svg></g><g transform=\"translate(-2,0)\">  <svg x=\"11.91265014052232%\" y=\"40\" height=\"18\" overflow=\"visible\" width=\"30\">    <path d=\"M 0 -9 l 6 18 L 0 25\" fill=\"none\" style=\"stroke:rgb(255.0, 0.0, 81.08083606031792);stroke-width:2\" />  </svg></g><g transform=\"translate(0,0)\">  <svg x=\"11.207217651627044%\" y=\"40\" height=\"18\" overflow=\"visible\" width=\"30\">    <path d=\"M 0 -9 l 6 18 L 0 25\" fill=\"none\" style=\"stroke:rgb(255.0, 0.0, 81.08083606031792);stroke-width:2\" />  </svg></g><g transform=\"translate(2,0)\">  <svg x=\"11.207217651627044%\" y=\"40\" height=\"18\" overflow=\"visible\" width=\"30\">    <path d=\"M 0 -9 l 6 18 L 0 25\" fill=\"none\" style=\"stroke:rgb(255.0, 0.0, 81.08083606031792);stroke-width:2\" />  </svg></g><g transform=\"translate(4,0)\">  <svg x=\"11.207217651627044%\" y=\"40\" height=\"18\" overflow=\"visible\" width=\"30\">    <path d=\"M 0 -9 l 6 18 L 0 25\" fill=\"none\" style=\"stroke:rgb(255.0, 0.0, 81.08083606031792);stroke-width:2\" />  </svg></g><g transform=\"translate(6,0)\">  <svg x=\"11.207217651627044%\" y=\"40\" height=\"18\" overflow=\"visible\" width=\"30\">    <path d=\"M 0 -9 l 6 18 L 0 25\" fill=\"none\" style=\"stroke:rgb(255.0, 0.0, 81.08083606031792);stroke-width:2\" />  </svg></g><g transform=\"translate(-8,0)\">  <svg x=\"11.207217651627044%\" y=\"40\" height=\"18\" overflow=\"visible\" width=\"30\">    <path d=\"M 0 -9 l 6 18 L 0 25\" fill=\"none\" style=\"stroke:rgb(255.0, 0.0, 81.08083606031792);stroke-width:2\" />  </svg></g><g transform=\"translate(-6,0)\">  <svg x=\"11.207217651627044%\" y=\"40\" height=\"18\" overflow=\"visible\" width=\"30\">    <path d=\"M 0 -9 l 6 18 L 0 25\" fill=\"none\" style=\"stroke:rgb(255.0, 0.0, 81.08083606031792);stroke-width:2\" />  </svg></g><g transform=\"translate(-4,0)\">  <svg x=\"11.207217651627044%\" y=\"40\" height=\"18\" overflow=\"visible\" width=\"30\">    <path d=\"M 0 -9 l 6 18 L 0 25\" fill=\"none\" style=\"stroke:rgb(255.0, 0.0, 81.08083606031792);stroke-width:2\" />  </svg></g><g transform=\"translate(-2,0)\">  <svg x=\"11.207217651627044%\" y=\"40\" height=\"18\" overflow=\"visible\" width=\"30\">    <path d=\"M 0 -9 l 6 18 L 0 25\" fill=\"none\" style=\"stroke:rgb(255.0, 0.0, 81.08083606031792);stroke-width:2\" />  </svg></g><g transform=\"translate(0,0)\">  <svg x=\"10.560405913514476%\" y=\"40\" height=\"18\" overflow=\"visible\" width=\"30\">    <path d=\"M 0 -9 l 6 18 L 0 25\" fill=\"none\" style=\"stroke:rgb(255.0, 0.0, 81.08083606031792);stroke-width:2\" />  </svg></g><g transform=\"translate(2,0)\">  <svg x=\"10.560405913514476%\" y=\"40\" height=\"18\" overflow=\"visible\" width=\"30\">    <path d=\"M 0 -9 l 6 18 L 0 25\" fill=\"none\" style=\"stroke:rgb(255.0, 0.0, 81.08083606031792);stroke-width:2\" />  </svg></g><g transform=\"translate(4,0)\">  <svg x=\"10.560405913514476%\" y=\"40\" height=\"18\" overflow=\"visible\" width=\"30\">    <path d=\"M 0 -9 l 6 18 L 0 25\" fill=\"none\" style=\"stroke:rgb(255.0, 0.0, 81.08083606031792);stroke-width:2\" />  </svg></g><g transform=\"translate(6,0)\">  <svg x=\"10.560405913514476%\" y=\"40\" height=\"18\" overflow=\"visible\" width=\"30\">    <path d=\"M 0 -9 l 6 18 L 0 25\" fill=\"none\" style=\"stroke:rgb(255.0, 0.0, 81.08083606031792);stroke-width:2\" />  </svg></g><g transform=\"translate(-8,0)\">  <svg x=\"10.560405913514476%\" y=\"40\" height=\"18\" overflow=\"visible\" width=\"30\">    <path d=\"M 0 -9 l 6 18 L 0 25\" fill=\"none\" style=\"stroke:rgb(255.0, 0.0, 81.08083606031792);stroke-width:2\" />  </svg></g><g transform=\"translate(-6,0)\">  <svg x=\"10.560405913514476%\" y=\"40\" height=\"18\" overflow=\"visible\" width=\"30\">    <path d=\"M 0 -9 l 6 18 L 0 25\" fill=\"none\" style=\"stroke:rgb(255.0, 0.0, 81.08083606031792);stroke-width:2\" />  </svg></g><g transform=\"translate(-4,0)\">  <svg x=\"10.560405913514476%\" y=\"40\" height=\"18\" overflow=\"visible\" width=\"30\">    <path d=\"M 0 -9 l 6 18 L 0 25\" fill=\"none\" style=\"stroke:rgb(255.0, 0.0, 81.08083606031792);stroke-width:2\" />  </svg></g><g transform=\"translate(-2,0)\">  <svg x=\"10.560405913514476%\" y=\"40\" height=\"18\" overflow=\"visible\" width=\"30\">    <path d=\"M 0 -9 l 6 18 L 0 25\" fill=\"none\" style=\"stroke:rgb(255.0, 0.0, 81.08083606031792);stroke-width:2\" />  </svg></g><g transform=\"translate(0,0)\">  <svg x=\"9.97534597453242%\" y=\"40\" height=\"18\" overflow=\"visible\" width=\"30\">    <path d=\"M 0 -9 l 6 18 L 0 25\" fill=\"none\" style=\"stroke:rgb(255.0, 0.0, 81.08083606031792);stroke-width:2\" />  </svg></g><g transform=\"translate(2,0)\">  <svg x=\"9.97534597453242%\" y=\"40\" height=\"18\" overflow=\"visible\" width=\"30\">    <path d=\"M 0 -9 l 6 18 L 0 25\" fill=\"none\" style=\"stroke:rgb(255.0, 0.0, 81.08083606031792);stroke-width:2\" />  </svg></g><g transform=\"translate(4,0)\">  <svg x=\"9.97534597453242%\" y=\"40\" height=\"18\" overflow=\"visible\" width=\"30\">    <path d=\"M 0 -9 l 6 18 L 0 25\" fill=\"none\" style=\"stroke:rgb(255.0, 0.0, 81.08083606031792);stroke-width:2\" />  </svg></g><g transform=\"translate(6,0)\">  <svg x=\"9.97534597453242%\" y=\"40\" height=\"18\" overflow=\"visible\" width=\"30\">    <path d=\"M 0 -9 l 6 18 L 0 25\" fill=\"none\" style=\"stroke:rgb(255.0, 0.0, 81.08083606031792);stroke-width:2\" />  </svg></g><g transform=\"translate(-8,0)\">  <svg x=\"9.97534597453242%\" y=\"40\" height=\"18\" overflow=\"visible\" width=\"30\">    <path d=\"M 0 -9 l 6 18 L 0 25\" fill=\"none\" style=\"stroke:rgb(255.0, 0.0, 81.08083606031792);stroke-width:2\" />  </svg></g><g transform=\"translate(-6,0)\">  <svg x=\"9.97534597453242%\" y=\"40\" height=\"18\" overflow=\"visible\" width=\"30\">    <path d=\"M 0 -9 l 6 18 L 0 25\" fill=\"none\" style=\"stroke:rgb(255.0, 0.0, 81.08083606031792);stroke-width:2\" />  </svg></g><g transform=\"translate(-4,0)\">  <svg x=\"9.97534597453242%\" y=\"40\" height=\"18\" overflow=\"visible\" width=\"30\">    <path d=\"M 0 -9 l 6 18 L 0 25\" fill=\"none\" style=\"stroke:rgb(255.0, 0.0, 81.08083606031792);stroke-width:2\" />  </svg></g><g transform=\"translate(-2,0)\">  <svg x=\"9.97534597453242%\" y=\"40\" height=\"18\" overflow=\"visible\" width=\"30\">    <path d=\"M 0 -9 l 6 18 L 0 25\" fill=\"none\" style=\"stroke:rgb(255.0, 0.0, 81.08083606031792);stroke-width:2\" />  </svg></g><g transform=\"translate(0,0)\">  <svg x=\"9.58059927422511%\" y=\"40\" height=\"18\" overflow=\"visible\" width=\"30\">    <path d=\"M 0 -9 l 6 18 L 0 25\" fill=\"none\" style=\"stroke:rgb(255.0, 0.0, 81.08083606031792);stroke-width:2\" />  </svg></g><g transform=\"translate(2,0)\">  <svg x=\"9.58059927422511%\" y=\"40\" height=\"18\" overflow=\"visible\" width=\"30\">    <path d=\"M 0 -9 l 6 18 L 0 25\" fill=\"none\" style=\"stroke:rgb(255.0, 0.0, 81.08083606031792);stroke-width:2\" />  </svg></g><g transform=\"translate(4,0)\">  <svg x=\"9.58059927422511%\" y=\"40\" height=\"18\" overflow=\"visible\" width=\"30\">    <path d=\"M 0 -9 l 6 18 L 0 25\" fill=\"none\" style=\"stroke:rgb(255.0, 0.0, 81.08083606031792);stroke-width:2\" />  </svg></g><g transform=\"translate(6,0)\">  <svg x=\"9.58059927422511%\" y=\"40\" height=\"18\" overflow=\"visible\" width=\"30\">    <path d=\"M 0 -9 l 6 18 L 0 25\" fill=\"none\" style=\"stroke:rgb(255.0, 0.0, 81.08083606031792);stroke-width:2\" />  </svg></g><g transform=\"translate(-8,0)\">  <svg x=\"9.58059927422511%\" y=\"40\" height=\"18\" overflow=\"visible\" width=\"30\">    <path d=\"M 0 -9 l 6 18 L 0 25\" fill=\"none\" style=\"stroke:rgb(255.0, 0.0, 81.08083606031792);stroke-width:2\" />  </svg></g><g transform=\"translate(-6,0)\">  <svg x=\"9.58059927422511%\" y=\"40\" height=\"18\" overflow=\"visible\" width=\"30\">    <path d=\"M 0 -9 l 6 18 L 0 25\" fill=\"none\" style=\"stroke:rgb(255.0, 0.0, 81.08083606031792);stroke-width:2\" />  </svg></g><g transform=\"translate(-4,0)\">  <svg x=\"9.58059927422511%\" y=\"40\" height=\"18\" overflow=\"visible\" width=\"30\">    <path d=\"M 0 -9 l 6 18 L 0 25\" fill=\"none\" style=\"stroke:rgb(255.0, 0.0, 81.08083606031792);stroke-width:2\" />  </svg></g><g transform=\"translate(-2,0)\">  <svg x=\"9.58059927422511%\" y=\"40\" height=\"18\" overflow=\"visible\" width=\"30\">    <path d=\"M 0 -9 l 6 18 L 0 25\" fill=\"none\" style=\"stroke:rgb(255.0, 0.0, 81.08083606031792);stroke-width:2\" />  </svg></g><g transform=\"translate(0,0)\">  <svg x=\"9.278879751738097%\" y=\"40\" height=\"18\" overflow=\"visible\" width=\"30\">    <path d=\"M 0 -9 l 6 18 L 0 25\" fill=\"none\" style=\"stroke:rgb(255.0, 0.0, 81.08083606031792);stroke-width:2\" />  </svg></g><g transform=\"translate(2,0)\">  <svg x=\"9.278879751738097%\" y=\"40\" height=\"18\" overflow=\"visible\" width=\"30\">    <path d=\"M 0 -9 l 6 18 L 0 25\" fill=\"none\" style=\"stroke:rgb(255.0, 0.0, 81.08083606031792);stroke-width:2\" />  </svg></g><g transform=\"translate(4,0)\">  <svg x=\"9.278879751738097%\" y=\"40\" height=\"18\" overflow=\"visible\" width=\"30\">    <path d=\"M 0 -9 l 6 18 L 0 25\" fill=\"none\" style=\"stroke:rgb(255.0, 0.0, 81.08083606031792);stroke-width:2\" />  </svg></g><g transform=\"translate(6,0)\">  <svg x=\"9.278879751738097%\" y=\"40\" height=\"18\" overflow=\"visible\" width=\"30\">    <path d=\"M 0 -9 l 6 18 L 0 25\" fill=\"none\" style=\"stroke:rgb(255.0, 0.0, 81.08083606031792);stroke-width:2\" />  </svg></g><g transform=\"translate(-8,0)\">  <svg x=\"9.278879751738097%\" y=\"40\" height=\"18\" overflow=\"visible\" width=\"30\">    <path d=\"M 0 -9 l 6 18 L 0 25\" fill=\"none\" style=\"stroke:rgb(255.0, 0.0, 81.08083606031792);stroke-width:2\" />  </svg></g><g transform=\"translate(-6,0)\">  <svg x=\"9.278879751738097%\" y=\"40\" height=\"18\" overflow=\"visible\" width=\"30\">    <path d=\"M 0 -9 l 6 18 L 0 25\" fill=\"none\" style=\"stroke:rgb(255.0, 0.0, 81.08083606031792);stroke-width:2\" />  </svg></g><g transform=\"translate(-4,0)\">  <svg x=\"9.278879751738097%\" y=\"40\" height=\"18\" overflow=\"visible\" width=\"30\">    <path d=\"M 0 -9 l 6 18 L 0 25\" fill=\"none\" style=\"stroke:rgb(255.0, 0.0, 81.08083606031792);stroke-width:2\" />  </svg></g><g transform=\"translate(-2,0)\">  <svg x=\"9.278879751738097%\" y=\"40\" height=\"18\" overflow=\"visible\" width=\"30\">    <path d=\"M 0 -9 l 6 18 L 0 25\" fill=\"none\" style=\"stroke:rgb(255.0, 0.0, 81.08083606031792);stroke-width:2\" />  </svg></g><g transform=\"translate(0,0)\">  <svg x=\"8.984323139186067%\" y=\"40\" height=\"18\" overflow=\"visible\" width=\"30\">    <path d=\"M 0 -9 l 6 18 L 0 25\" fill=\"none\" style=\"stroke:rgb(255.0, 0.0, 81.08083606031792);stroke-width:2\" />  </svg></g><g transform=\"translate(2,0)\">  <svg x=\"8.984323139186067%\" y=\"40\" height=\"18\" overflow=\"visible\" width=\"30\">    <path d=\"M 0 -9 l 6 18 L 0 25\" fill=\"none\" style=\"stroke:rgb(255.0, 0.0, 81.08083606031792);stroke-width:2\" />  </svg></g><g transform=\"translate(4,0)\">  <svg x=\"8.984323139186067%\" y=\"40\" height=\"18\" overflow=\"visible\" width=\"30\">    <path d=\"M 0 -9 l 6 18 L 0 25\" fill=\"none\" style=\"stroke:rgb(255.0, 0.0, 81.08083606031792);stroke-width:2\" />  </svg></g><g transform=\"translate(6,0)\">  <svg x=\"8.984323139186067%\" y=\"40\" height=\"18\" overflow=\"visible\" width=\"30\">    <path d=\"M 0 -9 l 6 18 L 0 25\" fill=\"none\" style=\"stroke:rgb(255.0, 0.0, 81.08083606031792);stroke-width:2\" />  </svg></g><g transform=\"translate(-8,0)\">  <svg x=\"8.984323139186067%\" y=\"40\" height=\"18\" overflow=\"visible\" width=\"30\">    <path d=\"M 0 -9 l 6 18 L 0 25\" fill=\"none\" style=\"stroke:rgb(255.0, 0.0, 81.08083606031792);stroke-width:2\" />  </svg></g><g transform=\"translate(-6,0)\">  <svg x=\"8.984323139186067%\" y=\"40\" height=\"18\" overflow=\"visible\" width=\"30\">    <path d=\"M 0 -9 l 6 18 L 0 25\" fill=\"none\" style=\"stroke:rgb(255.0, 0.0, 81.08083606031792);stroke-width:2\" />  </svg></g><g transform=\"translate(-4,0)\">  <svg x=\"8.984323139186067%\" y=\"40\" height=\"18\" overflow=\"visible\" width=\"30\">    <path d=\"M 0 -9 l 6 18 L 0 25\" fill=\"none\" style=\"stroke:rgb(255.0, 0.0, 81.08083606031792);stroke-width:2\" />  </svg></g><g transform=\"translate(-2,0)\">  <svg x=\"8.984323139186067%\" y=\"40\" height=\"18\" overflow=\"visible\" width=\"30\">    <path d=\"M 0 -9 l 6 18 L 0 25\" fill=\"none\" style=\"stroke:rgb(255.0, 0.0, 81.08083606031792);stroke-width:2\" />  </svg></g><g transform=\"translate(0,0)\">  <svg x=\"8.692896631516088%\" y=\"40\" height=\"18\" overflow=\"visible\" width=\"30\">    <path d=\"M 0 -9 l 6 18 L 0 25\" fill=\"none\" style=\"stroke:rgb(255.0, 0.0, 81.08083606031792);stroke-width:2\" />  </svg></g><g transform=\"translate(2,0)\">  <svg x=\"8.692896631516088%\" y=\"40\" height=\"18\" overflow=\"visible\" width=\"30\">    <path d=\"M 0 -9 l 6 18 L 0 25\" fill=\"none\" style=\"stroke:rgb(255.0, 0.0, 81.08083606031792);stroke-width:2\" />  </svg></g><g transform=\"translate(4,0)\">  <svg x=\"8.692896631516088%\" y=\"40\" height=\"18\" overflow=\"visible\" width=\"30\">    <path d=\"M 0 -9 l 6 18 L 0 25\" fill=\"none\" style=\"stroke:rgb(255.0, 0.0, 81.08083606031792);stroke-width:2\" />  </svg></g><g transform=\"translate(6,0)\">  <svg x=\"8.692896631516088%\" y=\"40\" height=\"18\" overflow=\"visible\" width=\"30\">    <path d=\"M 0 -9 l 6 18 L 0 25\" fill=\"none\" style=\"stroke:rgb(255.0, 0.0, 81.08083606031792);stroke-width:2\" />  </svg></g><g transform=\"translate(-8,0)\">  <svg x=\"8.692896631516088%\" y=\"40\" height=\"18\" overflow=\"visible\" width=\"30\">    <path d=\"M 0 -9 l 6 18 L 0 25\" fill=\"none\" style=\"stroke:rgb(255.0, 0.0, 81.08083606031792);stroke-width:2\" />  </svg></g><g transform=\"translate(-6,0)\">  <svg x=\"8.692896631516088%\" y=\"40\" height=\"18\" overflow=\"visible\" width=\"30\">    <path d=\"M 0 -9 l 6 18 L 0 25\" fill=\"none\" style=\"stroke:rgb(255.0, 0.0, 81.08083606031792);stroke-width:2\" />  </svg></g><g transform=\"translate(-4,0)\">  <svg x=\"8.692896631516088%\" y=\"40\" height=\"18\" overflow=\"visible\" width=\"30\">    <path d=\"M 0 -9 l 6 18 L 0 25\" fill=\"none\" style=\"stroke:rgb(255.0, 0.0, 81.08083606031792);stroke-width:2\" />  </svg></g><g transform=\"translate(-2,0)\">  <svg x=\"8.692896631516088%\" y=\"40\" height=\"18\" overflow=\"visible\" width=\"30\">    <path d=\"M 0 -9 l 6 18 L 0 25\" fill=\"none\" style=\"stroke:rgb(255.0, 0.0, 81.08083606031792);stroke-width:2\" />  </svg></g><g transform=\"translate(0,0)\">  <svg x=\"8.49051968936006%\" y=\"40\" height=\"18\" overflow=\"visible\" width=\"30\">    <path d=\"M 0 -9 l 6 18 L 0 25\" fill=\"none\" style=\"stroke:rgb(255.0, 0.0, 81.08083606031792);stroke-width:2\" />  </svg></g><g transform=\"translate(2,0)\">  <svg x=\"8.49051968936006%\" y=\"40\" height=\"18\" overflow=\"visible\" width=\"30\">    <path d=\"M 0 -9 l 6 18 L 0 25\" fill=\"none\" style=\"stroke:rgb(255.0, 0.0, 81.08083606031792);stroke-width:2\" />  </svg></g><g transform=\"translate(4,0)\">  <svg x=\"8.49051968936006%\" y=\"40\" height=\"18\" overflow=\"visible\" width=\"30\">    <path d=\"M 0 -9 l 6 18 L 0 25\" fill=\"none\" style=\"stroke:rgb(255.0, 0.0, 81.08083606031792);stroke-width:2\" />  </svg></g><g transform=\"translate(6,0)\">  <svg x=\"8.49051968936006%\" y=\"40\" height=\"18\" overflow=\"visible\" width=\"30\">    <path d=\"M 0 -9 l 6 18 L 0 25\" fill=\"none\" style=\"stroke:rgb(255.0, 0.0, 81.08083606031792);stroke-width:2\" />  </svg></g><g transform=\"translate(-8,0)\">  <svg x=\"8.49051968936006%\" y=\"40\" height=\"18\" overflow=\"visible\" width=\"30\">    <path d=\"M 0 -9 l 6 18 L 0 25\" fill=\"none\" style=\"stroke:rgb(255.0, 0.0, 81.08083606031792);stroke-width:2\" />  </svg></g><g transform=\"translate(-6,0)\">  <svg x=\"8.49051968936006%\" y=\"40\" height=\"18\" overflow=\"visible\" width=\"30\">    <path d=\"M 0 -9 l 6 18 L 0 25\" fill=\"none\" style=\"stroke:rgb(255.0, 0.0, 81.08083606031792);stroke-width:2\" />  </svg></g><g transform=\"translate(-4,0)\">  <svg x=\"8.49051968936006%\" y=\"40\" height=\"18\" overflow=\"visible\" width=\"30\">    <path d=\"M 0 -9 l 6 18 L 0 25\" fill=\"none\" style=\"stroke:rgb(255.0, 0.0, 81.08083606031792);stroke-width:2\" />  </svg></g><g transform=\"translate(-2,0)\">  <svg x=\"8.49051968936006%\" y=\"40\" height=\"18\" overflow=\"visible\" width=\"30\">    <path d=\"M 0 -9 l 6 18 L 0 25\" fill=\"none\" style=\"stroke:rgb(255.0, 0.0, 81.08083606031792);stroke-width:2\" />  </svg></g><rect transform=\"translate(-8,0)\" x=\"91.5793001778076%\" y=\"40\" width=\"8\" height=\"18\" style=\"fill:rgb(255.0, 0.0, 81.08083606031792)\"/><g transform=\"translate(-11.5,0)\">  <svg x=\"8.33333326298343%\" y=\"40\" height=\"18\" overflow=\"visible\" width=\"30\">    <path d=\"M 10 -9 l 6 18 L 10 25 L 0 25 L 0 -9\" fill=\"#ffffff\" style=\"stroke:rgb(255,255,255);stroke-width:2\" />  </svg></g><g transform=\"translate(-1.5,0)\">  <svg x=\"91.5793001778076%\" y=\"40\" height=\"18\" overflow=\"visible\" width=\"30\">    <path d=\"M 0 -9 l 6 18 L 0 25\" fill=\"none\" style=\"stroke:rgb(255, 195, 213);stroke-width:2\" />  </svg></g><rect x=\"82.01549538808128%\" y=\"40\" height=\"20\" width=\"9.56380478972632%\"      onmouseover=\"document.getElementById('_tp_qahftrxckafnafqofpva_ind_24').style.textDecoration = 'underline';document.getElementById('_fs_qahftrxckafnafqofpva_ind_24').style.opacity = 1;document.getElementById('_fb_qahftrxckafnafqofpva_ind_24').style.opacity = 1;\"      onmouseout=\"document.getElementById('_tp_qahftrxckafnafqofpva_ind_24').style.textDecoration = 'none';document.getElementById('_fs_qahftrxckafnafqofpva_ind_24').style.opacity = 0;document.getElementById('_fb_qahftrxckafnafqofpva_ind_24').style.opacity = 0;\" style=\"fill:rgb(0,0,0,0)\" /><g transform=\"translate(-1.5,0)\">  <svg x=\"82.01549538808128%\" y=\"40\" height=\"18\" overflow=\"visible\" width=\"30\">    <path d=\"M 0 -9 l 6 18 L 0 25\" fill=\"none\" style=\"stroke:rgb(255, 195, 213);stroke-width:2\" />  </svg></g><rect x=\"72.47746765518778%\" y=\"40\" height=\"20\" width=\"9.538027732893497%\"      onmouseover=\"document.getElementById('_tp_qahftrxckafnafqofpva_ind_2').style.textDecoration = 'underline';document.getElementById('_fs_qahftrxckafnafqofpva_ind_2').style.opacity = 1;document.getElementById('_fb_qahftrxckafnafqofpva_ind_2').style.opacity = 1;\"      onmouseout=\"document.getElementById('_tp_qahftrxckafnafqofpva_ind_2').style.textDecoration = 'none';document.getElementById('_fs_qahftrxckafnafqofpva_ind_2').style.opacity = 0;document.getElementById('_fb_qahftrxckafnafqofpva_ind_2').style.opacity = 0;\" style=\"fill:rgb(0,0,0,0)\" /><g transform=\"translate(-1.5,0)\">  <svg x=\"72.47746765518778%\" y=\"40\" height=\"18\" overflow=\"visible\" width=\"30\">    <path d=\"M 0 -9 l 6 18 L 0 25\" fill=\"none\" style=\"stroke:rgb(255, 195, 213);stroke-width:2\" />  </svg></g><rect x=\"63.11091670995296%\" y=\"40\" height=\"20\" width=\"9.36655094523482%\"      onmouseover=\"document.getElementById('_tp_qahftrxckafnafqofpva_ind_1').style.textDecoration = 'underline';document.getElementById('_fs_qahftrxckafnafqofpva_ind_1').style.opacity = 1;document.getElementById('_fb_qahftrxckafnafqofpva_ind_1').style.opacity = 1;\"      onmouseout=\"document.getElementById('_tp_qahftrxckafnafqofpva_ind_1').style.textDecoration = 'none';document.getElementById('_fs_qahftrxckafnafqofpva_ind_1').style.opacity = 0;document.getElementById('_fb_qahftrxckafnafqofpva_ind_1').style.opacity = 0;\" style=\"fill:rgb(0,0,0,0)\" /><g transform=\"translate(-1.5,0)\">  <svg x=\"63.11091670995296%\" y=\"40\" height=\"18\" overflow=\"visible\" width=\"30\">    <path d=\"M 0 -9 l 6 18 L 0 25\" fill=\"none\" style=\"stroke:rgb(255, 195, 213);stroke-width:2\" />  </svg></g><rect x=\"54.789068145517795%\" y=\"40\" height=\"20\" width=\"8.321848564435165%\"      onmouseover=\"document.getElementById('_tp_qahftrxckafnafqofpva_ind_7').style.textDecoration = 'underline';document.getElementById('_fs_qahftrxckafnafqofpva_ind_7').style.opacity = 1;document.getElementById('_fb_qahftrxckafnafqofpva_ind_7').style.opacity = 1;\"      onmouseout=\"document.getElementById('_tp_qahftrxckafnafqofpva_ind_7').style.textDecoration = 'none';document.getElementById('_fs_qahftrxckafnafqofpva_ind_7').style.opacity = 0;document.getElementById('_fb_qahftrxckafnafqofpva_ind_7').style.opacity = 0;\" style=\"fill:rgb(0,0,0,0)\" /><g transform=\"translate(-1.5,0)\">  <svg x=\"54.789068145517795%\" y=\"40\" height=\"18\" overflow=\"visible\" width=\"30\">    <path d=\"M 0 -9 l 6 18 L 0 25\" fill=\"none\" style=\"stroke:rgb(255, 195, 213);stroke-width:2\" />  </svg></g><rect x=\"49.08300825951253%\" y=\"40\" height=\"20\" width=\"5.706059886005264%\"      onmouseover=\"document.getElementById('_tp_qahftrxckafnafqofpva_ind_11').style.textDecoration = 'underline';document.getElementById('_fs_qahftrxckafnafqofpva_ind_11').style.opacity = 1;document.getElementById('_fb_qahftrxckafnafqofpva_ind_11').style.opacity = 1;\"      onmouseout=\"document.getElementById('_tp_qahftrxckafnafqofpva_ind_11').style.textDecoration = 'none';document.getElementById('_fs_qahftrxckafnafqofpva_ind_11').style.opacity = 0;document.getElementById('_fb_qahftrxckafnafqofpva_ind_11').style.opacity = 0;\" style=\"fill:rgb(0,0,0,0)\" /><g transform=\"translate(-1.5,0)\">  <svg x=\"49.08300825951253%\" y=\"40\" height=\"18\" overflow=\"visible\" width=\"30\">    <path d=\"M 0 -9 l 6 18 L 0 25\" fill=\"none\" style=\"stroke:rgb(255, 195, 213);stroke-width:2\" />  </svg></g><rect x=\"43.90836961124096%\" y=\"40\" height=\"20\" width=\"5.174638648271575%\"      onmouseover=\"document.getElementById('_tp_qahftrxckafnafqofpva_ind_13').style.textDecoration = 'underline';document.getElementById('_fs_qahftrxckafnafqofpva_ind_13').style.opacity = 1;document.getElementById('_fb_qahftrxckafnafqofpva_ind_13').style.opacity = 1;\"      onmouseout=\"document.getElementById('_tp_qahftrxckafnafqofpva_ind_13').style.textDecoration = 'none';document.getElementById('_fs_qahftrxckafnafqofpva_ind_13').style.opacity = 0;document.getElementById('_fb_qahftrxckafnafqofpva_ind_13').style.opacity = 0;\" style=\"fill:rgb(0,0,0,0)\" /><g transform=\"translate(-1.5,0)\">  <svg x=\"43.90836961124096%\" y=\"40\" height=\"18\" overflow=\"visible\" width=\"30\">    <path d=\"M 0 -9 l 6 18 L 0 25\" fill=\"none\" style=\"stroke:rgb(255, 195, 213);stroke-width:2\" />  </svg></g><rect x=\"39.16466146186094%\" y=\"40\" height=\"20\" width=\"4.743708149380019%\"      onmouseover=\"document.getElementById('_tp_qahftrxckafnafqofpva_ind_23').style.textDecoration = 'underline';document.getElementById('_fs_qahftrxckafnafqofpva_ind_23').style.opacity = 1;document.getElementById('_fb_qahftrxckafnafqofpva_ind_23').style.opacity = 1;\"      onmouseout=\"document.getElementById('_tp_qahftrxckafnafqofpva_ind_23').style.textDecoration = 'none';document.getElementById('_fs_qahftrxckafnafqofpva_ind_23').style.opacity = 0;document.getElementById('_fb_qahftrxckafnafqofpva_ind_23').style.opacity = 0;\" style=\"fill:rgb(0,0,0,0)\" /><g transform=\"translate(-1.5,0)\">  <svg x=\"39.16466146186094%\" y=\"40\" height=\"18\" overflow=\"visible\" width=\"30\">    <path d=\"M 0 -9 l 6 18 L 0 25\" fill=\"none\" style=\"stroke:rgb(255, 195, 213);stroke-width:2\" />  </svg></g><rect x=\"34.81257242381486%\" y=\"40\" height=\"20\" width=\"4.352089038046074%\"      onmouseover=\"document.getElementById('_tp_qahftrxckafnafqofpva_ind_8').style.textDecoration = 'underline';document.getElementById('_fs_qahftrxckafnafqofpva_ind_8').style.opacity = 1;document.getElementById('_fb_qahftrxckafnafqofpva_ind_8').style.opacity = 1;\"      onmouseout=\"document.getElementById('_tp_qahftrxckafnafqofpva_ind_8').style.textDecoration = 'none';document.getElementById('_fs_qahftrxckafnafqofpva_ind_8').style.opacity = 0;document.getElementById('_fb_qahftrxckafnafqofpva_ind_8').style.opacity = 0;\" style=\"fill:rgb(0,0,0,0)\" /><g transform=\"translate(-1.5,0)\">  <svg x=\"34.81257242381486%\" y=\"40\" height=\"18\" overflow=\"visible\" width=\"30\">    <path d=\"M 0 -9 l 6 18 L 0 25\" fill=\"none\" style=\"stroke:rgb(255, 195, 213);stroke-width:2\" />  </svg></g><rect x=\"31.276898109931132%\" y=\"40\" height=\"20\" width=\"3.5356743138837317%\"      onmouseover=\"document.getElementById('_tp_qahftrxckafnafqofpva_ind_20').style.textDecoration = 'underline';document.getElementById('_fs_qahftrxckafnafqofpva_ind_20').style.opacity = 1;document.getElementById('_fb_qahftrxckafnafqofpva_ind_20').style.opacity = 1;\"      onmouseout=\"document.getElementById('_tp_qahftrxckafnafqofpva_ind_20').style.textDecoration = 'none';document.getElementById('_fs_qahftrxckafnafqofpva_ind_20').style.opacity = 0;document.getElementById('_fb_qahftrxckafnafqofpva_ind_20').style.opacity = 0;\" style=\"fill:rgb(0,0,0,0)\" /><g transform=\"translate(-1.5,0)\">  <svg x=\"31.276898109931132%\" y=\"40\" height=\"18\" overflow=\"visible\" width=\"30\">    <path d=\"M 0 -9 l 6 18 L 0 25\" fill=\"none\" style=\"stroke:rgb(255, 195, 213);stroke-width:2\" />  </svg></g><rect x=\"27.792636861582903%\" y=\"40\" height=\"20\" width=\"3.484261248348229%\"      onmouseover=\"document.getElementById('_tp_qahftrxckafnafqofpva_ind_22').style.textDecoration = 'underline';document.getElementById('_fs_qahftrxckafnafqofpva_ind_22').style.opacity = 1;document.getElementById('_fb_qahftrxckafnafqofpva_ind_22').style.opacity = 1;\"      onmouseout=\"document.getElementById('_tp_qahftrxckafnafqofpva_ind_22').style.textDecoration = 'none';document.getElementById('_fs_qahftrxckafnafqofpva_ind_22').style.opacity = 0;document.getElementById('_fb_qahftrxckafnafqofpva_ind_22').style.opacity = 0;\" style=\"fill:rgb(0,0,0,0)\" /><g transform=\"translate(-1.5,0)\">  <svg x=\"27.792636861582903%\" y=\"40\" height=\"18\" overflow=\"visible\" width=\"30\">    <path d=\"M 0 -9 l 6 18 L 0 25\" fill=\"none\" style=\"stroke:rgb(255, 195, 213);stroke-width:2\" />  </svg></g><rect x=\"24.506617344992424%\" y=\"40\" height=\"20\" width=\"3.2860195165904784%\"      onmouseover=\"document.getElementById('_tp_qahftrxckafnafqofpva_ind_10').style.textDecoration = 'underline';document.getElementById('_fs_qahftrxckafnafqofpva_ind_10').style.opacity = 1;document.getElementById('_fb_qahftrxckafnafqofpva_ind_10').style.opacity = 1;\"      onmouseout=\"document.getElementById('_tp_qahftrxckafnafqofpva_ind_10').style.textDecoration = 'none';document.getElementById('_fs_qahftrxckafnafqofpva_ind_10').style.opacity = 0;document.getElementById('_fb_qahftrxckafnafqofpva_ind_10').style.opacity = 0;\" style=\"fill:rgb(0,0,0,0)\" /><g transform=\"translate(-1.5,0)\">  <svg x=\"24.506617344992424%\" y=\"40\" height=\"18\" overflow=\"visible\" width=\"30\">    <path d=\"M 0 -9 l 6 18 L 0 25\" fill=\"none\" style=\"stroke:rgb(255, 195, 213);stroke-width:2\" />  </svg></g><rect x=\"21.290863816293115%\" y=\"40\" height=\"20\" width=\"3.2157535286993095%\"      onmouseover=\"document.getElementById('_tp_qahftrxckafnafqofpva_ind_12').style.textDecoration = 'underline';document.getElementById('_fs_qahftrxckafnafqofpva_ind_12').style.opacity = 1;document.getElementById('_fb_qahftrxckafnafqofpva_ind_12').style.opacity = 1;\"      onmouseout=\"document.getElementById('_tp_qahftrxckafnafqofpva_ind_12').style.textDecoration = 'none';document.getElementById('_fs_qahftrxckafnafqofpva_ind_12').style.opacity = 0;document.getElementById('_fb_qahftrxckafnafqofpva_ind_12').style.opacity = 0;\" style=\"fill:rgb(0,0,0,0)\" /><g transform=\"translate(-1.5,0)\">  <svg x=\"21.290863816293115%\" y=\"40\" height=\"18\" overflow=\"visible\" width=\"30\">    <path d=\"M 0 -9 l 6 18 L 0 25\" fill=\"none\" style=\"stroke:rgb(255, 195, 213);stroke-width:2\" />  </svg></g><rect x=\"18.696282557629278%\" y=\"40\" height=\"20\" width=\"2.594581258663837%\"      onmouseover=\"document.getElementById('_tp_qahftrxckafnafqofpva_ind_9').style.textDecoration = 'underline';document.getElementById('_fs_qahftrxckafnafqofpva_ind_9').style.opacity = 1;document.getElementById('_fb_qahftrxckafnafqofpva_ind_9').style.opacity = 1;\"      onmouseout=\"document.getElementById('_tp_qahftrxckafnafqofpva_ind_9').style.textDecoration = 'none';document.getElementById('_fs_qahftrxckafnafqofpva_ind_9').style.opacity = 0;document.getElementById('_fb_qahftrxckafnafqofpva_ind_9').style.opacity = 0;\" style=\"fill:rgb(0,0,0,0)\" /><g transform=\"translate(-1.5,0)\">  <svg x=\"18.696282557629278%\" y=\"40\" height=\"18\" overflow=\"visible\" width=\"30\">    <path d=\"M 0 -9 l 6 18 L 0 25\" fill=\"none\" style=\"stroke:rgb(255, 195, 213);stroke-width:2\" />  </svg></g><rect x=\"16.30430864332073%\" y=\"40\" height=\"20\" width=\"2.3919739143085472%\"      onmouseover=\"document.getElementById('_tp_qahftrxckafnafqofpva_ind_19').style.textDecoration = 'underline';document.getElementById('_fs_qahftrxckafnafqofpva_ind_19').style.opacity = 1;document.getElementById('_fb_qahftrxckafnafqofpva_ind_19').style.opacity = 1;\"      onmouseout=\"document.getElementById('_tp_qahftrxckafnafqofpva_ind_19').style.textDecoration = 'none';document.getElementById('_fs_qahftrxckafnafqofpva_ind_19').style.opacity = 0;document.getElementById('_fb_qahftrxckafnafqofpva_ind_19').style.opacity = 0;\" style=\"fill:rgb(0,0,0,0)\" /><g transform=\"translate(-1.5,0)\">  <svg x=\"16.30430864332073%\" y=\"40\" height=\"18\" overflow=\"visible\" width=\"30\">    <path d=\"M 0 -9 l 6 18 L 0 25\" fill=\"none\" style=\"stroke:rgb(255, 195, 213);stroke-width:2\" />  </svg></g><rect x=\"14.731975319830575%\" y=\"40\" height=\"20\" width=\"1.572333323490156%\"      onmouseover=\"document.getElementById('_tp_qahftrxckafnafqofpva_ind_4').style.textDecoration = 'underline';document.getElementById('_fs_qahftrxckafnafqofpva_ind_4').style.opacity = 1;document.getElementById('_fb_qahftrxckafnafqofpva_ind_4').style.opacity = 1;\"      onmouseout=\"document.getElementById('_tp_qahftrxckafnafqofpva_ind_4').style.textDecoration = 'none';document.getElementById('_fs_qahftrxckafnafqofpva_ind_4').style.opacity = 0;document.getElementById('_fb_qahftrxckafnafqofpva_ind_4').style.opacity = 0;\" style=\"fill:rgb(0,0,0,0)\" /><g transform=\"translate(-1.5,0)\">  <svg x=\"14.731975319830575%\" y=\"40\" height=\"18\" overflow=\"visible\" width=\"30\">    <path d=\"M 0 -9 l 6 18 L 0 25\" fill=\"none\" style=\"stroke:rgb(255, 195, 213);stroke-width:2\" />  </svg></g><rect x=\"13.634410906653176%\" y=\"40\" height=\"20\" width=\"1.0975644131773983%\"      onmouseover=\"document.getElementById('_tp_qahftrxckafnafqofpva_ind_5').style.textDecoration = 'underline';document.getElementById('_fs_qahftrxckafnafqofpva_ind_5').style.opacity = 1;document.getElementById('_fb_qahftrxckafnafqofpva_ind_5').style.opacity = 1;\"      onmouseout=\"document.getElementById('_tp_qahftrxckafnafqofpva_ind_5').style.textDecoration = 'none';document.getElementById('_fs_qahftrxckafnafqofpva_ind_5').style.opacity = 0;document.getElementById('_fb_qahftrxckafnafqofpva_ind_5').style.opacity = 0;\" style=\"fill:rgb(0,0,0,0)\" /><g transform=\"translate(-1.5,0)\">  <svg x=\"13.634410906653176%\" y=\"40\" height=\"18\" overflow=\"visible\" width=\"30\">    <path d=\"M 0 -9 l 6 18 L 0 25\" fill=\"none\" style=\"stroke:rgb(255, 195, 213);stroke-width:2\" />  </svg></g><rect x=\"12.770714710734886%\" y=\"40\" height=\"20\" width=\"0.8636961959182905%\"      onmouseover=\"document.getElementById('_tp_qahftrxckafnafqofpva_ind_14').style.textDecoration = 'underline';document.getElementById('_fs_qahftrxckafnafqofpva_ind_14').style.opacity = 1;document.getElementById('_fb_qahftrxckafnafqofpva_ind_14').style.opacity = 1;\"      onmouseout=\"document.getElementById('_tp_qahftrxckafnafqofpva_ind_14').style.textDecoration = 'none';document.getElementById('_fs_qahftrxckafnafqofpva_ind_14').style.opacity = 0;document.getElementById('_fb_qahftrxckafnafqofpva_ind_14').style.opacity = 0;\" style=\"fill:rgb(0,0,0,0)\" /><g transform=\"translate(-1.5,0)\">  <svg x=\"12.770714710734886%\" y=\"40\" height=\"18\" overflow=\"visible\" width=\"30\">    <path d=\"M 0 -9 l 6 18 L 0 25\" fill=\"none\" style=\"stroke:rgb(255, 195, 213);stroke-width:2\" />  </svg></g><rect x=\"11.91265014052232%\" y=\"40\" height=\"20\" width=\"0.8580645702125658%\"      onmouseover=\"document.getElementById('_tp_qahftrxckafnafqofpva_ind_15').style.textDecoration = 'underline';document.getElementById('_fs_qahftrxckafnafqofpva_ind_15').style.opacity = 1;document.getElementById('_fb_qahftrxckafnafqofpva_ind_15').style.opacity = 1;\"      onmouseout=\"document.getElementById('_tp_qahftrxckafnafqofpva_ind_15').style.textDecoration = 'none';document.getElementById('_fs_qahftrxckafnafqofpva_ind_15').style.opacity = 0;document.getElementById('_fb_qahftrxckafnafqofpva_ind_15').style.opacity = 0;\" style=\"fill:rgb(0,0,0,0)\" /><g transform=\"translate(-1.5,0)\">  <svg x=\"11.91265014052232%\" y=\"40\" height=\"18\" overflow=\"visible\" width=\"30\">    <path d=\"M 0 -9 l 6 18 L 0 25\" fill=\"none\" style=\"stroke:rgb(255, 195, 213);stroke-width:2\" />  </svg></g><rect x=\"11.207217651627044%\" y=\"40\" height=\"20\" width=\"0.7054324888952763%\"      onmouseover=\"document.getElementById('_tp_qahftrxckafnafqofpva_ind_26').style.textDecoration = 'underline';document.getElementById('_fs_qahftrxckafnafqofpva_ind_26').style.opacity = 1;document.getElementById('_fb_qahftrxckafnafqofpva_ind_26').style.opacity = 1;\"      onmouseout=\"document.getElementById('_tp_qahftrxckafnafqofpva_ind_26').style.textDecoration = 'none';document.getElementById('_fs_qahftrxckafnafqofpva_ind_26').style.opacity = 0;document.getElementById('_fb_qahftrxckafnafqofpva_ind_26').style.opacity = 0;\" style=\"fill:rgb(0,0,0,0)\" /><g transform=\"translate(-1.5,0)\">  <svg x=\"11.207217651627044%\" y=\"40\" height=\"18\" overflow=\"visible\" width=\"30\">    <path d=\"M 0 -9 l 6 18 L 0 25\" fill=\"none\" style=\"stroke:rgb(255, 195, 213);stroke-width:2\" />  </svg></g><rect x=\"10.560405913514476%\" y=\"40\" height=\"20\" width=\"0.646811738112568%\"      onmouseover=\"document.getElementById('_tp_qahftrxckafnafqofpva_ind_21').style.textDecoration = 'underline';document.getElementById('_fs_qahftrxckafnafqofpva_ind_21').style.opacity = 1;document.getElementById('_fb_qahftrxckafnafqofpva_ind_21').style.opacity = 1;\"      onmouseout=\"document.getElementById('_tp_qahftrxckafnafqofpva_ind_21').style.textDecoration = 'none';document.getElementById('_fs_qahftrxckafnafqofpva_ind_21').style.opacity = 0;document.getElementById('_fb_qahftrxckafnafqofpva_ind_21').style.opacity = 0;\" style=\"fill:rgb(0,0,0,0)\" /><g transform=\"translate(-1.5,0)\">  <svg x=\"10.560405913514476%\" y=\"40\" height=\"18\" overflow=\"visible\" width=\"30\">    <path d=\"M 0 -9 l 6 18 L 0 25\" fill=\"none\" style=\"stroke:rgb(255, 195, 213);stroke-width:2\" />  </svg></g><rect x=\"9.97534597453242%\" y=\"40\" height=\"20\" width=\"0.5850599389820559%\"      onmouseover=\"document.getElementById('_tp_qahftrxckafnafqofpva_ind_3').style.textDecoration = 'underline';document.getElementById('_fs_qahftrxckafnafqofpva_ind_3').style.opacity = 1;document.getElementById('_fb_qahftrxckafnafqofpva_ind_3').style.opacity = 1;\"      onmouseout=\"document.getElementById('_tp_qahftrxckafnafqofpva_ind_3').style.textDecoration = 'none';document.getElementById('_fs_qahftrxckafnafqofpva_ind_3').style.opacity = 0;document.getElementById('_fb_qahftrxckafnafqofpva_ind_3').style.opacity = 0;\" style=\"fill:rgb(0,0,0,0)\" /><g transform=\"translate(-1.5,0)\">  <svg x=\"9.97534597453242%\" y=\"40\" height=\"18\" overflow=\"visible\" width=\"30\">    <path d=\"M 0 -9 l 6 18 L 0 25\" fill=\"none\" style=\"stroke:rgb(255, 195, 213);stroke-width:2\" />  </svg></g><rect x=\"9.58059927422511%\" y=\"40\" height=\"20\" width=\"0.3947467003073104%\"      onmouseover=\"document.getElementById('_tp_qahftrxckafnafqofpva_ind_27').style.textDecoration = 'underline';document.getElementById('_fs_qahftrxckafnafqofpva_ind_27').style.opacity = 1;document.getElementById('_fb_qahftrxckafnafqofpva_ind_27').style.opacity = 1;\"      onmouseout=\"document.getElementById('_tp_qahftrxckafnafqofpva_ind_27').style.textDecoration = 'none';document.getElementById('_fs_qahftrxckafnafqofpva_ind_27').style.opacity = 0;document.getElementById('_fb_qahftrxckafnafqofpva_ind_27').style.opacity = 0;\" style=\"fill:rgb(0,0,0,0)\" /><g transform=\"translate(-1.5,0)\">  <svg x=\"9.58059927422511%\" y=\"40\" height=\"18\" overflow=\"visible\" width=\"30\">    <path d=\"M 0 -9 l 6 18 L 0 25\" fill=\"none\" style=\"stroke:rgb(255, 195, 213);stroke-width:2\" />  </svg></g><rect x=\"9.278879751738097%\" y=\"40\" height=\"20\" width=\"0.30171952248701217%\"      onmouseover=\"document.getElementById('_tp_qahftrxckafnafqofpva_ind_6').style.textDecoration = 'underline';document.getElementById('_fs_qahftrxckafnafqofpva_ind_6').style.opacity = 1;document.getElementById('_fb_qahftrxckafnafqofpva_ind_6').style.opacity = 1;\"      onmouseout=\"document.getElementById('_tp_qahftrxckafnafqofpva_ind_6').style.textDecoration = 'none';document.getElementById('_fs_qahftrxckafnafqofpva_ind_6').style.opacity = 0;document.getElementById('_fb_qahftrxckafnafqofpva_ind_6').style.opacity = 0;\" style=\"fill:rgb(0,0,0,0)\" /><g transform=\"translate(-1.5,0)\">  <svg x=\"9.278879751738097%\" y=\"40\" height=\"18\" overflow=\"visible\" width=\"30\">    <path d=\"M 0 -9 l 6 18 L 0 25\" fill=\"none\" style=\"stroke:rgb(255, 195, 213);stroke-width:2\" />  </svg></g><rect x=\"8.984323139186067%\" y=\"40\" height=\"20\" width=\"0.2945566125520305%\"      onmouseover=\"document.getElementById('_tp_qahftrxckafnafqofpva_ind_17').style.textDecoration = 'underline';document.getElementById('_fs_qahftrxckafnafqofpva_ind_17').style.opacity = 1;document.getElementById('_fb_qahftrxckafnafqofpva_ind_17').style.opacity = 1;\"      onmouseout=\"document.getElementById('_tp_qahftrxckafnafqofpva_ind_17').style.textDecoration = 'none';document.getElementById('_fs_qahftrxckafnafqofpva_ind_17').style.opacity = 0;document.getElementById('_fb_qahftrxckafnafqofpva_ind_17').style.opacity = 0;\" style=\"fill:rgb(0,0,0,0)\" /><g transform=\"translate(-1.5,0)\">  <svg x=\"8.984323139186067%\" y=\"40\" height=\"18\" overflow=\"visible\" width=\"30\">    <path d=\"M 0 -9 l 6 18 L 0 25\" fill=\"none\" style=\"stroke:rgb(255, 195, 213);stroke-width:2\" />  </svg></g><rect x=\"8.692896631516088%\" y=\"40\" height=\"20\" width=\"0.29142650766997846%\"      onmouseover=\"document.getElementById('_tp_qahftrxckafnafqofpva_ind_0').style.textDecoration = 'underline';document.getElementById('_fs_qahftrxckafnafqofpva_ind_0').style.opacity = 1;document.getElementById('_fb_qahftrxckafnafqofpva_ind_0').style.opacity = 1;\"      onmouseout=\"document.getElementById('_tp_qahftrxckafnafqofpva_ind_0').style.textDecoration = 'none';document.getElementById('_fs_qahftrxckafnafqofpva_ind_0').style.opacity = 0;document.getElementById('_fb_qahftrxckafnafqofpva_ind_0').style.opacity = 0;\" style=\"fill:rgb(0,0,0,0)\" /><g transform=\"translate(-1.5,0)\">  <svg x=\"8.692896631516088%\" y=\"40\" height=\"18\" overflow=\"visible\" width=\"30\">    <path d=\"M 0 -9 l 6 18 L 0 25\" fill=\"none\" style=\"stroke:rgb(255, 195, 213);stroke-width:2\" />  </svg></g><rect x=\"8.49051968936006%\" y=\"40\" height=\"20\" width=\"0.20237694215602886%\"      onmouseover=\"document.getElementById('_tp_qahftrxckafnafqofpva_ind_16').style.textDecoration = 'underline';document.getElementById('_fs_qahftrxckafnafqofpva_ind_16').style.opacity = 1;document.getElementById('_fb_qahftrxckafnafqofpva_ind_16').style.opacity = 1;\"      onmouseout=\"document.getElementById('_tp_qahftrxckafnafqofpva_ind_16').style.textDecoration = 'none';document.getElementById('_fs_qahftrxckafnafqofpva_ind_16').style.opacity = 0;document.getElementById('_fb_qahftrxckafnafqofpva_ind_16').style.opacity = 0;\" style=\"fill:rgb(0,0,0,0)\" /><rect x=\"8.33333326298343%\" y=\"40\" height=\"20\" width=\"0.15718642637662938%\"      onmouseover=\"document.getElementById('_tp_qahftrxckafnafqofpva_ind_25').style.textDecoration = 'underline';document.getElementById('_fs_qahftrxckafnafqofpva_ind_25').style.opacity = 1;document.getElementById('_fb_qahftrxckafnafqofpva_ind_25').style.opacity = 1;\"      onmouseout=\"document.getElementById('_tp_qahftrxckafnafqofpva_ind_25').style.textDecoration = 'none';document.getElementById('_fs_qahftrxckafnafqofpva_ind_25').style.opacity = 0;document.getElementById('_fb_qahftrxckafnafqofpva_ind_25').style.opacity = 0;\" style=\"fill:rgb(0,0,0,0)\" /><rect x=\"91.5793001778076%\" width=\"0.08736571501011096%\" y=\"40\" height=\"18\" style=\"fill:rgb(0.0, 138.56128015770724, 250.76166088685727); stroke-width:0; stroke:rgb(0,0,0)\" /><line x1=\"91.5793001778076%\" x2=\"91.66666589281772%\" y1=\"60\" y2=\"60\" id=\"_fb_qahftrxckafnafqofpva_ind_18\" style=\"stroke:rgb(0.0, 138.56128015770724, 250.76166088685727);stroke-width:2; opacity: 0\"/><text x=\"91.62298303531266%\" y=\"71\" font-size=\"12px\" fill=\"rgb(0.0, 138.56128015770724, 250.76166088685727)\" id=\"_fs_qahftrxckafnafqofpva_ind_18\" style=\"opacity: 0\" dominant-baseline=\"middle\" text-anchor=\"middle\">-0.001</text><svg x=\"91.5793001778076%\" y=\"40\" height=\"20\" width=\"0.08736571501012236%\">  <svg x=\"0\" y=\"0\" width=\"100%\" height=\"100%\">    <text x=\"50%\" y=\"9\" font-size=\"12px\" fill=\"rgb(255,255,255)\" dominant-baseline=\"middle\" text-anchor=\"middle\">actually</text>  </svg></svg><rect transform=\"translate(0,0)\" x=\"91.5793001778076%\" y=\"40\" width=\"8\" height=\"18\" style=\"fill:rgb(0.0, 138.56128015770724, 250.76166088685727)\"/><g transform=\"translate(-6.0,0)\">  <svg x=\"91.66666589281772%\" y=\"40\" height=\"18\" overflow=\"visible\" width=\"30\">    <path d=\"M 8 -9 l -6 18 L 8 25 L 20 25 L 20 -9\" fill=\"#ffffff\" style=\"stroke:rgb(255,255,255);stroke-width:2\" />  </svg></g><rect x=\"91.5793001778076%\" y=\"40\" height=\"20\" width=\"0.08736571501012236%\"      onmouseover=\"document.getElementById('_tp_qahftrxckafnafqofpva_ind_18').style.textDecoration = 'underline';document.getElementById('_fs_qahftrxckafnafqofpva_ind_18').style.opacity = 1;document.getElementById('_fb_qahftrxckafnafqofpva_ind_18').style.opacity = 1;\"      onmouseout=\"document.getElementById('_tp_qahftrxckafnafqofpva_ind_18').style.textDecoration = 'none';document.getElementById('_fs_qahftrxckafnafqofpva_ind_18').style.opacity = 0;document.getElementById('_fb_qahftrxckafnafqofpva_ind_18').style.opacity = 0;\" style=\"fill:rgb(0,0,0,0)\" /></svg><div align='center'><div style=\"color: rgb(120,120,120); font-size: 12px; margin-top: -15px;\">inputs</div><div style='display: inline; text-align: center;'\n",
       "    ><div style='display: none; color: #999; padding-top: 0px; font-size: 12px;'>0.003</div\n",
       "        ><div id='_tp_qahftrxckafnafqofpva_ind_0'\n",
       "            style='display: inline; background: rgba(255.0, 13.0, 87.0, 0.02253911665676371); border-radius: 3px; padding: 0px'\n",
       "            onclick=\"\n",
       "            if (this.previousSibling.style.display == 'none') {\n",
       "                this.previousSibling.style.display = 'block';\n",
       "                this.parentNode.style.display = 'inline-block';\n",
       "            } else {\n",
       "                this.previousSibling.style.display = 'none';\n",
       "                this.parentNode.style.display = 'inline';\n",
       "            }\"\n",
       "            onmouseover=\"document.getElementById('_fb_qahftrxckafnafqofpva_ind_0').style.opacity = 1; document.getElementById('_fs_qahftrxckafnafqofpva_ind_0').style.opacity = 1;\"\n",
       "            onmouseout=\"document.getElementById('_fb_qahftrxckafnafqofpva_ind_0').style.opacity = 0; document.getElementById('_fs_qahftrxckafnafqofpva_ind_0').style.opacity = 0;\"\n",
       "        ></div></div><div style='display: inline; text-align: center;'\n",
       "    ><div style='display: none; color: #999; padding-top: 0px; font-size: 12px;'>0.111</div\n",
       "        ><div id='_tp_qahftrxckafnafqofpva_ind_1'\n",
       "            style='display: inline; background: rgba(255.0, 13.0, 87.0, 0.9921172509407804); border-radius: 3px; padding: 0px'\n",
       "            onclick=\"\n",
       "            if (this.previousSibling.style.display == 'none') {\n",
       "                this.previousSibling.style.display = 'block';\n",
       "                this.parentNode.style.display = 'inline-block';\n",
       "            } else {\n",
       "                this.previousSibling.style.display = 'none';\n",
       "                this.parentNode.style.display = 'inline';\n",
       "            }\"\n",
       "            onmouseover=\"document.getElementById('_fb_qahftrxckafnafqofpva_ind_1').style.opacity = 1; document.getElementById('_fs_qahftrxckafnafqofpva_ind_1').style.opacity = 1;\"\n",
       "            onmouseout=\"document.getElementById('_fb_qahftrxckafnafqofpva_ind_1').style.opacity = 0; document.getElementById('_fs_qahftrxckafnafqofpva_ind_1').style.opacity = 0;\"\n",
       "        >Gov</div></div><div style='display: inline; text-align: center;'\n",
       "    ><div style='display: none; color: #999; padding-top: 0px; font-size: 12px;'>0.113</div\n",
       "        ><div id='_tp_qahftrxckafnafqofpva_ind_2'\n",
       "            style='display: inline; background: rgba(255.0, 13.0, 87.0, 1.0); border-radius: 3px; padding: 0px'\n",
       "            onclick=\"\n",
       "            if (this.previousSibling.style.display == 'none') {\n",
       "                this.previousSibling.style.display = 'block';\n",
       "                this.parentNode.style.display = 'inline-block';\n",
       "            } else {\n",
       "                this.previousSibling.style.display = 'none';\n",
       "                this.parentNode.style.display = 'inline';\n",
       "            }\"\n",
       "            onmouseover=\"document.getElementById('_fb_qahftrxckafnafqofpva_ind_2').style.opacity = 1; document.getElementById('_fs_qahftrxckafnafqofpva_ind_2').style.opacity = 1;\"\n",
       "            onmouseout=\"document.getElementById('_fb_qahftrxckafnafqofpva_ind_2').style.opacity = 0; document.getElementById('_fs_qahftrxckafnafqofpva_ind_2').style.opacity = 0;\"\n",
       "        >. </div></div><div style='display: inline; text-align: center;'\n",
       "    ><div style='display: none; color: #999; padding-top: 0px; font-size: 12px;'>0.007 / 2</div\n",
       "        ><div id='_tp_qahftrxckafnafqofpva_ind_3'\n",
       "            style='display: inline; background: rgba(255.0, 13.0, 87.0, 0.05407011289364243); border-radius: 3px; padding: 0px'\n",
       "            onclick=\"\n",
       "            if (this.previousSibling.style.display == 'none') {\n",
       "                this.previousSibling.style.display = 'block';\n",
       "                this.parentNode.style.display = 'inline-block';\n",
       "            } else {\n",
       "                this.previousSibling.style.display = 'none';\n",
       "                this.parentNode.style.display = 'inline';\n",
       "            }\"\n",
       "            onmouseover=\"document.getElementById('_fb_qahftrxckafnafqofpva_ind_3').style.opacity = 1; document.getElementById('_fs_qahftrxckafnafqofpva_ind_3').style.opacity = 1;\"\n",
       "            onmouseout=\"document.getElementById('_fb_qahftrxckafnafqofpva_ind_3').style.opacity = 0; document.getElementById('_fs_qahftrxckafnafqofpva_ind_3').style.opacity = 0;\"\n",
       "        >Kim Reynolds</div></div><div style='display: inline; text-align: center;'\n",
       "    ><div style='display: none; color: #999; padding-top: 0px; font-size: 12px;'>0.019</div\n",
       "        ><div id='_tp_qahftrxckafnafqofpva_ind_4'\n",
       "            style='display: inline; background: rgba(255.0, 13.0, 87.0, 0.16442859972271742); border-radius: 3px; padding: 0px'\n",
       "            onclick=\"\n",
       "            if (this.previousSibling.style.display == 'none') {\n",
       "                this.previousSibling.style.display = 'block';\n",
       "                this.parentNode.style.display = 'inline-block';\n",
       "            } else {\n",
       "                this.previousSibling.style.display = 'none';\n",
       "                this.parentNode.style.display = 'inline';\n",
       "            }\"\n",
       "            onmouseover=\"document.getElementById('_fb_qahftrxckafnafqofpva_ind_4').style.opacity = 1; document.getElementById('_fs_qahftrxckafnafqofpva_ind_4').style.opacity = 1;\"\n",
       "            onmouseout=\"document.getElementById('_fb_qahftrxckafnafqofpva_ind_4').style.opacity = 0; document.getElementById('_fs_qahftrxckafnafqofpva_ind_4').style.opacity = 0;\"\n",
       "        >, </div></div><div style='display: inline; text-align: center;'\n",
       "    ><div style='display: none; color: #999; padding-top: 0px; font-size: 12px;'>0.013</div\n",
       "        ><div id='_tp_qahftrxckafnafqofpva_ind_5'\n",
       "            style='display: inline; background: rgba(255.0, 13.0, 87.0, 0.10924935630817992); border-radius: 3px; padding: 0px'\n",
       "            onclick=\"\n",
       "            if (this.previousSibling.style.display == 'none') {\n",
       "                this.previousSibling.style.display = 'block';\n",
       "                this.parentNode.style.display = 'inline-block';\n",
       "            } else {\n",
       "                this.previousSibling.style.display = 'none';\n",
       "                this.parentNode.style.display = 'inline';\n",
       "            }\"\n",
       "            onmouseover=\"document.getElementById('_fb_qahftrxckafnafqofpva_ind_5').style.opacity = 1; document.getElementById('_fs_qahftrxckafnafqofpva_ind_5').style.opacity = 1;\"\n",
       "            onmouseout=\"document.getElementById('_fb_qahftrxckafnafqofpva_ind_5').style.opacity = 0; document.getElementById('_fs_qahftrxckafnafqofpva_ind_5').style.opacity = 0;\"\n",
       "        >to</div></div><div style='display: inline; text-align: center;'\n",
       "    ><div style='display: none; color: #999; padding-top: 0px; font-size: 12px;'>0.004</div\n",
       "        ><div id='_tp_qahftrxckafnafqofpva_ind_6'\n",
       "            style='display: inline; background: rgba(255.0, 13.0, 87.0, 0.030421865715983164); border-radius: 3px; padding: 0px'\n",
       "            onclick=\"\n",
       "            if (this.previousSibling.style.display == 'none') {\n",
       "                this.previousSibling.style.display = 'block';\n",
       "                this.parentNode.style.display = 'inline-block';\n",
       "            } else {\n",
       "                this.previousSibling.style.display = 'none';\n",
       "                this.parentNode.style.display = 'inline';\n",
       "            }\"\n",
       "            onmouseover=\"document.getElementById('_fb_qahftrxckafnafqofpva_ind_6').style.opacity = 1; document.getElementById('_fs_qahftrxckafnafqofpva_ind_6').style.opacity = 1;\"\n",
       "            onmouseout=\"document.getElementById('_fb_qahftrxckafnafqofpva_ind_6').style.opacity = 0; document.getElementById('_fs_qahftrxckafnafqofpva_ind_6').style.opacity = 0;\"\n",
       "        >uting </div></div><div style='display: inline; text-align: center;'\n",
       "    ><div style='display: none; color: #999; padding-top: 0px; font-size: 12px;'>0.099</div\n",
       "        ><div id='_tp_qahftrxckafnafqofpva_ind_7'\n",
       "            style='display: inline; background: rgba(255.0, 13.0, 87.0, 0.8817587641117054); border-radius: 3px; padding: 0px'\n",
       "            onclick=\"\n",
       "            if (this.previousSibling.style.display == 'none') {\n",
       "                this.previousSibling.style.display = 'block';\n",
       "                this.parentNode.style.display = 'inline-block';\n",
       "            } else {\n",
       "                this.previousSibling.style.display = 'none';\n",
       "                this.parentNode.style.display = 'inline';\n",
       "            }\"\n",
       "            onmouseover=\"document.getElementById('_fb_qahftrxckafnafqofpva_ind_7').style.opacity = 1; document.getElementById('_fs_qahftrxckafnafqofpva_ind_7').style.opacity = 1;\"\n",
       "            onmouseout=\"document.getElementById('_fb_qahftrxckafnafqofpva_ind_7').style.opacity = 0; document.getElementById('_fs_qahftrxckafnafqofpva_ind_7').style.opacity = 0;\"\n",
       "        >$</div></div><div style='display: inline; text-align: center;'\n",
       "    ><div style='display: none; color: #999; padding-top: 0px; font-size: 12px;'>0.052</div\n",
       "        ><div id='_tp_qahftrxckafnafqofpva_ind_8'\n",
       "            style='display: inline; background: rgba(255.0, 13.0, 87.0, 0.4560903149138443); border-radius: 3px; padding: 0px'\n",
       "            onclick=\"\n",
       "            if (this.previousSibling.style.display == 'none') {\n",
       "                this.previousSibling.style.display = 'block';\n",
       "                this.parentNode.style.display = 'inline-block';\n",
       "            } else {\n",
       "                this.previousSibling.style.display = 'none';\n",
       "                this.parentNode.style.display = 'inline';\n",
       "            }\"\n",
       "            onmouseover=\"document.getElementById('_fb_qahftrxckafnafqofpva_ind_8').style.opacity = 1; document.getElementById('_fs_qahftrxckafnafqofpva_ind_8').style.opacity = 1;\"\n",
       "            onmouseout=\"document.getElementById('_fb_qahftrxckafnafqofpva_ind_8').style.opacity = 0; document.getElementById('_fs_qahftrxckafnafqofpva_ind_8').style.opacity = 0;\"\n",
       "        >210 </div></div><div style='display: inline; text-align: center;'\n",
       "    ><div style='display: none; color: #999; padding-top: 0px; font-size: 12px;'>0.031</div\n",
       "        ><div id='_tp_qahftrxckafnafqofpva_ind_9'\n",
       "            style='display: inline; background: rgba(255.0, 13.0, 87.0, 0.26690433749257286); border-radius: 3px; padding: 0px'\n",
       "            onclick=\"\n",
       "            if (this.previousSibling.style.display == 'none') {\n",
       "                this.previousSibling.style.display = 'block';\n",
       "                this.parentNode.style.display = 'inline-block';\n",
       "            } else {\n",
       "                this.previousSibling.style.display = 'none';\n",
       "                this.parentNode.style.display = 'inline';\n",
       "            }\"\n",
       "            onmouseover=\"document.getElementById('_fb_qahftrxckafnafqofpva_ind_9').style.opacity = 1; document.getElementById('_fs_qahftrxckafnafqofpva_ind_9').style.opacity = 1;\"\n",
       "            onmouseout=\"document.getElementById('_fb_qahftrxckafnafqofpva_ind_9').style.opacity = 0; document.getElementById('_fs_qahftrxckafnafqofpva_ind_9').style.opacity = 0;\"\n",
       "        >million </div></div><div style='display: inline; text-align: center;'\n",
       "    ><div style='display: none; color: #999; padding-top: 0px; font-size: 12px;'>0.039</div\n",
       "        ><div id='_tp_qahftrxckafnafqofpva_ind_10'\n",
       "            style='display: inline; background: rgba(255.0, 13.0, 87.0, 0.3457318280847692); border-radius: 3px; padding: 0px'\n",
       "            onclick=\"\n",
       "            if (this.previousSibling.style.display == 'none') {\n",
       "                this.previousSibling.style.display = 'block';\n",
       "                this.parentNode.style.display = 'inline-block';\n",
       "            } else {\n",
       "                this.previousSibling.style.display = 'none';\n",
       "                this.parentNode.style.display = 'inline';\n",
       "            }\"\n",
       "            onmouseover=\"document.getElementById('_fb_qahftrxckafnafqofpva_ind_10').style.opacity = 1; document.getElementById('_fs_qahftrxckafnafqofpva_ind_10').style.opacity = 1;\"\n",
       "            onmouseout=\"document.getElementById('_fb_qahftrxckafnafqofpva_ind_10').style.opacity = 0; document.getElementById('_fs_qahftrxckafnafqofpva_ind_10').style.opacity = 0;\"\n",
       "        >for </div></div><div style='display: inline; text-align: center;'\n",
       "    ><div style='display: none; color: #999; padding-top: 0px; font-size: 12px;'>0.068</div\n",
       "        ><div id='_tp_qahftrxckafnafqofpva_ind_11'\n",
       "            style='display: inline; background: rgba(255.0, 13.0, 87.0, 0.5979797979797981); border-radius: 3px; padding: 0px'\n",
       "            onclick=\"\n",
       "            if (this.previousSibling.style.display == 'none') {\n",
       "                this.previousSibling.style.display = 'block';\n",
       "                this.parentNode.style.display = 'inline-block';\n",
       "            } else {\n",
       "                this.previousSibling.style.display = 'none';\n",
       "                this.parentNode.style.display = 'inline';\n",
       "            }\"\n",
       "            onmouseover=\"document.getElementById('_fb_qahftrxckafnafqofpva_ind_11').style.opacity = 1; document.getElementById('_fs_qahftrxckafnafqofpva_ind_11').style.opacity = 1;\"\n",
       "            onmouseout=\"document.getElementById('_fb_qahftrxckafnafqofpva_ind_11').style.opacity = 0; document.getElementById('_fs_qahftrxckafnafqofpva_ind_11').style.opacity = 0;\"\n",
       "        >Iowa </div></div><div style='display: inline; text-align: center;'\n",
       "    ><div style='display: none; color: #999; padding-top: 0px; font-size: 12px;'>0.038</div\n",
       "        ><div id='_tp_qahftrxckafnafqofpva_ind_12'\n",
       "            style='display: inline; background: rgba(255.0, 13.0, 87.0, 0.33784907902554967); border-radius: 3px; padding: 0px'\n",
       "            onclick=\"\n",
       "            if (this.previousSibling.style.display == 'none') {\n",
       "                this.previousSibling.style.display = 'block';\n",
       "                this.parentNode.style.display = 'inline-block';\n",
       "            } else {\n",
       "                this.previousSibling.style.display = 'none';\n",
       "                this.parentNode.style.display = 'inline';\n",
       "            }\"\n",
       "            onmouseover=\"document.getElementById('_fb_qahftrxckafnafqofpva_ind_12').style.opacity = 1; document.getElementById('_fs_qahftrxckafnafqofpva_ind_12').style.opacity = 1;\"\n",
       "            onmouseout=\"document.getElementById('_fb_qahftrxckafnafqofpva_ind_12').style.opacity = 0; document.getElementById('_fs_qahftrxckafnafqofpva_ind_12').style.opacity = 0;\"\n",
       "        >broadband</div></div><div style='display: inline; text-align: center;'\n",
       "    ><div style='display: none; color: #999; padding-top: 0px; font-size: 12px;'>0.061</div\n",
       "        ><div id='_tp_qahftrxckafnafqofpva_ind_13'\n",
       "            style='display: inline; background: rgba(255.0, 13.0, 87.0, 0.5428005545652606); border-radius: 3px; padding: 0px'\n",
       "            onclick=\"\n",
       "            if (this.previousSibling.style.display == 'none') {\n",
       "                this.previousSibling.style.display = 'block';\n",
       "                this.parentNode.style.display = 'inline-block';\n",
       "            } else {\n",
       "                this.previousSibling.style.display = 'none';\n",
       "                this.parentNode.style.display = 'inline';\n",
       "            }\"\n",
       "            onmouseover=\"document.getElementById('_fb_qahftrxckafnafqofpva_ind_13').style.opacity = 1; document.getElementById('_fs_qahftrxckafnafqofpva_ind_13').style.opacity = 1;\"\n",
       "            onmouseout=\"document.getElementById('_fb_qahftrxckafnafqofpva_ind_13').style.opacity = 0; document.getElementById('_fs_qahftrxckafnafqofpva_ind_13').style.opacity = 0;\"\n",
       "        >, </div></div><div style='display: inline; text-align: center;'\n",
       "    ><div style='display: none; color: #999; padding-top: 0px; font-size: 12px;'>0.01 / 2</div\n",
       "        ><div id='_tp_qahftrxckafnafqofpva_ind_14'\n",
       "            style='display: inline; background: rgba(255.0, 13.0, 87.0, 0.08560110913052081); border-radius: 3px; padding: 0px'\n",
       "            onclick=\"\n",
       "            if (this.previousSibling.style.display == 'none') {\n",
       "                this.previousSibling.style.display = 'block';\n",
       "                this.parentNode.style.display = 'inline-block';\n",
       "            } else {\n",
       "                this.previousSibling.style.display = 'none';\n",
       "                this.parentNode.style.display = 'inline';\n",
       "            }\"\n",
       "            onmouseover=\"document.getElementById('_fb_qahftrxckafnafqofpva_ind_14').style.opacity = 1; document.getElementById('_fs_qahftrxckafnafqofpva_ind_14').style.opacity = 1;\"\n",
       "            onmouseout=\"document.getElementById('_fb_qahftrxckafnafqofpva_ind_14').style.opacity = 0; document.getElementById('_fs_qahftrxckafnafqofpva_ind_14').style.opacity = 0;\"\n",
       "        >“failed </div></div><div style='display: inline; text-align: center;'\n",
       "    ><div style='display: none; color: #999; padding-top: 0px; font-size: 12px;'>0.01</div\n",
       "        ><div id='_tp_qahftrxckafnafqofpva_ind_15'\n",
       "            style='display: inline; background: rgba(255.0, 13.0, 87.0, 0.08560110913052081); border-radius: 3px; padding: 0px'\n",
       "            onclick=\"\n",
       "            if (this.previousSibling.style.display == 'none') {\n",
       "                this.previousSibling.style.display = 'block';\n",
       "                this.parentNode.style.display = 'inline-block';\n",
       "            } else {\n",
       "                this.previousSibling.style.display = 'none';\n",
       "                this.parentNode.style.display = 'inline';\n",
       "            }\"\n",
       "            onmouseover=\"document.getElementById('_fb_qahftrxckafnafqofpva_ind_15').style.opacity = 1; document.getElementById('_fs_qahftrxckafnafqofpva_ind_15').style.opacity = 1;\"\n",
       "            onmouseout=\"document.getElementById('_fb_qahftrxckafnafqofpva_ind_15').style.opacity = 0; document.getElementById('_fs_qahftrxckafnafqofpva_ind_15').style.opacity = 0;\"\n",
       "        >to </div></div><div style='display: inline; text-align: center;'\n",
       "    ><div style='display: none; color: #999; padding-top: 0px; font-size: 12px;'>0.002</div\n",
       "        ><div id='_tp_qahftrxckafnafqofpva_ind_16'\n",
       "            style='display: inline; background: rgba(255.0, 13.0, 87.0, 0.014656367597544035); border-radius: 3px; padding: 0px'\n",
       "            onclick=\"\n",
       "            if (this.previousSibling.style.display == 'none') {\n",
       "                this.previousSibling.style.display = 'block';\n",
       "                this.parentNode.style.display = 'inline-block';\n",
       "            } else {\n",
       "                this.previousSibling.style.display = 'none';\n",
       "                this.parentNode.style.display = 'inline';\n",
       "            }\"\n",
       "            onmouseover=\"document.getElementById('_fb_qahftrxckafnafqofpva_ind_16').style.opacity = 1; document.getElementById('_fs_qahftrxckafnafqofpva_ind_16').style.opacity = 1;\"\n",
       "            onmouseout=\"document.getElementById('_fb_qahftrxckafnafqofpva_ind_16').style.opacity = 0; document.getElementById('_fs_qahftrxckafnafqofpva_ind_16').style.opacity = 0;\"\n",
       "        >mention </div></div><div style='display: inline; text-align: center;'\n",
       "    ><div style='display: none; color: #999; padding-top: 0px; font-size: 12px;'>0.003 / 2</div\n",
       "        ><div id='_tp_qahftrxckafnafqofpva_ind_17'\n",
       "            style='display: inline; background: rgba(255.0, 13.0, 87.0, 0.02253911665676371); border-radius: 3px; padding: 0px'\n",
       "            onclick=\"\n",
       "            if (this.previousSibling.style.display == 'none') {\n",
       "                this.previousSibling.style.display = 'block';\n",
       "                this.parentNode.style.display = 'inline-block';\n",
       "            } else {\n",
       "                this.previousSibling.style.display = 'none';\n",
       "                this.parentNode.style.display = 'inline';\n",
       "            }\"\n",
       "            onmouseover=\"document.getElementById('_fb_qahftrxckafnafqofpva_ind_17').style.opacity = 1; document.getElementById('_fs_qahftrxckafnafqofpva_ind_17').style.opacity = 1;\"\n",
       "            onmouseout=\"document.getElementById('_fb_qahftrxckafnafqofpva_ind_17').style.opacity = 0; document.getElementById('_fs_qahftrxckafnafqofpva_ind_17').style.opacity = 0;\"\n",
       "        >these are </div></div><div style='display: inline; text-align: center;'\n",
       "    ><div style='display: none; color: #999; padding-top: 0px; font-size: 12px;'>-0.001</div\n",
       "        ><div id='_tp_qahftrxckafnafqofpva_ind_18'\n",
       "            style='display: inline; background: rgba(30.0, 136.0, 229.0, 0.006773618538324436); border-radius: 3px; padding: 0px'\n",
       "            onclick=\"\n",
       "            if (this.previousSibling.style.display == 'none') {\n",
       "                this.previousSibling.style.display = 'block';\n",
       "                this.parentNode.style.display = 'inline-block';\n",
       "            } else {\n",
       "                this.previousSibling.style.display = 'none';\n",
       "                this.parentNode.style.display = 'inline';\n",
       "            }\"\n",
       "            onmouseover=\"document.getElementById('_fb_qahftrxckafnafqofpva_ind_18').style.opacity = 1; document.getElementById('_fs_qahftrxckafnafqofpva_ind_18').style.opacity = 1;\"\n",
       "            onmouseout=\"document.getElementById('_fb_qahftrxckafnafqofpva_ind_18').style.opacity = 0; document.getElementById('_fs_qahftrxckafnafqofpva_ind_18').style.opacity = 0;\"\n",
       "        >actually </div></div><div style='display: inline; text-align: center;'\n",
       "    ><div style='display: none; color: #999; padding-top: 0px; font-size: 12px;'>0.028</div\n",
       "        ><div id='_tp_qahftrxckafnafqofpva_ind_19'\n",
       "            style='display: inline; background: rgba(255.0, 13.0, 87.0, 0.2511388393741335); border-radius: 3px; padding: 0px'\n",
       "            onclick=\"\n",
       "            if (this.previousSibling.style.display == 'none') {\n",
       "                this.previousSibling.style.display = 'block';\n",
       "                this.parentNode.style.display = 'inline-block';\n",
       "            } else {\n",
       "                this.previousSibling.style.display = 'none';\n",
       "                this.parentNode.style.display = 'inline';\n",
       "            }\"\n",
       "            onmouseover=\"document.getElementById('_fb_qahftrxckafnafqofpva_ind_19').style.opacity = 1; document.getElementById('_fs_qahftrxckafnafqofpva_ind_19').style.opacity = 1;\"\n",
       "            onmouseout=\"document.getElementById('_fb_qahftrxckafnafqofpva_ind_19').style.opacity = 0; document.getElementById('_fs_qahftrxckafnafqofpva_ind_19').style.opacity = 0;\"\n",
       "        >federal </div></div><div style='display: inline; text-align: center;'\n",
       "    ><div style='display: none; color: #999; padding-top: 0px; font-size: 12px;'>0.042</div\n",
       "        ><div id='_tp_qahftrxckafnafqofpva_ind_20'\n",
       "            style='display: inline; background: rgba(255.0, 13.0, 87.0, 0.3693800752624282); border-radius: 3px; padding: 0px'\n",
       "            onclick=\"\n",
       "            if (this.previousSibling.style.display == 'none') {\n",
       "                this.previousSibling.style.display = 'block';\n",
       "                this.parentNode.style.display = 'inline-block';\n",
       "            } else {\n",
       "                this.previousSibling.style.display = 'none';\n",
       "                this.parentNode.style.display = 'inline';\n",
       "            }\"\n",
       "            onmouseover=\"document.getElementById('_fb_qahftrxckafnafqofpva_ind_20').style.opacity = 1; document.getElementById('_fs_qahftrxckafnafqofpva_ind_20').style.opacity = 1;\"\n",
       "            onmouseout=\"document.getElementById('_fb_qahftrxckafnafqofpva_ind_20').style.opacity = 0; document.getElementById('_fs_qahftrxckafnafqofpva_ind_20').style.opacity = 0;\"\n",
       "        >funds </div></div><div style='display: inline; text-align: center;'\n",
       "    ><div style='display: none; color: #999; padding-top: 0px; font-size: 12px;'>0.008</div\n",
       "        ><div id='_tp_qahftrxckafnafqofpva_ind_21'\n",
       "            style='display: inline; background: rgba(255.0, 13.0, 87.0, 0.06195286195286207); border-radius: 3px; padding: 0px'\n",
       "            onclick=\"\n",
       "            if (this.previousSibling.style.display == 'none') {\n",
       "                this.previousSibling.style.display = 'block';\n",
       "                this.parentNode.style.display = 'inline-block';\n",
       "            } else {\n",
       "                this.previousSibling.style.display = 'none';\n",
       "                this.parentNode.style.display = 'inline';\n",
       "            }\"\n",
       "            onmouseover=\"document.getElementById('_fb_qahftrxckafnafqofpva_ind_21').style.opacity = 1; document.getElementById('_fs_qahftrxckafnafqofpva_ind_21').style.opacity = 1;\"\n",
       "            onmouseout=\"document.getElementById('_fb_qahftrxckafnafqofpva_ind_21').style.opacity = 0; document.getElementById('_fs_qahftrxckafnafqofpva_ind_21').style.opacity = 0;\"\n",
       "        >approved </div></div><div style='display: inline; text-align: center;'\n",
       "    ><div style='display: none; color: #999; padding-top: 0px; font-size: 12px;'>0.041</div\n",
       "        ><div id='_tp_qahftrxckafnafqofpva_ind_22'\n",
       "            style='display: inline; background: rgba(255.0, 13.0, 87.0, 0.36149732620320857); border-radius: 3px; padding: 0px'\n",
       "            onclick=\"\n",
       "            if (this.previousSibling.style.display == 'none') {\n",
       "                this.previousSibling.style.display = 'block';\n",
       "                this.parentNode.style.display = 'inline-block';\n",
       "            } else {\n",
       "                this.previousSibling.style.display = 'none';\n",
       "                this.parentNode.style.display = 'inline';\n",
       "            }\"\n",
       "            onmouseover=\"document.getElementById('_fb_qahftrxckafnafqofpva_ind_22').style.opacity = 1; document.getElementById('_fs_qahftrxckafnafqofpva_ind_22').style.opacity = 1;\"\n",
       "            onmouseout=\"document.getElementById('_fb_qahftrxckafnafqofpva_ind_22').style.opacity = 0; document.getElementById('_fs_qahftrxckafnafqofpva_ind_22').style.opacity = 0;\"\n",
       "        >by </div></div><div style='display: inline; text-align: center;'\n",
       "    ><div style='display: none; color: #999; padding-top: 0px; font-size: 12px;'>0.056</div\n",
       "        ><div id='_tp_qahftrxckafnafqofpva_ind_23'\n",
       "            style='display: inline; background: rgba(255.0, 13.0, 87.0, 0.49550406020994264); border-radius: 3px; padding: 0px'\n",
       "            onclick=\"\n",
       "            if (this.previousSibling.style.display == 'none') {\n",
       "                this.previousSibling.style.display = 'block';\n",
       "                this.parentNode.style.display = 'inline-block';\n",
       "            } else {\n",
       "                this.previousSibling.style.display = 'none';\n",
       "                this.parentNode.style.display = 'inline';\n",
       "            }\"\n",
       "            onmouseover=\"document.getElementById('_fb_qahftrxckafnafqofpva_ind_23').style.opacity = 1; document.getElementById('_fs_qahftrxckafnafqofpva_ind_23').style.opacity = 1;\"\n",
       "            onmouseout=\"document.getElementById('_fb_qahftrxckafnafqofpva_ind_23').style.opacity = 0; document.getElementById('_fs_qahftrxckafnafqofpva_ind_23').style.opacity = 0;\"\n",
       "        >Rep</div></div><div style='display: inline; text-align: center;'\n",
       "    ><div style='display: none; color: #999; padding-top: 0px; font-size: 12px;'>0.113</div\n",
       "        ><div id='_tp_qahftrxckafnafqofpva_ind_24'\n",
       "            style='display: inline; background: rgba(255.0, 13.0, 87.0, 1.0); border-radius: 3px; padding: 0px'\n",
       "            onclick=\"\n",
       "            if (this.previousSibling.style.display == 'none') {\n",
       "                this.previousSibling.style.display = 'block';\n",
       "                this.parentNode.style.display = 'inline-block';\n",
       "            } else {\n",
       "                this.previousSibling.style.display = 'none';\n",
       "                this.parentNode.style.display = 'inline';\n",
       "            }\"\n",
       "            onmouseover=\"document.getElementById('_fb_qahftrxckafnafqofpva_ind_24').style.opacity = 1; document.getElementById('_fs_qahftrxckafnafqofpva_ind_24').style.opacity = 1;\"\n",
       "            onmouseout=\"document.getElementById('_fb_qahftrxckafnafqofpva_ind_24').style.opacity = 0; document.getElementById('_fs_qahftrxckafnafqofpva_ind_24').style.opacity = 0;\"\n",
       "        >. </div></div><div style='display: inline; text-align: center;'\n",
       "    ><div style='display: none; color: #999; padding-top: 0px; font-size: 12px;'>0.002 / 4</div\n",
       "        ><div id='_tp_qahftrxckafnafqofpva_ind_25'\n",
       "            style='display: inline; background: rgba(255.0, 13.0, 87.0, 0.014656367597544035); border-radius: 3px; padding: 0px'\n",
       "            onclick=\"\n",
       "            if (this.previousSibling.style.display == 'none') {\n",
       "                this.previousSibling.style.display = 'block';\n",
       "                this.parentNode.style.display = 'inline-block';\n",
       "            } else {\n",
       "                this.previousSibling.style.display = 'none';\n",
       "                this.parentNode.style.display = 'inline';\n",
       "            }\"\n",
       "            onmouseover=\"document.getElementById('_fb_qahftrxckafnafqofpva_ind_25').style.opacity = 1; document.getElementById('_fs_qahftrxckafnafqofpva_ind_25').style.opacity = 1;\"\n",
       "            onmouseout=\"document.getElementById('_fb_qahftrxckafnafqofpva_ind_25').style.opacity = 0; document.getElementById('_fs_qahftrxckafnafqofpva_ind_25').style.opacity = 0;\"\n",
       "        >Cindy Axne and </div></div><div style='display: inline; text-align: center;'\n",
       "    ><div style='display: none; color: #999; padding-top: 0px; font-size: 12px;'>0.008 / 4</div\n",
       "        ><div id='_tp_qahftrxckafnafqofpva_ind_26'\n",
       "            style='display: inline; background: rgba(255.0, 13.0, 87.0, 0.06983561101208159); border-radius: 3px; padding: 0px'\n",
       "            onclick=\"\n",
       "            if (this.previousSibling.style.display == 'none') {\n",
       "                this.previousSibling.style.display = 'block';\n",
       "                this.parentNode.style.display = 'inline-block';\n",
       "            } else {\n",
       "                this.previousSibling.style.display = 'none';\n",
       "                this.parentNode.style.display = 'inline';\n",
       "            }\"\n",
       "            onmouseover=\"document.getElementById('_fb_qahftrxckafnafqofpva_ind_26').style.opacity = 1; document.getElementById('_fs_qahftrxckafnafqofpva_ind_26').style.opacity = 1;\"\n",
       "            onmouseout=\"document.getElementById('_fb_qahftrxckafnafqofpva_ind_26').style.opacity = 0; document.getElementById('_fs_qahftrxckafnafqofpva_ind_26').style.opacity = 0;\"\n",
       "        >signed into law by </div></div><div style='display: inline; text-align: center;'\n",
       "    ><div style='display: none; color: #999; padding-top: 0px; font-size: 12px;'>0.005 / 5</div\n",
       "        ><div id='_tp_qahftrxckafnafqofpva_ind_27'\n",
       "            style='display: inline; background: rgba(255.0, 13.0, 87.0, 0.03830461477520289); border-radius: 3px; padding: 0px'\n",
       "            onclick=\"\n",
       "            if (this.previousSibling.style.display == 'none') {\n",
       "                this.previousSibling.style.display = 'block';\n",
       "                this.parentNode.style.display = 'inline-block';\n",
       "            } else {\n",
       "                this.previousSibling.style.display = 'none';\n",
       "                this.parentNode.style.display = 'inline';\n",
       "            }\"\n",
       "            onmouseover=\"document.getElementById('_fb_qahftrxckafnafqofpva_ind_27').style.opacity = 1; document.getElementById('_fs_qahftrxckafnafqofpva_ind_27').style.opacity = 1;\"\n",
       "            onmouseout=\"document.getElementById('_fb_qahftrxckafnafqofpva_ind_27').style.opacity = 0; document.getElementById('_fs_qahftrxckafnafqofpva_ind_27').style.opacity = 0;\"\n",
       "        >President Joe Biden.</div></div><div style='display: inline; text-align: center;'\n",
       "    ><div style='display: none; color: #999; padding-top: 0px; font-size: 12px;'>0.0</div\n",
       "        ><div id='_tp_qahftrxckafnafqofpva_ind_28'\n",
       "            style='display: inline; background: rgba(230.2941176470614, 26.505882352939775, 102.59215686274348, 0.0); border-radius: 3px; padding: 0px'\n",
       "            onclick=\"\n",
       "            if (this.previousSibling.style.display == 'none') {\n",
       "                this.previousSibling.style.display = 'block';\n",
       "                this.parentNode.style.display = 'inline-block';\n",
       "            } else {\n",
       "                this.previousSibling.style.display = 'none';\n",
       "                this.parentNode.style.display = 'inline';\n",
       "            }\"\n",
       "            onmouseover=\"document.getElementById('_fb_qahftrxckafnafqofpva_ind_28').style.opacity = 1; document.getElementById('_fs_qahftrxckafnafqofpva_ind_28').style.opacity = 1;\"\n",
       "            onmouseout=\"document.getElementById('_fb_qahftrxckafnafqofpva_ind_28').style.opacity = 0; document.getElementById('_fs_qahftrxckafnafqofpva_ind_28').style.opacity = 0;\"\n",
       "        ></div></div></div>"
      ],
      "text/plain": [
       "<IPython.core.display.HTML object>"
      ]
     },
     "metadata": {},
     "output_type": "display_data"
    }
   ],
   "source": [
    "# Create the visualization of the explainer in the particular instance\n",
    "text = \"Gov. Kim Reynolds, touting $210 million for Iowa broadband, “failed to mention these are actually federal funds approved by Rep. Cindy Axne and signed into law by President Joe Biden.\"\n",
    "visualizeExplanation(explainer,text)"
   ]
  },
  {
   "attachments": {},
   "cell_type": "markdown",
   "metadata": {},
   "source": [
    "## London Hotels Feedback"
   ]
  },
  {
   "cell_type": "code",
   "execution_count": null,
   "metadata": {},
   "outputs": [],
   "source": [
    "csv_path = './data/trip_advisor_data.csv'\n",
    "df = pd.read_csv(csv_path, sep=\",\")\n",
    "\n",
    "# Set the name of the file containing the dataset to be used\n",
    "data = csv_path\n",
    "text_column = 'review_coment'\n",
    "target_column = 'user_rating'\n",
    "pretrained_model = 'dccuchile/bert-base-spanish-wwm-uncased'\n",
    "\n",
    "cw = {k:(max(dict(df[target_column].value_counts()).values())/v) for k,v in dict(df[target_column].value_counts()).items()}\n",
    "\n",
    "counts = [dict(df[target_column].value_counts())[0], dict(df[target_column].value_counts())[1]]\n",
    "n_samples = counts[0] + counts[1]\n",
    "n_classes = len(counts)\n",
    "class_weights = [n_samples / (n_classes * n_samplesj) for n_samplesj in counts]\n",
    "cw=class_weights\n",
    "\n",
    "# Load the tokenizer to be used for processing the text data\n",
    "tokenizer = AutoTokenizer.from_pretrained(pretrained_model) \n",
    "\n",
    "# Define the features of the dataset\n",
    "features = Features({text_column: Value('string'),\n",
    "                     target_column: ClassLabel(names=['0','1'])})\n",
    "\n",
    "# Load the dataset from the CSV file using the Hugging Face library\n",
    "dataset_raw = load_dataset('csv', data_files=data, delimiter=',', features=features)[\"train\"]\n",
    "\n",
    "# Shuffle the dataset randomly and split it into training and testing sets\n",
    "dataset = dataset_raw.shuffle(seed=42).train_test_split(test_size=0.15)\n",
    "\n",
    "# Transform the dataset by mapping the 'user_rating' column to a new column called 'labels'\n",
    "# The 'user_rating' column is then removed from the dataset\n",
    "dataset = dataset.map(lambda examples: {'labels': examples[target_column]}, remove_columns=[target_column])\n",
    "\n",
    "# Tokenize the text data in the dataset using the tokenizer loaded earlier\n",
    "# The tokenized dataset is created by mapping the original dataset to a new dataset, with the text data being tokenized in the process\n",
    "# The `batched=True` argument indicates that the dataset should be processed in batches to improve performance\n",
    "tokenized_dataset = dataset.map(lambda x: tokenize_function(x,tokenizer=tokenizer,colname=text_column), batched=True)\n",
    "\n",
    "# Create a data collator, which is used to prepare the input data for training the model\n",
    "# The data collator is created using the tokenizer loaded earlier\n",
    "data_collator = DataCollatorWithPadding(tokenizer=tokenizer)\n",
    "\n",
    "# Load the pre-trained DistilBERT model for sequence classification\n",
    "# The `num_labels=2` argument specifies that the model should be trained to classify the text data into two labels: true (label '1') or false (label '0')\n",
    "model_bool = AutoModelForSequenceClassification.from_pretrained(pretrained_model, num_labels=2)\n",
    "\n",
    "# Set the training arguments for the model\n",
    "training_args = TrainingArguments(\n",
    "    output_dir=\"./models/tripadvisor\", \n",
    "    evaluation_strategy=\"epoch\",\n",
    "    learning_rate=2e-5,\n",
    "    per_device_train_batch_size=128,\n",
    "    per_device_eval_batch_size=128,\n",
    "    num_train_epochs=5\n",
    ")\n",
    "\n",
    "start_time = time.time()\n",
    "trainer_bool = CustomTrainer(\n",
    "    model_bool,\n",
    "    training_args,\n",
    "    train_dataset=tokenized_dataset[\"train\"],\n",
    "    eval_dataset=tokenized_dataset[\"test\"],\n",
    "    data_collator=data_collator,\n",
    "    tokenizer=tokenizer,\n",
    "    compute_metrics=compute_metrics,\n",
    ")\n",
    "eval = trainer_bool.evaluate()\n",
    "train = trainer_bool.train()\n",
    "end_time = time.time()\n",
    "print('----------------------------------------------------------------------')\n",
    "print('Training process suceddfully ended in',end_time - start_time,'seconds')\n",
    "print('----------------------------------------------------------------------')\n",
    "\n",
    "# Save the model as file\n",
    "torch.save(model_bool,'models/tripadvisor/model_trip.pt')\n",
    "\n",
    "print('----------------------------------------------------------------------')\n",
    "print('Model Saved')\n",
    "print('----------------------------------------------------------------------')"
   ]
  },
  {
   "cell_type": "code",
   "execution_count": null,
   "metadata": {},
   "outputs": [],
   "source": [
    "# Generate Explainer from model\n",
    "model_path = './models/tripadvisor/model_trip.pt'\n",
    "explainer = generateExplainer(model_path,'dccuchile/bert-base-spanish-wwm-uncased')"
   ]
  },
  {
   "cell_type": "code",
   "execution_count": null,
   "metadata": {},
   "outputs": [],
   "source": [
    "# Create the visualization of the explainer in the particular instance\n",
    "text = \"Horrible experencia en este hotel, basicamente el peor verano de mi vida. Definitivamente no volveré jamás\"\n",
    "visualizeExplanation(explainer,text)"
   ]
  }
 ],
 "metadata": {
  "kernelspec": {
   "display_name": "dlenv",
   "language": "python",
   "name": "python3"
  },
  "language_info": {
   "codemirror_mode": {
    "name": "ipython",
    "version": 3
   },
   "file_extension": ".py",
   "mimetype": "text/x-python",
   "name": "python",
   "nbconvert_exporter": "python",
   "pygments_lexer": "ipython3",
   "version": "3.8.16"
  },
  "orig_nbformat": 4
 },
 "nbformat": 4,
 "nbformat_minor": 2
}
